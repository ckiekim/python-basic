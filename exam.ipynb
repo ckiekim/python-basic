{
 "cells": [
  {
   "cell_type": "markdown",
   "metadata": {},
   "source": [
    "# 실기 평가 - 프로그래밍 기초"
   ]
  },
  {
   "cell_type": "markdown",
   "metadata": {},
   "source": [
    "### 1. 두개의 산 그리기"
   ]
  },
  {
   "cell_type": "code",
   "execution_count": 47,
   "metadata": {},
   "outputs": [
    {
     "name": "stdout",
     "output_type": "stream",
     "text": [
      "   #       #\n",
      "  ###     ###\n",
      " #####   #####\n",
      "####### #######\n"
     ]
    }
   ],
   "source": [
    "for i in range(1, 5):\n",
    "    for k in range(4-i, 0, -1):\n",
    "        print(' ', end='')\n",
    "    for k in range(1, 2*i):\n",
    "        print('#', end='')\n",
    "    for k in range(4-i, -1, -1):\n",
    "        print(' ', end='')\n",
    "    for k in range(4-i, 0, -1):\n",
    "        print(' ', end='')\n",
    "    for k in range(1, 2*i):\n",
    "        print('#', end='')\n",
    "    print()"
   ]
  },
  {
   "cell_type": "markdown",
   "metadata": {},
   "source": [
    "### 2. 지뢰 찾기"
   ]
  },
  {
   "cell_type": "code",
   "execution_count": 73,
   "metadata": {},
   "outputs": [],
   "source": [
    "import random\n",
    "def create_mine(n):\n",
    "    mine = []\n",
    "    for i in range(n):\n",
    "        row = []\n",
    "        for k in range(n):\n",
    "            row.append(random.choice('.#'))\n",
    "        mine.append(row)\n",
    "        \n",
    "    for i in range(n):\n",
    "        for k in range(n):\n",
    "            print(mine[i][k], end='')\n",
    "        print()\n",
    "        \n",
    "    return mine"
   ]
  },
  {
   "cell_type": "code",
   "execution_count": 74,
   "metadata": {},
   "outputs": [
    {
     "name": "stdout",
     "output_type": "stream",
     "text": [
      ".##.#\n",
      "#.#..\n",
      "#..##\n",
      ".###.\n",
      ".##..\n",
      "\n",
      "2##3#\n",
      "#5#53\n",
      "#55##\n",
      "3###3\n",
      "2##31\n"
     ]
    }
   ],
   "source": [
    "size = 5\n",
    "mine = create_mine(size)\n",
    "pad_mine = []\n",
    "pad_mine.append(['.' for i in range(size+2)])\n",
    "for i in range(size):\n",
    "    pad_row = []\n",
    "    pad_row.append('.')\n",
    "    for k in range(size):\n",
    "        pad_row.append(mine[i][k])\n",
    "    pad_row.append('.')\n",
    "    pad_mine.append(pad_row)\n",
    "pad_mine.append(['.' for i in range(size+2)])\n",
    "\n",
    "print()\n",
    "for i in range(1, size+1):\n",
    "    for k in range(1, size+1):\n",
    "        if pad_mine[i][k] == '#':\n",
    "            print('#', end='')\n",
    "        else:\n",
    "            mines = pad_mine[i-1][k-1] + pad_mine[i-1][k] + pad_mine[i-1][k+1] + \\\n",
    "                    pad_mine[i][k-1] + pad_mine[i][k] + pad_mine[i][k+1] + \\\n",
    "                    pad_mine[i+1][k-1] + pad_mine[i+1][k] + pad_mine[i+1][k+1]\n",
    "            print(mines.count('#'), end='')\n",
    "    print()\n",
    "        "
   ]
  },
  {
   "cell_type": "markdown",
   "metadata": {},
   "source": [
    "### 3. tanh 그래프 그리기"
   ]
  },
  {
   "cell_type": "code",
   "execution_count": 70,
   "metadata": {},
   "outputs": [],
   "source": [
    "import numpy as np\n",
    "import matplotlib as mpl\n",
    "import matplotlib.pyplot as plt\n",
    "mpl.rcParams['axes.unicode_minus'] = False    # minus 표시\n",
    "mpl.rc('font', family='Malgun Gothic')\n",
    "%matplotlib inline\n",
    "plt.rcParams[\"figure.figsize\"] = (10,6)\n",
    "plt.rcParams[\"font.size\"] = 14"
   ]
  },
  {
   "cell_type": "code",
   "execution_count": 72,
   "metadata": {},
   "outputs": [
    {
     "data": {
      "image/png": "[encoded data removed]",
      "text/plain": [
       "<Figure size 720x432 with 1 Axes>"
      ]
     },
     "metadata": {
      "needs_background": "light"
     },
     "output_type": "display_data"
    }
   ],
   "source": [
    "xdata = np.linspace(-2 * np.pi, 2* np.pi, 600)\n",
    "ydata = np.tanh(xdata)\n",
    "plt.plot(xdata, ydata, lw=2)\n",
    "plt.ylim(-1.1, 1.1)\n",
    "plt.title('하이퍼볼릭 탄젠트(tanh) 그래프')\n",
    "plt.axhline(y=0, color='k', linewidth=0.5)    # 수평선(x축)\n",
    "plt.axhline(y=1, color='k', linewidth=0.5)\n",
    "plt.axhline(y=-1, color='k', linewidth=0.5)\n",
    "plt.axvline(x=0, color='k', linewidth=0.5)    # 수직선(y축)\n",
    "plt.show()"
   ]
  },
  {
   "cell_type": "markdown",
   "metadata": {},
   "source": [
    "### 4. 멜론 사이트 크롤링"
   ]
  },
  {
   "cell_type": "code",
   "execution_count": 1,
   "metadata": {},
   "outputs": [],
   "source": [
    "from bs4 import BeautifulSoup \n",
    "from urllib.request import urlopen"
   ]
  },
  {
   "cell_type": "code",
   "execution_count": 42,
   "metadata": {},
   "outputs": [],
   "source": [
    "url = 'https://www.melon.com/chart/month/index.htm?classCd=DM0000#params%5Bidx%5D=1&params%5BrankMonth%5D=202005&params%5BisFirstDate%5D=false&params%5BisLastDate%5D=true'"
   ]
  },
  {
   "cell_type": "code",
   "execution_count": 3,
   "metadata": {},
   "outputs": [],
   "source": [
    "import requests"
   ]
  },
  {
   "cell_type": "code",
   "execution_count": 6,
   "metadata": {},
   "outputs": [],
   "source": [
    "header = {'User-Agent': 'Mozilla/5.0 (Windows NT 6.3; Trident/7.0; rv:11.0) like Gecko'}\n",
    "req = requests.get(url, headers = header) \n",
    "html = req.text"
   ]
  },
  {
   "cell_type": "code",
   "execution_count": 9,
   "metadata": {},
   "outputs": [],
   "source": [
    "soup = BeautifulSoup(html, 'html.parser')"
   ]
  },
  {
   "cell_type": "code",
   "execution_count": 11,
   "metadata": {},
   "outputs": [
    {
     "data": {
      "text/plain": [
       "101"
      ]
     },
     "execution_count": 11,
     "metadata": {},
     "output_type": "execute_result"
    }
   ],
   "source": [
    "trs = soup.find_all('tr')\n",
    "len(trs)"
   ]
  },
  {
   "cell_type": "code",
   "execution_count": 12,
   "metadata": {},
   "outputs": [
    {
     "data": {
      "text/plain": [
       "<tr>\n",
       "<th scope=\"col\">\n",
       "<div class=\"wrap t_right\"><input class=\"input_check d_checkall\" title=\"곡 목록 전체 선택\" type=\"checkbox\"/></div>\n",
       "</th>\n",
       "<th scope=\"col\">\n",
       "<div class=\"wrap t_center\"><span class=\"rank\">순위</span></div>\n",
       "</th>\n",
       "<th scope=\"col\">\n",
       "<div class=\"wrap none\">순위등락</div>\n",
       "</th>\n",
       "<th scope=\"col\">\n",
       "<div class=\"wrap none\">앨범이미지</div>\n",
       "</th>\n",
       "<th scope=\"col\">\n",
       "<div class=\"wrap none\">곡 상세가기</div>\n",
       "</th>\n",
       "<th scope=\"col\">\n",
       "<div class=\"wrap pd_l_12\">곡정보</div>\n",
       "</th>\n",
       "<th scope=\"col\">\n",
       "<div class=\"wrap pd_l_12\">앨범</div>\n",
       "</th>\n",
       "<th scope=\"col\">\n",
       "<div class=\"wrap pd_l_30\">좋아요</div>\n",
       "</th>\n",
       "<th scope=\"col\">\n",
       "<div class=\"wrap t_center\">듣기</div>\n",
       "</th>\n",
       "<th scope=\"col\">\n",
       "<div class=\"wrap t_center\">담기</div>\n",
       "</th>\n",
       "<th scope=\"col\">\n",
       "<div class=\"wrap t_center\">다운</div>\n",
       "</th>\n",
       "<th scope=\"col\">\n",
       "<div class=\"wrap t_center\">뮤비</div>\n",
       "</th>\n",
       "</tr>"
      ]
     },
     "execution_count": 12,
     "metadata": {},
     "output_type": "execute_result"
    }
   ],
   "source": [
    "trs[0]"
   ]
  },
  {
   "cell_type": "code",
   "execution_count": 38,
   "metadata": {},
   "outputs": [],
   "source": [
    "rank = []\n",
    "song = []\n",
    "singer = []\n",
    "album = []\n",
    "last = []\n",
    "tr = trs[1]"
   ]
  },
  {
   "cell_type": "code",
   "execution_count": 15,
   "metadata": {},
   "outputs": [
    {
     "data": {
      "text/plain": [
       "'1'"
      ]
     },
     "execution_count": 15,
     "metadata": {},
     "output_type": "execute_result"
    }
   ],
   "source": [
    "tr.find(class_='rank').get_text()"
   ]
  },
  {
   "cell_type": "code",
   "execution_count": 16,
   "metadata": {},
   "outputs": [
    {
     "data": {
      "text/plain": [
       "'에잇(Prod.&Feat. SUGA of BTS)'"
      ]
     },
     "execution_count": 16,
     "metadata": {},
     "output_type": "execute_result"
    }
   ],
   "source": [
    "aa = tr.find(class_='wrap_song_info').find_all('a')\n",
    "aa[0].get_text()"
   ]
  },
  {
   "cell_type": "code",
   "execution_count": 17,
   "metadata": {},
   "outputs": [
    {
     "data": {
      "text/plain": [
       "'아이유'"
      ]
     },
     "execution_count": 17,
     "metadata": {},
     "output_type": "execute_result"
    }
   ],
   "source": [
    "aa[1].get_text()"
   ]
  },
  {
   "cell_type": "code",
   "execution_count": 18,
   "metadata": {},
   "outputs": [
    {
     "data": {
      "text/plain": [
       "'에잇'"
      ]
     },
     "execution_count": 18,
     "metadata": {},
     "output_type": "execute_result"
    }
   ],
   "source": [
    "tr.find_all(class_='wrap_song_info')[1].find('a').get_text()"
   ]
  },
  {
   "cell_type": "code",
   "execution_count": 19,
   "metadata": {},
   "outputs": [
    {
     "data": {
      "text/plain": [
       "'\\n\\n순위 진입\\n\\n'"
      ]
     },
     "execution_count": 19,
     "metadata": {},
     "output_type": "execute_result"
    }
   ],
   "source": [
    "tr.find_all('td')[2].get_text()"
   ]
  },
  {
   "cell_type": "code",
   "execution_count": 39,
   "metadata": {},
   "outputs": [],
   "source": [
    "for i in range(1,101):\n",
    "    tr = trs[i]\n",
    "    number = int(tr.find(class_='rank').get_text())\n",
    "    rank.append(number)\n",
    "    aa = tr.find(class_='wrap_song_info').find_all('a')\n",
    "    song.append(aa[0].get_text())\n",
    "    singer.append(aa[1].get_text())\n",
    "    album.append(tr.find_all(class_='wrap_song_info')[1].find('a').get_text())\n",
    "    text = tr.find_all('td')[2].get_text()\n",
    "    text = text.replace('\\n\\n','')\n",
    "    text = text.replace('\\n', '*')\n",
    "    if text == '순위 진입':\n",
    "        last_rank = -1\n",
    "    elif text == '순위 동일':\n",
    "        last_rank = number\n",
    "    else:\n",
    "        tmp = text.split('*')\n",
    "        if '상승' in tmp[0]:\n",
    "            last_rank = number + int(tmp[1])\n",
    "        else:\n",
    "            last_rank = number - int(tmp[1])\n",
    "    last.append(last_rank)"
   ]
  },
  {
   "cell_type": "code",
   "execution_count": 23,
   "metadata": {},
   "outputs": [
    {
     "name": "stdout",
     "output_type": "stream",
     "text": [
      "['1', '2', '3', '4', '5', '6', '7', '8', '9', '10', '11', '12', '13', '14', '15', '16', '17', '18', '19', '20', '21', '22', '23', '24', '25', '26', '27', '28', '29', '30', '31', '32', '33', '34', '35', '36', '37', '38', '39', '40', '41', '42', '43', '44', '45', '46', '47', '48', '49', '50', '51', '52', '53', '54', '55', '56', '57', '58', '59', '60', '61', '62', '63', '64', '65', '66', '67', '68', '69', '70', '71', '72', '73', '74', '75', '76', '77', '78', '79', '80', '81', '82', '83', '84', '85', '86', '87', '88', '89', '90', '91', '92', '93', '94', '95', '96', '97', '98', '99', '100']\n"
     ]
    }
   ],
   "source": [
    "print(rank)"
   ]
  },
  {
   "cell_type": "code",
   "execution_count": 24,
   "metadata": {},
   "outputs": [
    {
     "name": "stdout",
     "output_type": "stream",
     "text": [
      "['에잇(Prod.&Feat. SUGA of BTS)', '아로하', '살짝 설렜어 (Nonstop)', '나비와 고양이 (feat.백현 (BAEKHYUN))', '시작', '처음처럼', '덤더럼(Dumhdurum)', '좋은 사람 있으면 소개시켜줘', '흔들리는 꽃들 속에서 네 샴푸향이 느껴진거야', 'Happy', 'ON', '아무노래', 'METEOR', 'Blueming', '우리 만남이', '그때 그 아인', '돌덩이', '작은 것들을 위한 시 (Boy With Luv) (Feat. Halsey)', '사랑하게 될 줄 알았어', '마음을 드려요', '화려하지 않은 고백', '그대 고운 내사랑', '늦은 밤 너의 집 앞 골목길에서', 'WANNABE', 'Dolphin', 'Psycho', '반만', '00:00 (Zero O’Clock)', '어떻게 지내 (Prod. By VAN.C)', 'Stay Tonight', '내 눈물 모아', '오늘도 빛나는 너에게 (To You My Light) (Feat.이라온)', '모든 날, 모든 순간 (Every day, Every Moment)', '너를 사랑하고 있어', '어떻게 이별까지 사랑하겠어, 널 사랑하는 거지', 'Black Swan', '우리 왜 헤어져야 해', '이제 나만 믿어요', 'FIESTA', '안녕', '친구', 'Love poem', 'HIP', 'Lonely Night', 'Filter', 'Moon', '시차', '다시 난, 여기', '찐이야', '너를 만나', 'Inner Child', '너를 그린 우주 (Insomnia2020) (Feat. 이라온)', '어느 60대 노부부이야기', 'We are Bulletproof : the Eternal', '시든 꽃에 물을 주듯', '조금 취했어 (Prod. 2soo)', '사랑이란 멜로는 없어', 'Ridin’', '봄날', 'LALALILALA', 'Louder than bombs', '넌 내가 보고 싶지 않나 봐', 'Square (2017)', '사랑, 하자', '욱 (UGH!)', '너에게 가는 이 길 위에서 (너.이.길)', 'Interlude : Shadow', 'Outro : Ego', 'Respect', '바램', 'Oh my god', '아무렇지 않게, 안녕', '다시 만날까 봐', '품', '주저하는 연인들을 위해', '포장마차', '사랑에 연습이 있었다면 (Prod. 2soo)', 'Obsession', '사랑이 식었다고 말해도 돼', '마음이 말하는 행복 (Happiness) (Feat.이라온)', 'Go away go away', '시청 앞 지하철 역에서', '버릇처럼 셋을 센다', '영웅 (英雄; Kick It)', '아마두 (feat.우원재, 김효은, 넉살, Huckleberry P)', 'Zombie', '자나깨나 (Feat. 조이 of Red Velvet)', '나쁜 놈', '빌었어', '보라빛 엽서', '막걸리 한잔', 'Yours (Feat. 이하이, 창모)', '넌 언제나', '어떤 날엔', '둘만의 세상으로 가', '비', 'Sweet Night', '문득', '나의 오랜 연인에게', '니 소식']\n"
     ]
    }
   ],
   "source": [
    "print(song)"
   ]
  },
  {
   "cell_type": "code",
   "execution_count": 25,
   "metadata": {},
   "outputs": [
    {
     "name": "stdout",
     "output_type": "stream",
     "text": [
      "['아이유', '조정석', '오마이걸', '볼빨간사춘기', '가호 (Gaho)', '엠씨더맥스 (M.C the MAX)', 'Apink (에이핑크)', '조이 (JOY)', '장범준', '태연 (TAEYEON)', '방탄소년단', '지코 (ZICO)', '창모 (CHANGMO)', '아이유', '폴킴', '김필', '하현우 (국카스텐)', '방탄소년단', '전미도', '아이유', '규현 (KYUHYUN)', '어반자카파', '노을', 'ITZY (있지)', '오마이걸', 'Red Velvet (레드벨벳)', '진민호', '방탄소년단', '오반', '청하', '휘인 (Whee In)', '마크툽 (MAKTUB)', '폴킴', '백현 (BAEKHYUN)', 'AKMU (악동뮤지션)', '방탄소년단', '신예영', '임영웅', 'IZ*ONE (아이즈원)', '폴킴', '방탄소년단', '아이유', '마마무 (Mamamoo)', '권진아', '방탄소년단', '방탄소년단', '방탄소년단', '백예린', '영탁', '폴킴', '방탄소년단', '마크툽 (MAKTUB)', '임영웅', '방탄소년단', 'HYNN (박혜원)', '임재현', '전상근', 'NCT DREAM', '방탄소년단', '에이프릴 (APRIL)', '방탄소년단', '신예영', '백예린', '수호 (SUHO)', '방탄소년단', '백현 (BAEKHYUN)', '방탄소년단', '방탄소년단', '방탄소년단', '임영웅', '(여자)아이들', 'HYNN (박혜원)', 'V.O.S', '볼빨간사춘기', '잔나비', '황인욱', '임재현', 'EXO', '먼데이 키즈 (Monday Kiz)', '마크툽 (MAKTUB)', '찬열 (CHANYEOL)', '곽진언', 'KCM', 'NCT 127', '염따', 'DAY6 (데이식스)', 'Crush', '벤', '창모 (CHANGMO)', '임영웅', '영탁', 'Raiden', '제이레빗(J Rabbit)', '김재환', 'Crush', '폴킴', 'V', '노을', '다비치', '송하예']\n"
     ]
    }
   ],
   "source": [
    "print(singer)"
   ]
  },
  {
   "cell_type": "code",
   "execution_count": 26,
   "metadata": {},
   "outputs": [
    {
     "name": "stdout",
     "output_type": "stream",
     "text": [
      "['에잇', '슬기로운 의사생활 OST Part 3', 'NONSTOP', '사춘기집Ⅱ 꽃 본 나비', '이태원 클라쓰 OST Part.2', 'CEREMONIA', 'LOOK', '슬기로운 의사생활 OST Part 2', '멜로가 체질 OST Part 3', 'Happy', 'MAP OF THE SOUL : 7', '아무노래', 'Boyhood', 'Love poem', \"정규 2집 '마음, 둘'\", '이태원 클라쓰 OST Part.6', '이태원 클라쓰 OST Part.3', 'MAP OF THE SOUL : PERSONA', '슬기로운 의사생활 OST Part 11', '사랑의 불시착 OST Part 11', '슬기로운 의사생활 OST Part 4', '슬기로운 의사생활 OST Part 5', '늦은 밤 너의 집 앞 골목길에서', \"IT'z ME\", 'NONSTOP', '‘The ReVe Festival’ Finale', '반만', 'MAP OF THE SOUL : 7', '어떻게 지내', 'Stay Tonight', '슬기로운 의사생활 OST Part 8', 'Red Moon : To You My Light', '`키스 먼저 할까요?` OST Part.3', '낭만닥터 김사부 2 OST Part.1', '항해', 'MAP OF THE SOUL : 7', '우리 왜 헤어져야 해', '내일은 미스터트롯 우승자 특전곡', 'BLOOM*IZ', '호텔 델루나 OST Part.10', 'MAP OF THE SOUL : 7', 'Love poem', 'reality in BLACK', '슬기로운 의사생활 OST Part 1', 'MAP OF THE SOUL : 7', 'MAP OF THE SOUL : 7', 'MAP OF THE SOUL : 7', '사랑의 불시착 OST Part 4', '내일은 미스터트롯 결승전 베스트', '너를 만나', 'MAP OF THE SOUL : 7', 'Red Moon : SUPERNOVA', '내일은 미스터트롯 트롯 에이드 베스트', 'MAP OF THE SOUL : 7', '시든 꽃에 물을 주듯', '조금 취했어', '사랑이란 멜로는 없어', 'Reload', 'YOU NEVER WALK ALONE', \"에이프릴(APRIL) 7th Mini Album 'Da Capo'\", 'MAP OF THE SOUL : 7', '넌 내가 보고 싶지 않나 봐', 'Every letter I sent you.', '자화상 - The 1st Mini Album', 'MAP OF THE SOUL : 7', '하이에나 OST Part.2', 'MAP OF THE SOUL : 7', 'MAP OF THE SOUL : 7', 'MAP OF THE SOUL : 7', '내일은 미스터트롯 예선곡 베스트', 'I trust', '아무렇지 않게, 안녕', '다시 만날까 봐', '사춘기집Ⅱ 꽃 본 나비', '전설', '포장마차', '사랑에 연습이 있었다면', 'OBSESSION - The 6th Album', '사랑이 식었다고 말해도 돼', 'Red Moon : Happiness', '낭만닥터 김사부 2 OST Part.3', '슬기로운 의사생활 OST Part 6', '버릇처럼 셋을 센다', 'NCT #127 Neo Zone - The 2nd Album', 'Dingo X DAMOIM (Part 2)', 'The Book of Us : The Demon', 'homemade 1', 'Off The Record', 'Boyhood', '내일은 미스터트롯 레전드 미션 베스트', '내일은 미스터트롯 데스매치 PART1', 'Yours (Feat. 이하이, 창모)', '슬기로운 의사생활 OST Part 7', '사랑의 불시착 OST Part 5', '사랑의 불시착 OST Part 10', '비', '이태원 클라쓰 OST Part.12', '문득', '나의 오랜 연인에게', '니 소식']\n"
     ]
    }
   ],
   "source": [
    "print(album)"
   ]
  },
  {
   "cell_type": "code",
   "execution_count": 34,
   "metadata": {},
   "outputs": [
    {
     "name": "stdout",
     "output_type": "stream",
     "text": [
      "['순위 진입', '순위 동일*0', '단계 상승*91', '순위 진입', '단계 하락*2', '단계 하락*5', '단계 상승*4', '단계 상승*8', '단계 하락*5', '순위 진입', '단계 하락*3', '단계 하락*6', '단계 하락*4', '단계 하락*1', '단계 상승*21', '단계 하락*11', '단계 하락*10', '단계 하락*3', '순위 진입', '단계 하락*10', '단계 상승*53', '단계 상승*60', '단계 하락*9', '단계 하락*12', '순위 진입', '단계 하락*8', '단계 하락*10', '단계 하락*7', '단계 하락*7', '순위 진입', '순위 진입', '단계 하락*9', '단계 하락*2', '단계 하락*4', '단계 하락*15', '단계 하락*12', '단계 하락*9', '단계 하락*3', '단계 하락*20', '단계 하락*11', '단계 하락*9', '단계 하락*9', '단계 하락*17', '단계 상승*35', '단계 하락*4', '단계 하락*3', '순위 동일*0', '단계 하락*21', '단계 상승*12', '단계 상승*3', '단계 상승*7', '순위 진입', '단계 상승*10', '단계 상승*6', '단계 하락*16', '단계 하락*19', '단계 하락*23', '순위 진입', '순위 동일*0', '순위 진입', '단계 상승*5', '순위 진입', '단계 하락*25', '단계 하락*39', '단계 상승*3', '단계 상승*10', '단계 상승*3', '단계 상승*3', '단계 상승*4', '단계 상승*11', '단계 하락*27', '단계 하락*8', '단계 하락*31', '순위 진입', '단계 하락*27', '단계 하락*25', '단계 하락*21', '단계 하락*3', '단계 하락*22', '단계 하락*31', '단계 하락*3', '순위 진입', '단계 하락*38', '단계 상승*3', '단계 하락*31', '순위 진입', '순위 진입', '순위 진입', '단계 하락*22', '단계 상승*7', '단계 하락*3', '순위 진입', '순위 진입', '단계 하락*39', '단계 하락*49', '순위 진입', '단계 하락*35', '단계 하락*48', '단계 하락*30', '단계 하락*14']\n"
     ]
    }
   ],
   "source": [
    "print(last)"
   ]
  },
  {
   "cell_type": "code",
   "execution_count": 40,
   "metadata": {},
   "outputs": [
    {
     "name": "stdout",
     "output_type": "stream",
     "text": [
      "[-1, 2, 94, -1, 3, 1, 11, 16, 4, -1, 8, 6, 9, 13, 36, 5, 7, 15, -1, 10, 74, 82, 14, 12, -1, 18, 17, 21, 22, -1, -1, 23, 31, 30, 20, 24, 28, 35, 19, 29, 32, 33, 26, 79, 41, 43, 47, 27, 61, 53, 58, -1, 63, 60, 39, 37, 34, -1, 59, -1, 66, -1, 38, 25, 68, 76, 70, 71, 73, 81, 44, 64, 42, -1, 48, 51, 56, 75, 57, 49, 78, -1, 45, 87, 54, -1, -1, -1, 67, 97, 88, -1, -1, 55, 46, -1, 62, 50, 69, 86]\n"
     ]
    }
   ],
   "source": [
    "print(last)"
   ]
  },
  {
   "cell_type": "code",
   "execution_count": 41,
   "metadata": {},
   "outputs": [
    {
     "data": {
      "text/html": [
       "<div>\n",
       "<style scoped>\n",
       "    .dataframe tbody tr th:only-of-type {\n",
       "        vertical-align: middle;\n",
       "    }\n",
       "\n",
       "    .dataframe tbody tr th {\n",
       "        vertical-align: top;\n",
       "    }\n",
       "\n",
       "    .dataframe thead th {\n",
       "        text-align: right;\n",
       "    }\n",
       "</style>\n",
       "<table border=\"1\" class=\"dataframe\">\n",
       "  <thead>\n",
       "    <tr style=\"text-align: right;\">\n",
       "      <th></th>\n",
       "      <th>제목</th>\n",
       "      <th>가수</th>\n",
       "      <th>앨범명</th>\n",
       "      <th>전월순위</th>\n",
       "    </tr>\n",
       "    <tr>\n",
       "      <th>rank</th>\n",
       "      <th></th>\n",
       "      <th></th>\n",
       "      <th></th>\n",
       "      <th></th>\n",
       "    </tr>\n",
       "  </thead>\n",
       "  <tbody>\n",
       "    <tr>\n",
       "      <th>1</th>\n",
       "      <td>에잇(Prod.&amp;Feat. SUGA of BTS)</td>\n",
       "      <td>아이유</td>\n",
       "      <td>에잇</td>\n",
       "      <td>-1</td>\n",
       "    </tr>\n",
       "    <tr>\n",
       "      <th>2</th>\n",
       "      <td>아로하</td>\n",
       "      <td>조정석</td>\n",
       "      <td>슬기로운 의사생활 OST Part 3</td>\n",
       "      <td>2</td>\n",
       "    </tr>\n",
       "    <tr>\n",
       "      <th>3</th>\n",
       "      <td>살짝 설렜어 (Nonstop)</td>\n",
       "      <td>오마이걸</td>\n",
       "      <td>NONSTOP</td>\n",
       "      <td>94</td>\n",
       "    </tr>\n",
       "    <tr>\n",
       "      <th>4</th>\n",
       "      <td>나비와 고양이 (feat.백현 (BAEKHYUN))</td>\n",
       "      <td>볼빨간사춘기</td>\n",
       "      <td>사춘기집Ⅱ 꽃 본 나비</td>\n",
       "      <td>-1</td>\n",
       "    </tr>\n",
       "    <tr>\n",
       "      <th>5</th>\n",
       "      <td>시작</td>\n",
       "      <td>가호 (Gaho)</td>\n",
       "      <td>이태원 클라쓰 OST Part.2</td>\n",
       "      <td>3</td>\n",
       "    </tr>\n",
       "    <tr>\n",
       "      <th>6</th>\n",
       "      <td>처음처럼</td>\n",
       "      <td>엠씨더맥스 (M.C the MAX)</td>\n",
       "      <td>CEREMONIA</td>\n",
       "      <td>1</td>\n",
       "    </tr>\n",
       "    <tr>\n",
       "      <th>7</th>\n",
       "      <td>덤더럼(Dumhdurum)</td>\n",
       "      <td>Apink (에이핑크)</td>\n",
       "      <td>LOOK</td>\n",
       "      <td>11</td>\n",
       "    </tr>\n",
       "    <tr>\n",
       "      <th>8</th>\n",
       "      <td>좋은 사람 있으면 소개시켜줘</td>\n",
       "      <td>조이 (JOY)</td>\n",
       "      <td>슬기로운 의사생활 OST Part 2</td>\n",
       "      <td>16</td>\n",
       "    </tr>\n",
       "    <tr>\n",
       "      <th>9</th>\n",
       "      <td>흔들리는 꽃들 속에서 네 샴푸향이 느껴진거야</td>\n",
       "      <td>장범준</td>\n",
       "      <td>멜로가 체질 OST Part 3</td>\n",
       "      <td>4</td>\n",
       "    </tr>\n",
       "    <tr>\n",
       "      <th>10</th>\n",
       "      <td>Happy</td>\n",
       "      <td>태연 (TAEYEON)</td>\n",
       "      <td>Happy</td>\n",
       "      <td>-1</td>\n",
       "    </tr>\n",
       "  </tbody>\n",
       "</table>\n",
       "</div>"
      ],
      "text/plain": [
       "                                제목                   가수                   앨범명  \\\n",
       "rank                                                                            \n",
       "1      에잇(Prod.&Feat. SUGA of BTS)                  아이유                    에잇   \n",
       "2                              아로하                  조정석  슬기로운 의사생활 OST Part 3   \n",
       "3                 살짝 설렜어 (Nonstop)                 오마이걸               NONSTOP   \n",
       "4     나비와 고양이 (feat.백현 (BAEKHYUN))               볼빨간사춘기          사춘기집Ⅱ 꽃 본 나비   \n",
       "5                               시작            가호 (Gaho)    이태원 클라쓰 OST Part.2   \n",
       "6                             처음처럼  엠씨더맥스 (M.C the MAX)             CEREMONIA   \n",
       "7                   덤더럼(Dumhdurum)         Apink (에이핑크)                  LOOK   \n",
       "8                  좋은 사람 있으면 소개시켜줘             조이 (JOY)  슬기로운 의사생활 OST Part 2   \n",
       "9         흔들리는 꽃들 속에서 네 샴푸향이 느껴진거야                  장범준     멜로가 체질 OST Part 3   \n",
       "10                           Happy         태연 (TAEYEON)                 Happy   \n",
       "\n",
       "      전월순위  \n",
       "rank        \n",
       "1       -1  \n",
       "2        2  \n",
       "3       94  \n",
       "4       -1  \n",
       "5        3  \n",
       "6        1  \n",
       "7       11  \n",
       "8       16  \n",
       "9        4  \n",
       "10      -1  "
      ]
     },
     "execution_count": 41,
     "metadata": {},
     "output_type": "execute_result"
    }
   ],
   "source": [
    "import pandas as pd\n",
    "df = pd.DataFrame({'rank': rank, '제목':song, '가수':singer, '앨범명':album, '전월순위':last})\n",
    "df.set_index('rank', inplace=True)\n",
    "df.head(10)"
   ]
  },
  {
   "cell_type": "code",
   "execution_count": null,
   "metadata": {},
   "outputs": [],
   "source": []
  }
 ],
 "metadata": {
  "kernelspec": {
   "display_name": "Python 3",
   "language": "python",
   "name": "python3"
  },
  "language_info": {
   "codemirror_mode": {
    "name": "ipython",
    "version": 3
   },
   "file_extension": ".py",
   "mimetype": "text/x-python",
   "name": "python",
   "nbconvert_exporter": "python",
   "pygments_lexer": "ipython3",
   "version": "3.7.6"
  }
 },
 "nbformat": 4,
 "nbformat_minor": 4
}
