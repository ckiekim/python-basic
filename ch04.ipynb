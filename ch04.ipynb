{
 "cells": [
  {
   "cell_type": "markdown",
   "metadata": {},
   "source": [
    "# Chapter 04. 반복문"
   ]
  },
  {
   "cell_type": "code",
   "execution_count": 1,
   "metadata": {},
   "outputs": [
    {
     "name": "stdout",
     "output_type": "stream",
     "text": [
      "안녕하세요. 0\n",
      "안녕하세요. 1\n",
      "안녕하세요. 2\n",
      "안녕하세요. 3\n",
      "안녕하세요. 4\n"
     ]
    }
   ],
   "source": [
    "# ex 4-1\n",
    "for x in range(5):\n",
    "    print('안녕하세요.', x)"
   ]
  },
  {
   "cell_type": "code",
   "execution_count": 2,
   "metadata": {},
   "outputs": [
    {
     "name": "stdout",
     "output_type": "stream",
     "text": [
      "안녕하세요. 0\n",
      "안녕하세요. 1\n",
      "안녕하세요. 2\n",
      "안녕하세요. 3\n",
      "안녕하세요. 4\n"
     ]
    }
   ],
   "source": [
    "# ex 4-2\n",
    "x = 0\n",
    "while x < 5:\n",
    "    print('안녕하세요.', x)\n",
    "    x += 1"
   ]
  },
  {
   "cell_type": "code",
   "execution_count": 4,
   "metadata": {},
   "outputs": [
    {
     "name": "stdout",
     "output_type": "stream",
     "text": [
      "5\n",
      "4\n",
      "3\n",
      "2\n",
      "1\n"
     ]
    }
   ],
   "source": [
    "for i in range(5, 0, -1):\n",
    "    print(i)"
   ]
  },
  {
   "cell_type": "code",
   "execution_count": 7,
   "metadata": {},
   "outputs": [
    {
     "name": "stdout",
     "output_type": "stream",
     "text": [
      "7620630240\n"
     ]
    }
   ],
   "source": [
    "# ex 4-3\n",
    "# sum = 1 + 2 + ... + 10\n",
    "sum = 0\n",
    "for i in range(1, 123456):\n",
    "    sum += i\n",
    "print(sum)"
   ]
  },
  {
   "cell_type": "code",
   "execution_count": 8,
   "metadata": {},
   "outputs": [
    {
     "name": "stdout",
     "output_type": "stream",
     "text": [
      "0 1 2 3 4 5 6 7 8 9 \n",
      "1 2 3 4 5 6 7 8 9 10 \n",
      "1 3 5 7 9 \n",
      "20 18 16 14 12 10 8 6 4 2 "
     ]
    }
   ],
   "source": [
    "# ex 4-4\n",
    "for i in range(10) :\n",
    "    print(i, end =' ')\n",
    "print()\n",
    "\n",
    "for i in range(1, 11) :\n",
    "    print(i, end =' ')\n",
    "print()\n",
    "\n",
    "for i in range(1, 10, 2) :\n",
    "    print(i, end =' ')\n",
    "print()\n",
    "\n",
    "for i in range(20, 0, -2) :\n",
    "    print(i, end =' ')"
   ]
  },
  {
   "cell_type": "code",
   "execution_count": 9,
   "metadata": {},
   "outputs": [
    {
     "name": "stdout",
     "output_type": "stream",
     "text": [
      "3 6 9 12 15 18 21 24 27 30 33 36 39 42 45 48 51 54 57 60 63 66 69 72 75 78 81 84 87 90 93 96 99 \n",
      " --------------------------------------------------\n",
      "1~100에서 3의 배수의 합계 : 1683\n"
     ]
    }
   ],
   "source": [
    "# ex 4-5\n",
    "sum = 0\n",
    "for i in range(1, 101) :\n",
    "    if i % 3 == 0 :\n",
    "        print('%d' % i, end = ' ')\n",
    "        sum += i\n",
    "\n",
    "print('\\n', '-' * 50)\n",
    "print('1~100에서 3의 배수의 합계 : %d' % sum)"
   ]
  },
  {
   "cell_type": "code",
   "execution_count": 10,
   "metadata": {},
   "outputs": [
    {
     "name": "stdout",
     "output_type": "stream",
     "text": [
      "영어 문장을 입력하세요> I love you.\n",
      "I\n",
      " \n",
      "l\n",
      "o\n",
      "v\n",
      "e\n",
      " \n",
      "y\n",
      "o\n",
      "u\n",
      ".\n"
     ]
    }
   ],
   "source": [
    "# ex 4-6\n",
    "word = input('영어 문장을 입력하세요> ')\n",
    "\n",
    "for c in word:\n",
    "    print(c)"
   ]
  },
  {
   "cell_type": "code",
   "execution_count": 11,
   "metadata": {},
   "outputs": [
    {
     "name": "stdout",
     "output_type": "stream",
     "text": [
      "------------------------------\n",
      "    섭씨     화씨\n",
      "------------------------------\n",
      "     -20    -4.0\n",
      "     -15     5.0\n",
      "     -10    14.0\n",
      "      -5    23.0\n",
      "       0    32.0\n",
      "       5    41.0\n",
      "      10    50.0\n",
      "      15    59.0\n",
      "      20    68.0\n",
      "      25    77.0\n",
      "      30    86.0\n",
      "------------------------------\n"
     ]
    }
   ],
   "source": [
    "# ex 4-7\n",
    "print('-' * 30) \n",
    "print('    섭씨     화씨')\n",
    "print('-' * 30) \n",
    "\n",
    "for c in range(-20, 31, 5) : \n",
    "    f = c * 9.0/ 5.0 + 32.0 \n",
    "    print('%8d  %6.1f' % (c, f))   \n",
    "     \n",
    "print('-' * 30)"
   ]
  },
  {
   "cell_type": "code",
   "execution_count": 12,
   "metadata": {},
   "outputs": [
    {
     "name": "stdout",
     "output_type": "stream",
     "text": [
      "시작 수를 입력하세요 : 1\n",
      "끝 수를 입력하세요 : 23\n",
      "--------------------------------------------------\n",
      "1에서 23까지 5의 배수가 아닌 수의 합계 : 226\n"
     ]
    }
   ],
   "source": [
    "# Q 4-1. 5의 배수가 아닌 수의 합계 구하기\n",
    "n1 = int(input('시작 수를 입력하세요 : ')) \n",
    "n2 = int(input('끝 수를 입력하세요 : '))\n",
    "\n",
    "sum = 0 \n",
    "for i in range(n1, n2+1) :   \n",
    "    if i % 5 !=  0 :        \n",
    "         sum += i\n",
    "\n",
    "print('-' * 50) \n",
    "print('%d에서 %d까지 5의 배수가 아닌 수의 합계 : %d' % (n1, n2, sum))"
   ]
  },
  {
   "cell_type": "code",
   "execution_count": 14,
   "metadata": {},
   "outputs": [
    {
     "name": "stdout",
     "output_type": "stream",
     "text": [
      "하이픈(-)을 포함한 휴대폰 번호를 입력하세요: 010-2345-7890\n",
      "01023457890"
     ]
    }
   ],
   "source": [
    "# Q 4-2. 전화번호에서 하이픈(-) 삭제하기\n",
    "number = input('하이픈(-)을 포함한 휴대폰 번호를 입력하세요: ') \n",
    "for x in number :    \n",
    "    if x != '-' :        \n",
    "         print('%s' % x, end='')"
   ]
  },
  {
   "cell_type": "code",
   "execution_count": 16,
   "metadata": {},
   "outputs": [
    {
     "name": "stdout",
     "output_type": "stream",
     "text": [
      "하이픈(-)을 뺀 11자리의 휴대폰 번호를 입력하세요: 01034567890\n",
      "010-3456-7890\n"
     ]
    }
   ],
   "source": [
    "# Q 4-3. 전화번호에 하이픈(-) 추가하기\n",
    "phone = input('하이픈(-)을 뺀 11자리의 휴대폰 번호를 입력하세요: ') \n",
    "number = ''; \n",
    "for i in range(0, len(phone)) :   \n",
    "    if i == 2 :        \n",
    "        number = number + (phone[2]+'-')    \n",
    "    elif i == 6 :\n",
    "        number = number + (phone[6]+'-')    \n",
    "    else :        \n",
    "        number = number + phone[i]\n",
    "print(number)"
   ]
  },
  {
   "cell_type": "code",
   "execution_count": 17,
   "metadata": {},
   "outputs": [
    {
     "name": "stdout",
     "output_type": "stream",
     "text": [
      "--------------------------------------------------\n",
      "센티미터(cm) 인치(inch)   피트(ft)    야드(yd)\n",
      "--------------------------------------------------\n",
      "      10         3.9        0.3         0.1\n",
      "      20         7.9        0.7         0.2\n",
      "      30        11.8        1.0         0.3\n",
      "      40        15.7        1.3         0.4\n",
      "      50        19.7        1.6         0.5\n",
      "      60        23.6        2.0         0.7\n",
      "      70        27.6        2.3         0.8\n",
      "      80        31.5        2.6         0.9\n",
      "      90        35.4        3.0         1.0\n",
      "     100        39.4        3.3         1.1\n",
      "     110        43.3        3.6         1.2\n",
      "     120        47.2        3.9         1.3\n",
      "     130        51.2        4.3         1.4\n",
      "     140        55.1        4.6         1.5\n",
      "     150        59.1        4.9         1.6\n",
      "     160        63.0        5.2         1.7\n",
      "     170        66.9        5.6         1.9\n",
      "     180        70.9        5.9         2.0\n",
      "     190        74.8        6.2         2.1\n",
      "     200        78.7        6.6         2.2\n",
      "--------------------------------------------------\n"
     ]
    }
   ],
   "source": [
    "# Q 4-4. 길이 단위 환산표 만들기\n",
    "print('-' * 50) \n",
    "print('센티미터(cm) 인치(inch)   피트(ft)    야드(yd)') \n",
    "print('-' * 50) \n",
    "\n",
    "for cm in range(10, 201, 10) :    \n",
    "     inch = cm * 0.393701    \n",
    "     ft = cm * 0.032808\n",
    "     yd = cm * 0.010936    \n",
    "     print('%8d  %10.1f %10.1f  %10.1f' % (cm, inch, ft, yd))       \n",
    "\n",
    "print('-' * 50)"
   ]
  },
  {
   "cell_type": "code",
   "execution_count": 18,
   "metadata": {},
   "outputs": [
    {
     "name": "stdout",
     "output_type": "stream",
     "text": [
      "----------------------------------------\n",
      "킬로그램(kg) 파운드(lb)   온스(oz)\n",
      "----------------------------------------\n",
      "      10        22.0      352.7\n",
      "      15        33.1      529.1\n",
      "      20        44.1      705.5\n",
      "      25        55.1      881.8\n",
      "      30        66.1     1058.2\n",
      "      35        77.2     1234.6\n",
      "      40        88.2     1411.0\n",
      "      45        99.2     1587.3\n",
      "      50       110.2     1763.7\n",
      "      55       121.3     1940.1\n",
      "      60       132.3     2116.4\n",
      "      65       143.3     2292.8\n",
      "      70       154.3     2469.2\n",
      "      75       165.3     2645.5\n",
      "      80       176.4     2821.9\n",
      "      85       187.4     2998.3\n",
      "      90       198.4     3174.7\n",
      "      95       209.4     3351.0\n",
      "     100       220.5     3527.4\n",
      "----------------------------------------\n"
     ]
    }
   ],
   "source": [
    "# Q 4-5. 무게 단위 환산표 만들기\n",
    "print('-' * 40) \n",
    "print('킬로그램(kg) 파운드(lb)   온스(oz)') \n",
    "print('-' * 40) \n",
    "\n",
    "for kg in range(10, 101, 5) :     \n",
    "    lb = kg * 2.204623    \n",
    "    oz = kg * 35.273962    \n",
    "    print('%8d  %10.1f %10.1f' % (kg, lb, oz))        \n",
    "\n",
    "print('-' * 40)"
   ]
  },
  {
   "cell_type": "code",
   "execution_count": 19,
   "metadata": {},
   "outputs": [
    {
     "name": "stdout",
     "output_type": "stream",
     "text": [
      "숫자를 입력하세요 : 13456890\n",
      "입력된 숫자 중 홀수의 개수 : 4개\n"
     ]
    }
   ],
   "source": [
    "# Q 4-6. 홀수 개수 세기\n",
    "number = input('숫자를 입력하세요 : ') \n",
    "total = 0 \n",
    "\n",
    "for a in number :    \n",
    "    a = int(a)    \n",
    "    if a % 2 == 1 :       \n",
    "          total += 1 \n",
    "\n",
    "print('입력된 숫자 중 홀수의 개수 : %d개' % total)"
   ]
  },
  {
   "cell_type": "code",
   "execution_count": 22,
   "metadata": {},
   "outputs": [
    {
     "name": "stdout",
     "output_type": "stream",
     "text": [
      "--------------------------------------------------\n",
      "2 x 1 =  2\n",
      "2 x 2 =  4\n",
      "2 x 3 =  6\n",
      "2 x 4 =  8\n",
      "2 x 5 = 10\n",
      "2 x 6 = 12\n",
      "2 x 7 = 14\n",
      "2 x 8 = 16\n",
      "2 x 9 = 18\n",
      "--------------------------------------------------\n",
      "--------------------------------------------------\n",
      "3 x 1 =  3\n",
      "3 x 2 =  6\n",
      "3 x 3 =  9\n",
      "3 x 4 = 12\n",
      "3 x 5 = 15\n",
      "3 x 6 = 18\n",
      "3 x 7 = 21\n",
      "3 x 8 = 24\n",
      "3 x 9 = 27\n",
      "--------------------------------------------------\n",
      "--------------------------------------------------\n",
      "4 x 1 =  4\n",
      "4 x 2 =  8\n",
      "4 x 3 = 12\n",
      "4 x 4 = 16\n",
      "4 x 5 = 20\n",
      "4 x 6 = 24\n",
      "4 x 7 = 28\n",
      "4 x 8 = 32\n",
      "4 x 9 = 36\n",
      "--------------------------------------------------\n",
      "--------------------------------------------------\n",
      "5 x 1 =  5\n",
      "5 x 2 = 10\n",
      "5 x 3 = 15\n",
      "5 x 4 = 20\n",
      "5 x 5 = 25\n",
      "5 x 6 = 30\n",
      "5 x 7 = 35\n",
      "5 x 8 = 40\n",
      "5 x 9 = 45\n",
      "--------------------------------------------------\n",
      "--------------------------------------------------\n",
      "6 x 1 =  6\n",
      "6 x 2 = 12\n",
      "6 x 3 = 18\n",
      "6 x 4 = 24\n",
      "6 x 5 = 30\n",
      "6 x 6 = 36\n",
      "6 x 7 = 42\n",
      "6 x 8 = 48\n",
      "6 x 9 = 54\n",
      "--------------------------------------------------\n",
      "--------------------------------------------------\n",
      "7 x 1 =  7\n",
      "7 x 2 = 14\n",
      "7 x 3 = 21\n",
      "7 x 4 = 28\n",
      "7 x 5 = 35\n",
      "7 x 6 = 42\n",
      "7 x 7 = 49\n",
      "7 x 8 = 56\n",
      "7 x 9 = 63\n",
      "--------------------------------------------------\n",
      "--------------------------------------------------\n",
      "8 x 1 =  8\n",
      "8 x 2 = 16\n",
      "8 x 3 = 24\n",
      "8 x 4 = 32\n",
      "8 x 5 = 40\n",
      "8 x 6 = 48\n",
      "8 x 7 = 56\n",
      "8 x 8 = 64\n",
      "8 x 9 = 72\n",
      "--------------------------------------------------\n",
      "--------------------------------------------------\n",
      "9 x 1 =  9\n",
      "9 x 2 = 18\n",
      "9 x 3 = 27\n",
      "9 x 4 = 36\n",
      "9 x 5 = 45\n",
      "9 x 6 = 54\n",
      "9 x 7 = 63\n",
      "9 x 8 = 72\n",
      "9 x 9 = 81\n",
      "--------------------------------------------------\n"
     ]
    }
   ],
   "source": [
    "# ex 4-9 구구단\n",
    "for i in range(2, 10):\n",
    "    print('-' * 50)\n",
    "    for k in range(1, 10):\n",
    "        print('%d x %d = %2d' % (i, k, i*k))\n",
    "    print('-' * 50)"
   ]
  },
  {
   "cell_type": "code",
   "execution_count": 23,
   "metadata": {},
   "outputs": [
    {
     "name": "stdout",
     "output_type": "stream",
     "text": [
      "*\n",
      "**\n",
      "***\n",
      "****\n",
      "*****\n"
     ]
    }
   ],
   "source": [
    "# Q 4-7. 별표(*)로 특정 형태 만들기 1\n",
    "for i in range(1, 6):\n",
    "    print('*' * i)"
   ]
  },
  {
   "cell_type": "code",
   "execution_count": 24,
   "metadata": {},
   "outputs": [
    {
     "name": "stdout",
     "output_type": "stream",
     "text": [
      "*\n",
      "**\n",
      "***\n",
      "****\n",
      "*****\n"
     ]
    }
   ],
   "source": [
    "for i in range(1, 6):\n",
    "    for k in range(1, i+1):\n",
    "        print('*', end='')\n",
    "    print()"
   ]
  },
  {
   "cell_type": "code",
   "execution_count": 25,
   "metadata": {},
   "outputs": [
    {
     "name": "stdout",
     "output_type": "stream",
     "text": [
      "    *\n",
      "   **\n",
      "  ***\n",
      " ****\n",
      "*****\n"
     ]
    }
   ],
   "source": [
    "# Q 4-8. 별표(*)로 특정 형태 만들기 2\n",
    "for i in range(1, 6):\n",
    "    for s in range(1, 5-i+1):\n",
    "        print(' ', end='')\n",
    "    for k in range(1, i+1):\n",
    "        print('*', end='')\n",
    "    print()"
   ]
  },
  {
   "cell_type": "code",
   "execution_count": 26,
   "metadata": {},
   "outputs": [
    {
     "name": "stdout",
     "output_type": "stream",
     "text": [
      "    *\n",
      "   **\n",
      "  ***\n",
      " ****\n",
      "*****\n"
     ]
    }
   ],
   "source": [
    "for i in range(1, 6):\n",
    "    for s in range(5, i, -1):\n",
    "        print(' ', end='')\n",
    "    for k in range(1, i+1):\n",
    "        print('*', end='')\n",
    "    print()"
   ]
  },
  {
   "cell_type": "code",
   "execution_count": 31,
   "metadata": {},
   "outputs": [
    {
     "name": "stdout",
     "output_type": "stream",
     "text": [
      "989 46\n"
     ]
    }
   ],
   "source": [
    "# 합이 1000에 가장 가까운 경우는 1에서부터 얼마까지 더한 경우인가?\n",
    "sum = 0\n",
    "count = 1\n",
    "while sum < 1000:\n",
    "    sum += count\n",
    "    count += 1\n",
    "print(sum-count, count)"
   ]
  },
  {
   "cell_type": "code",
   "execution_count": 32,
   "metadata": {},
   "outputs": [
    {
     "name": "stdout",
     "output_type": "stream",
     "text": [
      "989 46\n"
     ]
    }
   ],
   "source": [
    "sum = 0\n",
    "count = 1\n",
    "while True:\n",
    "    if sum > 1000:\n",
    "        break\n",
    "    sum += count\n",
    "    count += 1\n",
    "print(sum-count, count)"
   ]
  },
  {
   "cell_type": "code",
   "execution_count": 34,
   "metadata": {},
   "outputs": [
    {
     "name": "stdout",
     "output_type": "stream",
     "text": [
      "1 3 5 7 9 "
     ]
    }
   ],
   "source": [
    "# continue\n",
    "for i in range(10):\n",
    "    if i % 2 == 0:\n",
    "        continue\n",
    "    print(i, end=' ')"
   ]
  },
  {
   "cell_type": "code",
   "execution_count": 35,
   "metadata": {},
   "outputs": [
    {
     "name": "stdout",
     "output_type": "stream",
     "text": [
      "i = 1 : 0 \n",
      "i = 2 : 0 1 \n",
      "i = 3 : 0 1 2 \n",
      "i = 4 : 0 1 2 3 \n",
      "i = 5 : 0 1 2 3 4 \n"
     ]
    }
   ],
   "source": [
    "# 중첩에서 break\n",
    "for i in range(1, 6):\n",
    "    print('i =', i, ':', end=' ')\n",
    "    for k in range(5):\n",
    "        if k == i:\n",
    "            break;\n",
    "        print(k, end=' ')\n",
    "    print()"
   ]
  },
  {
   "cell_type": "code",
   "execution_count": null,
   "metadata": {},
   "outputs": [],
   "source": []
  }
 ],
 "metadata": {
  "kernelspec": {
   "display_name": "Python 3",
   "language": "python",
   "name": "python3"
  },
  "language_info": {
   "codemirror_mode": {
    "name": "ipython",
    "version": 3
   },
   "file_extension": ".py",
   "mimetype": "text/x-python",
   "name": "python",
   "nbconvert_exporter": "python",
   "pygments_lexer": "ipython3",
   "version": "3.7.6"
  }
 },
 "nbformat": 4,
 "nbformat_minor": 4
}
