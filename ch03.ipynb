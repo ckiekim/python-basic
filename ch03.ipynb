{
 "cells": [
  {
   "cell_type": "markdown",
   "metadata": {},
   "source": [
    "# Chapter 03. 조건문"
   ]
  },
  {
   "cell_type": "code",
   "execution_count": 2,
   "metadata": {},
   "outputs": [
    {
     "name": "stdout",
     "output_type": "stream",
     "text": [
      "숫자를 입력하세요 : 5\n",
      "양수\n"
     ]
    }
   ],
   "source": [
    "# ex 3-1\n",
    "x = int(input('숫자를 입력하세요 : '))\n",
    "\n",
    "if x > 0 :\n",
    "    print('양수')\n",
    "else:\n",
    "    print('0 또는 음수')"
   ]
  },
  {
   "cell_type": "code",
   "execution_count": 3,
   "metadata": {},
   "outputs": [
    {
     "name": "stdout",
     "output_type": "stream",
     "text": [
      "숫자를 입력하세요 : 0\n",
      "0\n"
     ]
    }
   ],
   "source": [
    "x = int(input('숫자를 입력하세요 : '))\n",
    "\n",
    "if x > 0 :\n",
    "    print('양수')\n",
    "else:\n",
    "    if x < 0:\n",
    "        print('음수')\n",
    "    else:\n",
    "        print('0')"
   ]
  },
  {
   "cell_type": "code",
   "execution_count": 4,
   "metadata": {},
   "outputs": [
    {
     "name": "stdout",
     "output_type": "stream",
     "text": [
      "필기성적을 입력하세요 : 96\n",
      "실기성적을 입력하세요 : 82\n",
      "합격!\n"
     ]
    }
   ],
   "source": [
    "# ex 3-4\n",
    "score1 = int(input('필기성적을 입력하세요 : '))\n",
    "score2 = int(input('실기성적을 입력하세요 : '))\n",
    "\n",
    "if score1 >= 80 and score2 >= 80 :\n",
    "    print('합격!')\n",
    "else :\n",
    "    print('불합격!')"
   ]
  },
  {
   "cell_type": "code",
   "execution_count": 6,
   "metadata": {},
   "outputs": [
    {
     "name": "stdout",
     "output_type": "stream",
     "text": [
      "이름을 입력하세요 : 홍길동\n",
      "이름 : 홍길동\n"
     ]
    }
   ],
   "source": [
    "# ex 3-6\n",
    "name = input('이름을 입력하세요 : ')\n",
    "\n",
    "if not name :\n",
    "    print('이름이 입력되지 않았다.')\n",
    "else :\n",
    "    print('이름 : %s' % name)"
   ]
  },
  {
   "cell_type": "code",
   "execution_count": 13,
   "metadata": {},
   "outputs": [
    {
     "name": "stdout",
     "output_type": "stream",
     "text": [
      "True\n"
     ]
    }
   ],
   "source": [
    "t = ''        # 0, 0.0, None 은 False, 그외는 True\n",
    "if t:\n",
    "    print('True')\n",
    "else:\n",
    "    print('False')"
   ]
  },
  {
   "cell_type": "code",
   "execution_count": 14,
   "metadata": {},
   "outputs": [
    {
     "name": "stdout",
     "output_type": "stream",
     "text": [
      "1\n"
     ]
    }
   ],
   "source": [
    "sum = 0\n",
    "sum += True\n",
    "print(sum)"
   ]
  },
  {
   "cell_type": "code",
   "execution_count": 17,
   "metadata": {},
   "outputs": [
    {
     "name": "stdout",
     "output_type": "stream",
     "text": [
      "나이를 입력하세요 : 5\n",
      "입장료 : 무료\n"
     ]
    }
   ],
   "source": [
    "# ex 3-8\n",
    "age = int(input('나이를 입력하세요 : '))\n",
    "pay = '3000원'\n",
    "\n",
    "if age >= 65 or age < 7 :\n",
    "    pay = '무료'\n",
    "\n",
    "print('입장료 : %s' % pay)"
   ]
  },
  {
   "cell_type": "code",
   "execution_count": 1,
   "metadata": {},
   "outputs": [
    {
     "name": "stdout",
     "output_type": "stream",
     "text": [
      "나이를 입력하세요 : 30\n",
      "입장료 : 3000\n"
     ]
    }
   ],
   "source": [
    "age = int(input('나이를 입력하세요 : '))\n",
    "if age >= 65 or age < 7 :\n",
    "    pay = '무료'\n",
    "elif age <= 18 :\n",
    "    pay = 1500\n",
    "else:\n",
    "    pay = 3000\n",
    "\n",
    "print('입장료 : %s' % pay)"
   ]
  },
  {
   "cell_type": "code",
   "execution_count": 2,
   "metadata": {},
   "outputs": [
    {
     "name": "stdout",
     "output_type": "stream",
     "text": [
      "점수를 입력하세요 : 86\n",
      "성적 : 86점\n",
      "등급 : B\n"
     ]
    }
   ],
   "source": [
    "# ex 3-10\n",
    "score = int(input('점수를 입력하세요 : '))\n",
    "\n",
    "if score >= 90 :\n",
    "    grade = 'A'\n",
    "elif score >= 80 :\n",
    "    grade = 'B'\n",
    "elif score >= 70 :\n",
    "    grade = 'C'\n",
    "elif score >= 60 :\n",
    "    grade = 'D'\n",
    "else :\n",
    "    grade = 'F'\n",
    "\n",
    "print('성적 : %d점' % score)\n",
    "print('등급 : %s' % grade)"
   ]
  },
  {
   "cell_type": "code",
   "execution_count": 3,
   "metadata": {},
   "outputs": [
    {
     "name": "stdout",
     "output_type": "stream",
     "text": [
      "현재년을 입력해 주세요 : 2020\n",
      "현재월을 입력해 주세요 : 5\n",
      "현재일을 입력해 주세요 : 29\n",
      "출생년을 입력해 주세요 : 1991\n",
      "출생월을 입력해 주세요 : 12\n",
      "출생일을 입력해 주세요 : 5\n",
      "--------------------------------------------------\n",
      "오늘 날짜 : 2020년 5월 29일\n",
      "생년 월일 : 1991년 12월 5일\n",
      "--------------------------------------------------\n",
      "만 나이 : 28세\n",
      "--------------------------------------------------\n"
     ]
    }
   ],
   "source": [
    "# ex 3-11\n",
    "now_year  = int(input('현재년을 입력해 주세요 : ')) \n",
    "now_month = int(input('현재월을 입력해 주세요 : ')) \n",
    "now_day   = int(input('현재일을 입력해 주세요 : ')) \n",
    "\n",
    "birth_year  = int(input('출생년을 입력해 주세요 : ')) \n",
    "birth_month = int(input('출생월을 입력해 주세요 : ')) \n",
    "birth_day   = int(input('출생일을 입력해 주세요 : ')) \n",
    "\n",
    "if birth_month < now_month : \n",
    "    age = now_year - birth_year \n",
    "elif birth_month == now_month : \n",
    "    if birth_day < now_day : \n",
    "        age = now_year - birth_year \n",
    "    else : \n",
    "        age = now_year - birth_year - 1 \n",
    "else : \n",
    "    age = now_year - birth_year - 1 \n",
    "\n",
    "    print('-' * 50) \n",
    "print('오늘 날짜 : %d년 %d월 %d일' % (now_year, now_month, now_day))\n",
    "print('생년 월일 : %d년 %d월 %d일' % (birth_year, birth_month, birth_day))\n",
    "print('-' * 50) \n",
    "print('만 나이 : %d세' % age) \n",
    "print('-' * 50)"
   ]
  },
  {
   "cell_type": "code",
   "execution_count": null,
   "metadata": {},
   "outputs": [],
   "source": []
  }
 ],
 "metadata": {
  "kernelspec": {
   "display_name": "Python 3",
   "language": "python",
   "name": "python3"
  },
  "language_info": {
   "codemirror_mode": {
    "name": "ipython",
    "version": 3
   },
   "file_extension": ".py",
   "mimetype": "text/x-python",
   "name": "python",
   "nbconvert_exporter": "python",
   "pygments_lexer": "ipython3",
   "version": "3.7.6"
  }
 },
 "nbformat": 4,
 "nbformat_minor": 4
}
