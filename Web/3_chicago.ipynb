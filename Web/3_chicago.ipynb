{
 "cells": [
  {
   "cell_type": "markdown",
   "metadata": {},
   "source": [
    "# 시카고 샌드위치 맛집 분석"
   ]
  },
  {
   "cell_type": "markdown",
   "metadata": {},
   "source": [
    "## 1. 시카고 샌드위치 맛집 사이트에 접근하기"
   ]
  },
  {
   "cell_type": "code",
   "execution_count": 1,
   "metadata": {},
   "outputs": [],
   "source": [
    "from bs4 import BeautifulSoup \n",
    "from urllib.request import urlopen"
   ]
  },
  {
   "cell_type": "code",
   "execution_count": 2,
   "metadata": {},
   "outputs": [],
   "source": [
    "url_base = 'http://www.chicagomag.com'\n",
    "url_sub = '/Chicago-Magazine/November-2012/Best-Sandwiches-Chicago/'\n",
    "url = url_base + url_sub\n",
    "\n",
    "html = urlopen(url)\n",
    "soup = BeautifulSoup(html, 'html.parser')"
   ]
  },
  {
   "cell_type": "code",
   "execution_count": 3,
   "metadata": {},
   "outputs": [
    {
     "data": {
      "text/plain": [
       "<div class=\"sammy\" style=\"position: relative;\">\n",
       "<div class=\"sammyRank\">1</div>\n",
       "<div class=\"sammyListing\"><a href=\"/Chicago-Magazine/November-2012/Best-Sandwiches-in-Chicago-Old-Oak-Tap-BLT/\"><b>BLT</b><br>\n",
       "Old Oak Tap<br>\n",
       "<em>Read more</em> </br></br></a></div>\n",
       "</div>"
      ]
     },
     "execution_count": 3,
     "metadata": {},
     "output_type": "execute_result"
    }
   ],
   "source": [
    "rest_list = soup.find_all(class_='sammy')\n",
    "rest_list[0]"
   ]
  },
  {
   "cell_type": "code",
   "execution_count": 4,
   "metadata": {},
   "outputs": [
    {
     "data": {
      "text/plain": [
       "50"
      ]
     },
     "execution_count": 4,
     "metadata": {},
     "output_type": "execute_result"
    }
   ],
   "source": [
    "len(rest_list)"
   ]
  },
  {
   "cell_type": "markdown",
   "metadata": {},
   "source": [
    "## 2. 접근한 웹 페이지에서 원하는 데이터 추출하고 정리하기"
   ]
  },
  {
   "cell_type": "code",
   "execution_count": 5,
   "metadata": {},
   "outputs": [],
   "source": [
    "tmp_one = rest_list[0]"
   ]
  },
  {
   "cell_type": "code",
   "execution_count": 6,
   "metadata": {},
   "outputs": [
    {
     "data": {
      "text/plain": [
       "<div class=\"sammyRank\">1</div>"
      ]
     },
     "execution_count": 6,
     "metadata": {},
     "output_type": "execute_result"
    }
   ],
   "source": [
    "tmp_one.find(class_=\"sammyRank\")"
   ]
  },
  {
   "cell_type": "code",
   "execution_count": 7,
   "metadata": {},
   "outputs": [
    {
     "data": {
      "text/plain": [
       "'1'"
      ]
     },
     "execution_count": 7,
     "metadata": {},
     "output_type": "execute_result"
    }
   ],
   "source": [
    "tmp_one.find(class_=\"sammyRank\").get_text()"
   ]
  },
  {
   "cell_type": "code",
   "execution_count": 8,
   "metadata": {},
   "outputs": [
    {
     "data": {
      "text/plain": [
       "'BLT\\r\\nOld Oak Tap\\nRead more '"
      ]
     },
     "execution_count": 8,
     "metadata": {},
     "output_type": "execute_result"
    }
   ],
   "source": [
    "tmp_one.find(class_=\"sammyListing\").get_text()"
   ]
  },
  {
   "cell_type": "code",
   "execution_count": 9,
   "metadata": {},
   "outputs": [
    {
     "data": {
      "text/plain": [
       "'/Chicago-Magazine/November-2012/Best-Sandwiches-in-Chicago-Old-Oak-Tap-BLT/'"
      ]
     },
     "execution_count": 9,
     "metadata": {},
     "output_type": "execute_result"
    }
   ],
   "source": [
    "tmp_one.find('a')['href']"
   ]
  },
  {
   "cell_type": "code",
   "execution_count": 10,
   "metadata": {},
   "outputs": [
    {
     "data": {
      "text/plain": [
       "['BLT\\r', 'Old Oak Tap', 'Read more ']"
      ]
     },
     "execution_count": 10,
     "metadata": {},
     "output_type": "execute_result"
    }
   ],
   "source": [
    "tmp_str = tmp_one.find(class_=\"sammyListing\").get_text()\n",
    "tmp_str.split('\\n')"
   ]
  },
  {
   "cell_type": "code",
   "execution_count": 11,
   "metadata": {},
   "outputs": [
    {
     "data": {
      "text/plain": [
       "'BLT'"
      ]
     },
     "execution_count": 11,
     "metadata": {},
     "output_type": "execute_result"
    }
   ],
   "source": [
    "tmp_res = tmp_str.split('\\n')\n",
    "menu = tmp_res[0].replace('\\r', '')\n",
    "menu"
   ]
  },
  {
   "cell_type": "code",
   "execution_count": 12,
   "metadata": {},
   "outputs": [
    {
     "data": {
      "text/plain": [
       "'Old Oak Tap'"
      ]
     },
     "execution_count": 12,
     "metadata": {},
     "output_type": "execute_result"
    }
   ],
   "source": [
    "cafe = tmp_res[1]\n",
    "cafe"
   ]
  },
  {
   "cell_type": "code",
   "execution_count": 13,
   "metadata": {},
   "outputs": [],
   "source": [
    "# Regular Expression\n",
    "import re"
   ]
  },
  {
   "cell_type": "code",
   "execution_count": 14,
   "metadata": {},
   "outputs": [
    {
     "data": {
      "text/plain": [
       "['BLT', 'Old Oak Tap', 'Read more ']"
      ]
     },
     "execution_count": 14,
     "metadata": {},
     "output_type": "execute_result"
    }
   ],
   "source": [
    "re.split(('\\n|\\r\\n'), tmp_str)"
   ]
  },
  {
   "cell_type": "code",
   "execution_count": 15,
   "metadata": {},
   "outputs": [
    {
     "name": "stdout",
     "output_type": "stream",
     "text": [
      "BLT\n",
      "Old Oak Tap\n"
     ]
    }
   ],
   "source": [
    "print(re.split(('\\n|\\r\\n'), tmp_str)[0])\n",
    "print(re.split(('\\n|\\r\\n'), tmp_str)[1])"
   ]
  },
  {
   "cell_type": "code",
   "execution_count": 16,
   "metadata": {},
   "outputs": [],
   "source": [
    "from urllib.parse import urljoin"
   ]
  },
  {
   "cell_type": "code",
   "execution_count": 17,
   "metadata": {},
   "outputs": [],
   "source": [
    "## 데이터 프레임 만들기 전에 항목 데이터 구하기\n",
    "rank = []\n",
    "main_menu = []\n",
    "cafe_name = []\n",
    "url_add = []\n",
    "\n",
    "for rest in rest_list:\n",
    "    rank.append(int(rest.find(class_=\"sammyRank\").get_text()))\n",
    "    tmp_str = rest.find(class_=\"sammyListing\").get_text()\n",
    "    main_menu.append(re.split(('\\n|\\r\\n'), tmp_str)[0])\n",
    "    cafe_name.append(re.split(('\\n|\\r\\n'), tmp_str)[1])\n",
    "    url_add.append(urljoin(url_base, rest.find('a')['href']))"
   ]
  },
  {
   "cell_type": "code",
   "execution_count": 18,
   "metadata": {},
   "outputs": [
    {
     "data": {
      "text/plain": [
       "[1, 2, 3, 4, 5]"
      ]
     },
     "execution_count": 18,
     "metadata": {},
     "output_type": "execute_result"
    }
   ],
   "source": [
    "rank[:5]"
   ]
  },
  {
   "cell_type": "code",
   "execution_count": 19,
   "metadata": {},
   "outputs": [
    {
     "data": {
      "text/plain": [
       "['BLT', 'Fried Bologna', 'Woodland Mushroom', 'Roast Beef', 'PB&L']"
      ]
     },
     "execution_count": 19,
     "metadata": {},
     "output_type": "execute_result"
    }
   ],
   "source": [
    "main_menu[:5]"
   ]
  },
  {
   "cell_type": "code",
   "execution_count": 20,
   "metadata": {},
   "outputs": [
    {
     "data": {
      "text/plain": [
       "['Old Oak Tap', 'Au Cheval', 'Xoco', 'Al’s Deli', 'Publican Quality Meats']"
      ]
     },
     "execution_count": 20,
     "metadata": {},
     "output_type": "execute_result"
    }
   ],
   "source": [
    "cafe_name[:5]"
   ]
  },
  {
   "cell_type": "code",
   "execution_count": 21,
   "metadata": {},
   "outputs": [
    {
     "data": {
      "text/plain": [
       "['http://www.chicagomag.com/Chicago-Magazine/November-2012/Best-Sandwiches-in-Chicago-Old-Oak-Tap-BLT/',\n",
       " 'http://www.chicagomag.com/Chicago-Magazine/November-2012/Best-Sandwiches-in-Chicago-Au-Cheval-Fried-Bologna/',\n",
       " 'http://www.chicagomag.com/Chicago-Magazine/November-2012/Best-Sandwiches-in-Chicago-Xoco-Woodland-Mushroom/',\n",
       " 'http://www.chicagomag.com/Chicago-Magazine/November-2012/Best-Sandwiches-in-Chicago-Als-Deli-Roast-Beef/',\n",
       " 'http://www.chicagomag.com/Chicago-Magazine/November-2012/Best-Sandwiches-in-Chicago-Publican-Quality-Meats-PB-L/',\n",
       " 'http://www.chicagomag.com/Chicago-Magazine/November-2012/Best-Sandwiches-in-Chicago-Hendrickx-Belgian-Bread-Crafter-Belgian-Chicken-Curry-Salad/',\n",
       " 'http://www.chicagomag.com/Chicago-Magazine/November-2012/Best-Sandwiches-in-Chicago-Acadia-Lobster-Roll/',\n",
       " 'http://www.chicagomag.com/Chicago-Magazine/November-2012/Best-Sandwiches-in-Chicago-Birchwood-Kitchen-Smoked-Salmon-Salad/',\n",
       " 'http://www.chicagomag.com/Chicago-Magazine/November-2012/Best-Sandwiches-in-Chicago-Cemitas-Puebla-Atomica-Cemitas/',\n",
       " 'http://www.chicagomag.com/Chicago-Magazine/November-2012/Best-Sandwiches-in-Chicago-Nana-Grilled-Laughing-Bird-Shrimp-and-Fried-Oyster-Po-Boy/',\n",
       " 'http://www.chicagomag.com/Chicago-Magazine/November-2012/Best-Sandwiches-in-Chicago-Lula-Cafe-Ham-and-Raclette-Panino/',\n",
       " 'http://www.chicagomag.com/Chicago-Magazine/November-2012/Best-Sandwiches-in-Chicago-Ricobenes-Breaded-Steak/',\n",
       " 'http://www.chicagomag.com/Chicago-Magazine/November-2012/Best-Sandwiches-in-Chicago-Frog-n-Snail-The-Hawkeye/',\n",
       " 'http://www.chicagomag.com/Chicago-Magazine/November-2012/Best-Sandwiches-in-Chicago-Crosbys-Kitchen-Chicken-Dip/',\n",
       " 'http://www.chicagomag.com/Chicago-Magazine/November-2012/Best-Sandwiches-in-Chicago-Longman-and-Eagle-Wild-Boar-Sloppy-Joe/',\n",
       " 'http://www.chicagomag.com/Chicago-Magazine/November-2012/Best-Sandwiches-in-Chicago-Bari-Meatball-Sub/',\n",
       " 'http://www.chicagomag.com/Chicago-Magazine/November-2012/Best-Sandwiches-in-Chicago-Mannys-Corned-Beef/',\n",
       " 'http://www.chicagomag.com/Chicago-Magazine/November-2012/Best-Sandwiches-in-Chicago-Eggys-Turkey-Club/',\n",
       " 'http://www.chicagomag.com/Chicago-Magazine/November-2012/Best-Sandwiches-in-Chicago-Old-Jerusalem-Falafel/',\n",
       " 'http://www.chicagomag.com/Chicago-Magazine/November-2012/Best-Sandwiches-in-Chicago-Mindys-HotChocolate-Crab-Cake/',\n",
       " 'http://www.chicagomag.com/Chicago-Magazine/November-2012/Best-Sandwiches-in-Chicago-Olgas-Delicatessen-Chicken-Schnitzel/',\n",
       " 'http://www.chicagomag.com/Chicago-Magazine/November-2012/Best-Sandwiches-in-Chicago-Dawali-Mediterranean-Kitchen-Shawarma/',\n",
       " 'http://www.chicagomag.com/Chicago-Magazine/November-2012/Best-Sandwiches-in-Chicago-Big-Jones-Toasted-Pimiento-Cheese/',\n",
       " 'http://www.chicagomag.com/Chicago-Magazine/November-2012/Best-Sandwiches-in-Chicago-La-Pane-Vegetarian-Panino/',\n",
       " 'http://www.chicagomag.com/Chicago-Magazine/November-2012/Best-Sandwiches-in-Chicago-Pastoral-Cali-Chevre/',\n",
       " 'http://www.chicagomag.com/Chicago-Magazine/November-2012/Best-Sandwiches-in-Chicago-Maxs-Deli-Pastrami/',\n",
       " 'http://www.chicagomag.com/Chicago-Magazine/November-2012/Best-Sandwiches-in-Chicago-Luckys-Sandwich-Co-The-Fredo/',\n",
       " 'http://www.chicagomag.com/Chicago-Magazine/November-2012/Best-Sandwiches-in-Chicago-City-Provisions-Smoked-Ham/',\n",
       " 'http://www.chicagomag.com/Chicago-Magazine/November-2012/Best-Sandwiches-in-Chicago-Papas-Cache-Sabroso-Jibarito/',\n",
       " 'http://www.chicagomag.com/Chicago-Magazine/November-2012/Best-Sandwiches-in-Chicago-Bavettes-Bar-and-Boeuf-Shaved-Prime-Rib/',\n",
       " 'http://www.chicagomag.com/Chicago-Magazine/November-2012/Best-Sandwiches-in-Chicago-Hannahs-Bretzel-Serrano-Ham-and-Manchego-Cheese/',\n",
       " 'http://www.chicagomag.com/Chicago-Magazine/November-2012/Best-Sandwiches-in-Chicago-La-Fournette-Tuna-Salad/',\n",
       " 'http://www.chicagomag.com/Chicago-Magazine/November-2012/Best-Sandwiches-in-Chicago-Paramount-Room-Paramount-Reuben/',\n",
       " 'http://www.chicagomag.com/Chicago-Magazine/November-2012/Best-Sandwiches-in-Chicago-Melt-Sandwich-Shoppe-The-Istanbul/',\n",
       " 'http://www.chicagomag.com/Chicago-Magazine/November-2012/Best-Sandwiches-in-Chicago-Floriole-Cafe-and-Bakery-BAD/',\n",
       " 'http://www.chicagomag.com/Chicago-Magazine/November-2012/Best-Sandwiches-in-Chicago-First-Slice-Pie-Cafe-Duck-Confit-and-Mozzarella/',\n",
       " 'http://www.chicagomag.com/Chicago-Magazine/November-2012/Best-Sandwiches-in-Chicago-Troquet-Croque-Monsieur/',\n",
       " 'http://www.chicagomag.com/Chicago-Magazine/November-2012/Best-Sandwiches-in-Chicago-Grahamwich-Green-Garbanzo/',\n",
       " 'http://www.chicagomag.com/Chicago-Magazine/November-2012/Best-Sandwiches-in-Chicago-Saigon-Sisters-The-Hen-House/',\n",
       " 'http://www.chicagomag.com/Chicago-Magazine/November-2012/Best-Sandwiches-in-Chicago-Rosalias-Deli-Tuscan-Chicken/',\n",
       " 'http://www.chicagomag.com/Chicago-Magazine/November-2012/Best-Sandwiches-in-Chicago-Z-and-H-MarketCafe-The-Marty/',\n",
       " 'http://www.chicagomag.com/Chicago-Magazine/November-2012/Best-Sandwiches-in-Chicago-Market-House-on-the-Square-Whitefish/',\n",
       " 'http://www.chicagomag.com/Chicago-Magazine/November-2012/Best-Sandwiches-in-Chicago-Elaines-Coffee-Call-Oat-Bread-Pecan-Butter-and-Fruit-Jam/',\n",
       " 'http://www.chicagomag.com/Chicago-Magazine/November-2012/Best-Sandwiches-in-Chicago-Marion-Street-Cheese-Market-Cauliflower-Melt/',\n",
       " 'http://www.chicagomag.com/Chicago-Magazine/November-2012/Best-Sandwiches-in-Chicago-Cafecito-Cubano/',\n",
       " 'http://www.chicagomag.com/Chicago-Magazine/November-2012/Best-Sandwiches-in-Chicago-Chickpea-Kufta/',\n",
       " 'http://www.chicagomag.com/Chicago-Magazine/November-2012/Best-Sandwiches-in-Chicago-The-Goddess-and-Grocer-Debbies-Egg-Salad/',\n",
       " 'http://www.chicagomag.com/Chicago-Magazine/November-2012/Best-Sandwiches-in-Chicago-Zenwich-Beef-Curry/',\n",
       " 'http://www.chicagomag.com/Chicago-Magazine/November-2012/Best-Sandwiches-in-Chicago-Toni-Patisserie-Le-Vegetarien/',\n",
       " 'http://www.chicagomag.com/Chicago-Magazine/November-2012/Best-Sandwiches-in-Chicago-Phoebes-Bakery-The-Gatsby/']"
      ]
     },
     "execution_count": 21,
     "metadata": {},
     "output_type": "execute_result"
    }
   ],
   "source": [
    "url_add"
   ]
  },
  {
   "cell_type": "code",
   "execution_count": 23,
   "metadata": {},
   "outputs": [
    {
     "data": {
      "text/html": [
       "<div>\n",
       "<style scoped>\n",
       "    .dataframe tbody tr th:only-of-type {\n",
       "        vertical-align: middle;\n",
       "    }\n",
       "\n",
       "    .dataframe tbody tr th {\n",
       "        vertical-align: top;\n",
       "    }\n",
       "\n",
       "    .dataframe thead th {\n",
       "        text-align: right;\n",
       "    }\n",
       "</style>\n",
       "<table border=\"1\" class=\"dataframe\">\n",
       "  <thead>\n",
       "    <tr style=\"text-align: right;\">\n",
       "      <th></th>\n",
       "      <th>rank</th>\n",
       "      <th>cafe</th>\n",
       "      <th>menu</th>\n",
       "      <th>URL</th>\n",
       "    </tr>\n",
       "  </thead>\n",
       "  <tbody>\n",
       "    <tr>\n",
       "      <th>0</th>\n",
       "      <td>1</td>\n",
       "      <td>Old Oak Tap</td>\n",
       "      <td>BLT</td>\n",
       "      <td>http://www.chicagomag.com/Chicago-Magazine/Nov...</td>\n",
       "    </tr>\n",
       "    <tr>\n",
       "      <th>1</th>\n",
       "      <td>2</td>\n",
       "      <td>Au Cheval</td>\n",
       "      <td>Fried Bologna</td>\n",
       "      <td>http://www.chicagomag.com/Chicago-Magazine/Nov...</td>\n",
       "    </tr>\n",
       "    <tr>\n",
       "      <th>2</th>\n",
       "      <td>3</td>\n",
       "      <td>Xoco</td>\n",
       "      <td>Woodland Mushroom</td>\n",
       "      <td>http://www.chicagomag.com/Chicago-Magazine/Nov...</td>\n",
       "    </tr>\n",
       "    <tr>\n",
       "      <th>3</th>\n",
       "      <td>4</td>\n",
       "      <td>Al’s Deli</td>\n",
       "      <td>Roast Beef</td>\n",
       "      <td>http://www.chicagomag.com/Chicago-Magazine/Nov...</td>\n",
       "    </tr>\n",
       "    <tr>\n",
       "      <th>4</th>\n",
       "      <td>5</td>\n",
       "      <td>Publican Quality Meats</td>\n",
       "      <td>PB&amp;L</td>\n",
       "      <td>http://www.chicagomag.com/Chicago-Magazine/Nov...</td>\n",
       "    </tr>\n",
       "  </tbody>\n",
       "</table>\n",
       "</div>"
      ],
      "text/plain": [
       "   rank                    cafe               menu  \\\n",
       "0     1             Old Oak Tap                BLT   \n",
       "1     2               Au Cheval      Fried Bologna   \n",
       "2     3                    Xoco  Woodland Mushroom   \n",
       "3     4               Al’s Deli         Roast Beef   \n",
       "4     5  Publican Quality Meats               PB&L   \n",
       "\n",
       "                                                 URL  \n",
       "0  http://www.chicagomag.com/Chicago-Magazine/Nov...  \n",
       "1  http://www.chicagomag.com/Chicago-Magazine/Nov...  \n",
       "2  http://www.chicagomag.com/Chicago-Magazine/Nov...  \n",
       "3  http://www.chicagomag.com/Chicago-Magazine/Nov...  \n",
       "4  http://www.chicagomag.com/Chicago-Magazine/Nov...  "
      ]
     },
     "execution_count": 23,
     "metadata": {},
     "output_type": "execute_result"
    }
   ],
   "source": [
    "# 데이터 프레임으로 만들기\n",
    "import pandas as pd\n",
    "df = pd.DataFrame({'rank': rank, 'cafe': cafe_name, 'menu': main_menu, 'URL': url_add})\n",
    "df.head()"
   ]
  },
  {
   "cell_type": "code",
   "execution_count": 24,
   "metadata": {},
   "outputs": [],
   "source": [
    "df.to_csv('chicago1.csv', sep=',', encoding=\"UTF-8\")"
   ]
  },
  {
   "cell_type": "markdown",
   "metadata": {},
   "source": [
    "## 3. 다수의 웹 페이지에 자동으로 접근해서 원하는 정보 가져오기"
   ]
  },
  {
   "cell_type": "code",
   "execution_count": 26,
   "metadata": {},
   "outputs": [
    {
     "data": {
      "text/plain": [
       "'http://www.chicagomag.com/Chicago-Magazine/November-2012/Best-Sandwiches-in-Chicago-Old-Oak-Tap-BLT/'"
      ]
     },
     "execution_count": 26,
     "metadata": {},
     "output_type": "execute_result"
    }
   ],
   "source": [
    "df['URL'][0]"
   ]
  },
  {
   "cell_type": "code",
   "execution_count": 28,
   "metadata": {},
   "outputs": [],
   "source": [
    "html = urlopen(df['URL'][0])\n",
    "soup_tmp = BeautifulSoup(html, 'html.parser')"
   ]
  },
  {
   "cell_type": "code",
   "execution_count": 29,
   "metadata": {},
   "outputs": [
    {
     "data": {
      "text/plain": [
       "<p class=\"addy\">\n",
       "<em>$10. 2109 W. Chicago Ave., 773-772-0406, <a href=\"http://www.theoldoaktap.com/\">theoldoaktap.com</a></em></p>"
      ]
     },
     "execution_count": 29,
     "metadata": {},
     "output_type": "execute_result"
    }
   ],
   "source": [
    "soup_tmp.find(class_='addy')"
   ]
  },
  {
   "cell_type": "code",
   "execution_count": 30,
   "metadata": {},
   "outputs": [
    {
     "data": {
      "text/plain": [
       "'\\n$10. 2109 W. Chicago Ave., 773-772-0406, theoldoaktap.com'"
      ]
     },
     "execution_count": 30,
     "metadata": {},
     "output_type": "execute_result"
    }
   ],
   "source": [
    "tmp_str = soup_tmp.find(class_='addy').get_text()\n",
    "tmp_str"
   ]
  },
  {
   "cell_type": "code",
   "execution_count": 31,
   "metadata": {},
   "outputs": [
    {
     "data": {
      "text/plain": [
       "['$10.', '2109', 'W.', 'Chicago', 'Ave.,', '773-772-0406,', 'theoldoaktap.com']"
      ]
     },
     "execution_count": 31,
     "metadata": {},
     "output_type": "execute_result"
    }
   ],
   "source": [
    "tmp_str.split()"
   ]
  },
  {
   "cell_type": "code",
   "execution_count": 33,
   "metadata": {},
   "outputs": [
    {
     "data": {
      "text/plain": [
       "'$10'"
      ]
     },
     "execution_count": 33,
     "metadata": {},
     "output_type": "execute_result"
    }
   ],
   "source": [
    "tmp_price = tmp_str.split()[0][:-1]\n",
    "tmp_price"
   ]
  },
  {
   "cell_type": "code",
   "execution_count": 34,
   "metadata": {},
   "outputs": [
    {
     "data": {
      "text/plain": [
       "['2109', 'W.', 'Chicago', 'Ave.,']"
      ]
     },
     "execution_count": 34,
     "metadata": {},
     "output_type": "execute_result"
    }
   ],
   "source": [
    "tmp_str.split()[1:-2]"
   ]
  },
  {
   "cell_type": "code",
   "execution_count": 35,
   "metadata": {},
   "outputs": [
    {
     "data": {
      "text/plain": [
       "'2109 W. Chicago Ave.,'"
      ]
     },
     "execution_count": 35,
     "metadata": {},
     "output_type": "execute_result"
    }
   ],
   "source": [
    "' '.join(tmp_str.split()[1:-2])"
   ]
  },
  {
   "cell_type": "code",
   "execution_count": 36,
   "metadata": {},
   "outputs": [
    {
     "data": {
      "text/plain": [
       "'2109 W. Chicago Ave.'"
      ]
     },
     "execution_count": 36,
     "metadata": {},
     "output_type": "execute_result"
    }
   ],
   "source": [
    "tmp_addr = ' '.join(tmp_str.split()[1:-2])[:-1]\n",
    "tmp_addr"
   ]
  },
  {
   "cell_type": "markdown",
   "metadata": {},
   "source": [
    "### - 상태 진행바 적용"
   ]
  },
  {
   "cell_type": "code",
   "execution_count": 37,
   "metadata": {},
   "outputs": [],
   "source": [
    "from tqdm import tqdm_notebook \n",
    "import time "
   ]
  },
  {
   "cell_type": "code",
   "execution_count": 38,
   "metadata": {},
   "outputs": [
    {
     "name": "stderr",
     "output_type": "stream",
     "text": [
      "C:\\ProgramData\\Anaconda3\\lib\\site-packages\\ipykernel_launcher.py:3: TqdmDeprecationWarning: This function will be removed in tqdm==5.0.0\n",
      "Please use `tqdm.notebook.tqdm` instead of `tqdm.tqdm_notebook`\n",
      "  This is separate from the ipykernel package so we can avoid doing imports until\n"
     ]
    },
    {
     "data": {
      "application/vnd.jupyter.widget-view+json": {
       "model_id": "af30ebf4b63748e3a483de4daf350f6c",
       "version_major": 2,
       "version_minor": 0
      },
      "text/plain": [
       "HBox(children=(FloatProgress(value=0.0, max=50.0), HTML(value='')))"
      ]
     },
     "metadata": {},
     "output_type": "display_data"
    },
    {
     "name": "stdout",
     "output_type": "stream",
     "text": [
      "\n"
     ]
    }
   ],
   "source": [
    "price = []\n",
    "addr = []\n",
    "for n in tqdm_notebook(df.index):\n",
    "    html = urlopen(df['URL'][n])\n",
    "    soup_tmp = BeautifulSoup(html, 'html.parser')\n",
    "    tmp_str = soup_tmp.find(class_='addy').get_text()\n",
    "    \n",
    "    price.append(tmp_str.split()[0][:-1])\n",
    "    addr.append(' '.join(tmp_str.split()[1:-2])[:-1])"
   ]
  },
  {
   "cell_type": "code",
   "execution_count": 39,
   "metadata": {},
   "outputs": [
    {
     "data": {
      "text/plain": [
       "['$10', '$9', '$9.50', '$9.40', '$10', '$7.25', '$16', '$10', '$9', '$17']"
      ]
     },
     "execution_count": 39,
     "metadata": {},
     "output_type": "execute_result"
    }
   ],
   "source": [
    "price[:10]"
   ]
  },
  {
   "cell_type": "code",
   "execution_count": 40,
   "metadata": {},
   "outputs": [
    {
     "data": {
      "text/plain": [
       "['2109 W. Chicago Ave.',\n",
       " '800 W. Randolph St.',\n",
       " '445 N. Clark St.',\n",
       " '914 Noyes St., Evanston',\n",
       " '825 W. Fulton Mkt.']"
      ]
     },
     "execution_count": 40,
     "metadata": {},
     "output_type": "execute_result"
    }
   ],
   "source": [
    "addr[:5]"
   ]
  },
  {
   "cell_type": "code",
   "execution_count": 41,
   "metadata": {},
   "outputs": [
    {
     "data": {
      "text/html": [
       "<div>\n",
       "<style scoped>\n",
       "    .dataframe tbody tr th:only-of-type {\n",
       "        vertical-align: middle;\n",
       "    }\n",
       "\n",
       "    .dataframe tbody tr th {\n",
       "        vertical-align: top;\n",
       "    }\n",
       "\n",
       "    .dataframe thead th {\n",
       "        text-align: right;\n",
       "    }\n",
       "</style>\n",
       "<table border=\"1\" class=\"dataframe\">\n",
       "  <thead>\n",
       "    <tr style=\"text-align: right;\">\n",
       "      <th></th>\n",
       "      <th>rank</th>\n",
       "      <th>cafe</th>\n",
       "      <th>menu</th>\n",
       "      <th>URL</th>\n",
       "    </tr>\n",
       "  </thead>\n",
       "  <tbody>\n",
       "    <tr>\n",
       "      <th>0</th>\n",
       "      <td>1</td>\n",
       "      <td>Old Oak Tap</td>\n",
       "      <td>BLT</td>\n",
       "      <td>http://www.chicagomag.com/Chicago-Magazine/Nov...</td>\n",
       "    </tr>\n",
       "    <tr>\n",
       "      <th>1</th>\n",
       "      <td>2</td>\n",
       "      <td>Au Cheval</td>\n",
       "      <td>Fried Bologna</td>\n",
       "      <td>http://www.chicagomag.com/Chicago-Magazine/Nov...</td>\n",
       "    </tr>\n",
       "    <tr>\n",
       "      <th>2</th>\n",
       "      <td>3</td>\n",
       "      <td>Xoco</td>\n",
       "      <td>Woodland Mushroom</td>\n",
       "      <td>http://www.chicagomag.com/Chicago-Magazine/Nov...</td>\n",
       "    </tr>\n",
       "    <tr>\n",
       "      <th>3</th>\n",
       "      <td>4</td>\n",
       "      <td>Al’s Deli</td>\n",
       "      <td>Roast Beef</td>\n",
       "      <td>http://www.chicagomag.com/Chicago-Magazine/Nov...</td>\n",
       "    </tr>\n",
       "    <tr>\n",
       "      <th>4</th>\n",
       "      <td>5</td>\n",
       "      <td>Publican Quality Meats</td>\n",
       "      <td>PB&amp;L</td>\n",
       "      <td>http://www.chicagomag.com/Chicago-Magazine/Nov...</td>\n",
       "    </tr>\n",
       "  </tbody>\n",
       "</table>\n",
       "</div>"
      ],
      "text/plain": [
       "   rank                    cafe               menu  \\\n",
       "0     1             Old Oak Tap                BLT   \n",
       "1     2               Au Cheval      Fried Bologna   \n",
       "2     3                    Xoco  Woodland Mushroom   \n",
       "3     4               Al’s Deli         Roast Beef   \n",
       "4     5  Publican Quality Meats               PB&L   \n",
       "\n",
       "                                                 URL  \n",
       "0  http://www.chicagomag.com/Chicago-Magazine/Nov...  \n",
       "1  http://www.chicagomag.com/Chicago-Magazine/Nov...  \n",
       "2  http://www.chicagomag.com/Chicago-Magazine/Nov...  \n",
       "3  http://www.chicagomag.com/Chicago-Magazine/Nov...  \n",
       "4  http://www.chicagomag.com/Chicago-Magazine/Nov...  "
      ]
     },
     "execution_count": 41,
     "metadata": {},
     "output_type": "execute_result"
    }
   ],
   "source": [
    "df.head()"
   ]
  },
  {
   "cell_type": "code",
   "execution_count": 42,
   "metadata": {},
   "outputs": [
    {
     "data": {
      "text/html": [
       "<div>\n",
       "<style scoped>\n",
       "    .dataframe tbody tr th:only-of-type {\n",
       "        vertical-align: middle;\n",
       "    }\n",
       "\n",
       "    .dataframe tbody tr th {\n",
       "        vertical-align: top;\n",
       "    }\n",
       "\n",
       "    .dataframe thead th {\n",
       "        text-align: right;\n",
       "    }\n",
       "</style>\n",
       "<table border=\"1\" class=\"dataframe\">\n",
       "  <thead>\n",
       "    <tr style=\"text-align: right;\">\n",
       "      <th></th>\n",
       "      <th>rank</th>\n",
       "      <th>cafe</th>\n",
       "      <th>menu</th>\n",
       "      <th>price</th>\n",
       "      <th>address</th>\n",
       "    </tr>\n",
       "  </thead>\n",
       "  <tbody>\n",
       "    <tr>\n",
       "      <th>0</th>\n",
       "      <td>1</td>\n",
       "      <td>Old Oak Tap</td>\n",
       "      <td>BLT</td>\n",
       "      <td>$10</td>\n",
       "      <td>2109 W. Chicago Ave.</td>\n",
       "    </tr>\n",
       "    <tr>\n",
       "      <th>1</th>\n",
       "      <td>2</td>\n",
       "      <td>Au Cheval</td>\n",
       "      <td>Fried Bologna</td>\n",
       "      <td>$9</td>\n",
       "      <td>800 W. Randolph St.</td>\n",
       "    </tr>\n",
       "    <tr>\n",
       "      <th>2</th>\n",
       "      <td>3</td>\n",
       "      <td>Xoco</td>\n",
       "      <td>Woodland Mushroom</td>\n",
       "      <td>$9.50</td>\n",
       "      <td>445 N. Clark St.</td>\n",
       "    </tr>\n",
       "    <tr>\n",
       "      <th>3</th>\n",
       "      <td>4</td>\n",
       "      <td>Al’s Deli</td>\n",
       "      <td>Roast Beef</td>\n",
       "      <td>$9.40</td>\n",
       "      <td>914 Noyes St., Evanston</td>\n",
       "    </tr>\n",
       "    <tr>\n",
       "      <th>4</th>\n",
       "      <td>5</td>\n",
       "      <td>Publican Quality Meats</td>\n",
       "      <td>PB&amp;L</td>\n",
       "      <td>$10</td>\n",
       "      <td>825 W. Fulton Mkt.</td>\n",
       "    </tr>\n",
       "  </tbody>\n",
       "</table>\n",
       "</div>"
      ],
      "text/plain": [
       "   rank                    cafe               menu  price  \\\n",
       "0     1             Old Oak Tap                BLT    $10   \n",
       "1     2               Au Cheval      Fried Bologna     $9   \n",
       "2     3                    Xoco  Woodland Mushroom  $9.50   \n",
       "3     4               Al’s Deli         Roast Beef  $9.40   \n",
       "4     5  Publican Quality Meats               PB&L    $10   \n",
       "\n",
       "                   address  \n",
       "0     2109 W. Chicago Ave.  \n",
       "1      800 W. Randolph St.  \n",
       "2         445 N. Clark St.  \n",
       "3  914 Noyes St., Evanston  \n",
       "4       825 W. Fulton Mkt.  "
      ]
     },
     "execution_count": 42,
     "metadata": {},
     "output_type": "execute_result"
    }
   ],
   "source": [
    "del df['URL']\n",
    "df['price'] = price\n",
    "df['address'] = addr\n",
    "df.head()"
   ]
  },
  {
   "cell_type": "code",
   "execution_count": 43,
   "metadata": {},
   "outputs": [
    {
     "data": {
      "text/html": [
       "<div>\n",
       "<style scoped>\n",
       "    .dataframe tbody tr th:only-of-type {\n",
       "        vertical-align: middle;\n",
       "    }\n",
       "\n",
       "    .dataframe tbody tr th {\n",
       "        vertical-align: top;\n",
       "    }\n",
       "\n",
       "    .dataframe thead th {\n",
       "        text-align: right;\n",
       "    }\n",
       "</style>\n",
       "<table border=\"1\" class=\"dataframe\">\n",
       "  <thead>\n",
       "    <tr style=\"text-align: right;\">\n",
       "      <th></th>\n",
       "      <th>cafe</th>\n",
       "      <th>menu</th>\n",
       "      <th>price</th>\n",
       "      <th>address</th>\n",
       "    </tr>\n",
       "    <tr>\n",
       "      <th>rank</th>\n",
       "      <th></th>\n",
       "      <th></th>\n",
       "      <th></th>\n",
       "      <th></th>\n",
       "    </tr>\n",
       "  </thead>\n",
       "  <tbody>\n",
       "    <tr>\n",
       "      <th>1</th>\n",
       "      <td>Old Oak Tap</td>\n",
       "      <td>BLT</td>\n",
       "      <td>$10</td>\n",
       "      <td>2109 W. Chicago Ave.</td>\n",
       "    </tr>\n",
       "    <tr>\n",
       "      <th>2</th>\n",
       "      <td>Au Cheval</td>\n",
       "      <td>Fried Bologna</td>\n",
       "      <td>$9</td>\n",
       "      <td>800 W. Randolph St.</td>\n",
       "    </tr>\n",
       "    <tr>\n",
       "      <th>3</th>\n",
       "      <td>Xoco</td>\n",
       "      <td>Woodland Mushroom</td>\n",
       "      <td>$9.50</td>\n",
       "      <td>445 N. Clark St.</td>\n",
       "    </tr>\n",
       "    <tr>\n",
       "      <th>4</th>\n",
       "      <td>Al’s Deli</td>\n",
       "      <td>Roast Beef</td>\n",
       "      <td>$9.40</td>\n",
       "      <td>914 Noyes St., Evanston</td>\n",
       "    </tr>\n",
       "    <tr>\n",
       "      <th>5</th>\n",
       "      <td>Publican Quality Meats</td>\n",
       "      <td>PB&amp;L</td>\n",
       "      <td>$10</td>\n",
       "      <td>825 W. Fulton Mkt.</td>\n",
       "    </tr>\n",
       "  </tbody>\n",
       "</table>\n",
       "</div>"
      ],
      "text/plain": [
       "                        cafe               menu  price  \\\n",
       "rank                                                     \n",
       "1                Old Oak Tap                BLT    $10   \n",
       "2                  Au Cheval      Fried Bologna     $9   \n",
       "3                       Xoco  Woodland Mushroom  $9.50   \n",
       "4                  Al’s Deli         Roast Beef  $9.40   \n",
       "5     Publican Quality Meats               PB&L    $10   \n",
       "\n",
       "                      address  \n",
       "rank                           \n",
       "1        2109 W. Chicago Ave.  \n",
       "2         800 W. Randolph St.  \n",
       "3            445 N. Clark St.  \n",
       "4     914 Noyes St., Evanston  \n",
       "5          825 W. Fulton Mkt.  "
      ]
     },
     "execution_count": 43,
     "metadata": {},
     "output_type": "execute_result"
    }
   ],
   "source": [
    "df.set_index('rank', inplace=True)\n",
    "df.head()"
   ]
  },
  {
   "cell_type": "code",
   "execution_count": 44,
   "metadata": {},
   "outputs": [],
   "source": [
    "df.to_csv('chicago2.csv', sep=',', encoding=\"UTF-8\")"
   ]
  },
  {
   "cell_type": "markdown",
   "metadata": {},
   "source": [
    "## 3. 맛집 위치를 지도에 표기하기"
   ]
  },
  {
   "cell_type": "code",
   "execution_count": 66,
   "metadata": {},
   "outputs": [],
   "source": [
    "import numpy as np\n",
    "import folium\n",
    "import googlemaps"
   ]
  },
  {
   "cell_type": "code",
   "execution_count": 70,
   "metadata": {},
   "outputs": [],
   "source": [
    "key_fd = open('googlemapskey.txt', mode='r')\n",
    "gmaps_key = key_fd.read(100)\n",
    "key_fd.close()"
   ]
  },
  {
   "cell_type": "code",
   "execution_count": 71,
   "metadata": {},
   "outputs": [],
   "source": [
    "gmaps = googlemaps.Client(key=gmaps_key)"
   ]
  },
  {
   "cell_type": "code",
   "execution_count": 72,
   "metadata": {},
   "outputs": [
    {
     "name": "stderr",
     "output_type": "stream",
     "text": [
      "C:\\ProgramData\\Anaconda3\\lib\\site-packages\\ipykernel_launcher.py:4: TqdmDeprecationWarning: This function will be removed in tqdm==5.0.0\n",
      "Please use `tqdm.notebook.tqdm` instead of `tqdm.tqdm_notebook`\n",
      "  after removing the cwd from sys.path.\n"
     ]
    },
    {
     "data": {
      "application/vnd.jupyter.widget-view+json": {
       "model_id": "2833a4c1372d4aadbd3299d3241171e2",
       "version_major": 2,
       "version_minor": 0
      },
      "text/plain": [
       "HBox(children=(FloatProgress(value=0.0, max=50.0), HTML(value='')))"
      ]
     },
     "metadata": {},
     "output_type": "display_data"
    },
    {
     "name": "stdout",
     "output_type": "stream",
     "text": [
      "\n"
     ]
    }
   ],
   "source": [
    "lat = []\n",
    "lng = []\n",
    "\n",
    "for n in tqdm_notebook(df.index):\n",
    "    if df['address'][n] != 'Multiple':\n",
    "        target_name = df['address'][n]+', '+'Chicago'\n",
    "        gmaps_output = gmaps.geocode(target_name)\n",
    "        location_output = gmaps_output[0].get('geometry')\n",
    "        lat.append(location_output['location']['lat'])\n",
    "        lng.append(location_output['location']['lng'])\n",
    "    else:\n",
    "        lat.append(np.nan)\n",
    "        lng.append(np.nan)"
   ]
  },
  {
   "cell_type": "code",
   "execution_count": 73,
   "metadata": {},
   "outputs": [
    {
     "data": {
      "text/html": [
       "<div>\n",
       "<style scoped>\n",
       "    .dataframe tbody tr th:only-of-type {\n",
       "        vertical-align: middle;\n",
       "    }\n",
       "\n",
       "    .dataframe tbody tr th {\n",
       "        vertical-align: top;\n",
       "    }\n",
       "\n",
       "    .dataframe thead th {\n",
       "        text-align: right;\n",
       "    }\n",
       "</style>\n",
       "<table border=\"1\" class=\"dataframe\">\n",
       "  <thead>\n",
       "    <tr style=\"text-align: right;\">\n",
       "      <th></th>\n",
       "      <th>cafe</th>\n",
       "      <th>menu</th>\n",
       "      <th>price</th>\n",
       "      <th>address</th>\n",
       "      <th>lat</th>\n",
       "      <th>lng</th>\n",
       "    </tr>\n",
       "    <tr>\n",
       "      <th>rank</th>\n",
       "      <th></th>\n",
       "      <th></th>\n",
       "      <th></th>\n",
       "      <th></th>\n",
       "      <th></th>\n",
       "      <th></th>\n",
       "    </tr>\n",
       "  </thead>\n",
       "  <tbody>\n",
       "    <tr>\n",
       "      <th>1</th>\n",
       "      <td>Old Oak Tap</td>\n",
       "      <td>BLT</td>\n",
       "      <td>$10</td>\n",
       "      <td>2109 W. Chicago Ave.</td>\n",
       "      <td>41.895605</td>\n",
       "      <td>-87.679961</td>\n",
       "    </tr>\n",
       "    <tr>\n",
       "      <th>2</th>\n",
       "      <td>Au Cheval</td>\n",
       "      <td>Fried Bologna</td>\n",
       "      <td>$9</td>\n",
       "      <td>800 W. Randolph St.</td>\n",
       "      <td>41.884658</td>\n",
       "      <td>-87.647667</td>\n",
       "    </tr>\n",
       "    <tr>\n",
       "      <th>3</th>\n",
       "      <td>Xoco</td>\n",
       "      <td>Woodland Mushroom</td>\n",
       "      <td>$9.50</td>\n",
       "      <td>445 N. Clark St.</td>\n",
       "      <td>41.890523</td>\n",
       "      <td>-87.630783</td>\n",
       "    </tr>\n",
       "    <tr>\n",
       "      <th>4</th>\n",
       "      <td>Al’s Deli</td>\n",
       "      <td>Roast Beef</td>\n",
       "      <td>$9.40</td>\n",
       "      <td>914 Noyes St., Evanston</td>\n",
       "      <td>42.058322</td>\n",
       "      <td>-87.683748</td>\n",
       "    </tr>\n",
       "    <tr>\n",
       "      <th>5</th>\n",
       "      <td>Publican Quality Meats</td>\n",
       "      <td>PB&amp;L</td>\n",
       "      <td>$10</td>\n",
       "      <td>825 W. Fulton Mkt.</td>\n",
       "      <td>41.886600</td>\n",
       "      <td>-87.648451</td>\n",
       "    </tr>\n",
       "  </tbody>\n",
       "</table>\n",
       "</div>"
      ],
      "text/plain": [
       "                        cafe               menu  price  \\\n",
       "rank                                                     \n",
       "1                Old Oak Tap                BLT    $10   \n",
       "2                  Au Cheval      Fried Bologna     $9   \n",
       "3                       Xoco  Woodland Mushroom  $9.50   \n",
       "4                  Al’s Deli         Roast Beef  $9.40   \n",
       "5     Publican Quality Meats               PB&L    $10   \n",
       "\n",
       "                      address        lat        lng  \n",
       "rank                                                 \n",
       "1        2109 W. Chicago Ave.  41.895605 -87.679961  \n",
       "2         800 W. Randolph St.  41.884658 -87.647667  \n",
       "3            445 N. Clark St.  41.890523 -87.630783  \n",
       "4     914 Noyes St., Evanston  42.058322 -87.683748  \n",
       "5          825 W. Fulton Mkt.  41.886600 -87.648451  "
      ]
     },
     "execution_count": 73,
     "metadata": {},
     "output_type": "execute_result"
    }
   ],
   "source": [
    "df['lat'] = lat\n",
    "df['lng'] = lng\n",
    "df.head()"
   ]
  },
  {
   "cell_type": "code",
   "execution_count": 74,
   "metadata": {},
   "outputs": [
    {
     "data": {
      "text/html": [
       "<div style=\"width:100%;\"><div style=\"position:relative;width:100%;height:0;padding-bottom:60%;\"><span style=\"color:#565656\">Make this Notebook Trusted to load map: File -> Trust Notebook</span><iframe src=\"about:blank\" style=\"position:absolute;width:100%;height:100%;left:0;top:0;border:none !important;\" data-html=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 onload=\"this.contentDocument.open();this.contentDocument.write(atob(this.getAttribute('data-html')));this.contentDocument.close();\" allowfullscreen webkitallowfullscreen mozallowfullscreen></iframe></div></div>"
      ],
      "text/plain": [
       "<folium.folium.Map at 0x17b3c2f9688>"
      ]
     },
     "execution_count": 74,
     "metadata": {},
     "output_type": "execute_result"
    }
   ],
   "source": [
    "mapping = folium.Map(location=[df['lat'].mean(), df['lng'].mean()], \n",
    "                                      zoom_start=11)\n",
    "folium.Marker([df['lat'].mean(), df['lng'].mean()], \n",
    "                                      popup='center').add_to(mapping)\n",
    "mapping"
   ]
  },
  {
   "cell_type": "code",
   "execution_count": 77,
   "metadata": {},
   "outputs": [
    {
     "data": {
      "text/html": [
       "<div style=\"width:100%;\"><div style=\"position:relative;width:100%;height:0;padding-bottom:60%;\"><span style=\"color:#565656\">Make this Notebook Trusted to load map: File -> Trust Notebook</span><iframe src=\"about:blank\" style=\"position:absolute;width:100%;height:100%;left:0;top:0;border:none !important;\" data-html=PCFET0NUWVBFIGh0bWw+CjxoZWFkPiAgICAKICAgIDxtZXRhIGh0dHAtZXF1aXY9ImNvbnRlbnQtdHlwZSIgY29udGVudD0idGV4dC9odG1sOyBjaGFyc2V0PVVURi04IiAvPgogICAgCiAgICAgICAgPHNjcmlwdD4KICAgICAgICAgICAgTF9OT19UT1VDSCA9IGZhbHNlOwogICAgICAgICAgICBMX0RJU0FCTEVfM0QgPSBmYWxzZTsKICAgICAgICA8L3NjcmlwdD4KICAgIAogICAgPHNjcmlwdCBzcmM9Imh0dHBzOi8vY2RuLmpzZGVsaXZyLm5ldC9ucG0vbGVhZmxldEAxLjYuMC9kaXN0L2xlYWZsZXQuanMiPjwvc2NyaXB0PgogICAgPHNjcmlwdCBzcmM9Imh0dHBzOi8vY29kZS5qcXVlcnkuY29tL2pxdWVyeS0xLjEyLjQubWluLmpzIj48L3NjcmlwdD4KICAgIDxzY3JpcHQgc3JjPSJodHRwczovL21heGNkbi5ib290c3RyYXBjZG4uY29tL2Jvb3RzdHJhcC8zLjIuMC9qcy9ib290c3RyYXAubWluLmpzIj48L3NjcmlwdD4KICAgIDxzY3JpcHQgc3JjPSJodHRwczovL2NkbmpzLmNsb3VkZmxhcmUuY29tL2FqYXgvbGlicy9MZWFmbGV0LmF3ZXNvbWUtbWFya2Vycy8yLjAuMi9sZWFmbGV0LmF3ZXNvbWUtbWFya2Vycy5qcyI+PC9zY3JpcHQ+CiAgICA8bGluayByZWw9InN0eWxlc2hlZXQiIGhyZWY9Imh0dHBzOi8vY2RuLmpzZGVsaXZyLm5ldC9ucG0vbGVhZmxldEAxLjYuMC9kaXN0L2xlYWZsZXQuY3NzIi8+CiAgICA8bGluayByZWw9InN0eWxlc2hlZXQiIGhyZWY9Imh0dHBzOi8vbWF4Y2RuLmJvb3RzdHJhcGNkbi5jb20vYm9vdHN0cmFwLzMuMi4wL2Nzcy9ib290c3RyYXAubWluLmNzcyIvPgogICAgPGxpbmsgcmVsPSJzdHlsZXNoZWV0IiBocmVmPSJodHRwczovL21heGNkbi5ib290c3RyYXBjZG4uY29tL2Jvb3RzdHJhcC8zLjIuMC9jc3MvYm9vdHN0cmFwLXRoZW1lLm1pbi5jc3MiLz4KICAgIDxsaW5rIHJlbD0ic3R5bGVzaGVldCIgaHJlZj0iaHR0cHM6Ly9tYXhjZG4uYm9vdHN0cmFwY2RuLmNvbS9mb250LWF3ZXNvbWUvNC42LjMvY3NzL2ZvbnQtYXdlc29tZS5taW4uY3NzIi8+CiAgICA8bGluayByZWw9InN0eWxlc2hlZXQiIGhyZWY9Imh0dHBzOi8vY2RuanMuY2xvdWRmbGFyZS5jb20vYWpheC9saWJzL0xlYWZsZXQuYXdlc29tZS1tYXJrZXJzLzIuMC4yL2xlYWZsZXQuYXdlc29tZS1tYXJrZXJzLmNzcyIvPgogICAgPGxpbmsgcmVsPSJzdHlsZXNoZWV0IiBocmVmPSJodHRwczovL3Jhd2Nkbi5naXRoYWNrLmNvbS9weXRob24tdmlzdWFsaXphdGlvbi9mb2xpdW0vbWFzdGVyL2ZvbGl1bS90ZW1wbGF0ZXMvbGVhZmxldC5hd2Vzb21lLnJvdGF0ZS5jc3MiLz4KICAgIDxzdHlsZT5odG1sLCBib2R5IHt3aWR0aDogMTAwJTtoZWlnaHQ6IDEwMCU7bWFyZ2luOiAwO3BhZGRpbmc6IDA7fTwvc3R5bGU+CiAgICA8c3R5bGU+I21hcCB7cG9zaXRpb246YWJzb2x1dGU7dG9wOjA7Ym90dG9tOjA7cmlnaHQ6MDtsZWZ0OjA7fTwvc3R5bGU+CiAgICAKICAgICAgICAgICAgPG1ldGEgbmFtZT0idmlld3BvcnQiIGNvbnRlbnQ9IndpZHRoPWRldmljZS13aWR0aCwKICAgICAgICAgICAgICAgIGluaXRpYWwtc2NhbGU9MS4wLCBtYXhpbXVtLXNjYWxlPTEuMCwgdXNlci1zY2FsYWJsZT1ubyIgLz4KICAgICAgICAgICAgPHN0eWxlPgogICAgICAgICAgICAgICAgI21hcF8xZGEyYjUwMjZhNzY0ODdhYjExMjg5MjM0MjRmNTI1NiB7CiAgICAgICAgICAgICAgICAgICAgcG9zaXRpb246IHJlbGF0aXZlOwogICAgICAgICAgICAgICAgICAgIHdpZHRoOiAxMDAuMCU7CiAgICAgICAgICAgICAgICAgICAgaGVpZ2h0OiAxMDAuMCU7CiAgICAgICAgICAgICAgICAgICAgbGVmdDogMC4wJTsKICAgICAgICAgICAgICAgICAgICB0b3A6IDAuMCU7CiAgICAgICAgICAgICAgICB9CiAgICAgICAgICAgIDwvc3R5bGU+CiAgICAgICAgCjwvaGVhZD4KPGJvZHk+ICAgIAogICAgCiAgICAgICAgICAgIDxkaXYgY2xhc3M9ImZvbGl1bS1tYXAiIGlkPSJtYXBfMWRhMmI1MDI2YTc2NDg3YWIxMTI4OTIzNDI0ZjUyNTYiID48L2Rpdj4KICAgICAgICAKPC9ib2R5Pgo8c2NyaXB0PiAgICAKICAgIAogICAgICAgICAgICB2YXIgbWFwXzFkYTJiNTAyNmE3NjQ4N2FiMTEyODkyMzQyNGY1MjU2ID0gTC5tYXAoCiAgICAgICAgICAgICAgICAibWFwXzFkYTJiNTAyNmE3NjQ4N2FiMTEyODkyMzQyNGY1MjU2IiwKICAgICAgICAgICAgICAgIHsKICAgICAgICAgICAgICAgICAgICBjZW50ZXI6IFs0MS45MjAzNzk2NzM5OTk5OTYsIC04Ny42ODYxNzk5MDE5OTk5OV0sCiAgICAgICAgICAgICAgICAgICAgY3JzOiBMLkNSUy5FUFNHMzg1NywKICAgICAgICAgICAgICAgICAgICB6b29tOiAxMSwKICAgICAgICAgICAgICAgICAgICB6b29tQ29udHJvbDogdHJ1ZSwKICAgICAgICAgICAgICAgICAgICBwcmVmZXJDYW52YXM6IGZhbHNlLAogICAgICAgICAgICAgICAgfQogICAgICAgICAgICApOwoKICAgICAgICAgICAgCgogICAgICAgIAogICAgCiAgICAgICAgICAgIHZhciB0aWxlX2xheWVyXzViOTQ5YjZjOTNjMzRmNGI4YjBhZDE5NmM3MzBjNDJiID0gTC50aWxlTGF5ZXIoCiAgICAgICAgICAgICAgICAiaHR0cHM6Ly97c30udGlsZS5vcGVuc3RyZWV0bWFwLm9yZy97en0ve3h9L3t5fS5wbmciLAogICAgICAgICAgICAgICAgeyJhdHRyaWJ1dGlvbiI6ICJEYXRhIGJ5IFx1MDAyNmNvcHk7IFx1MDAzY2EgaHJlZj1cImh0dHA6Ly9vcGVuc3RyZWV0bWFwLm9yZ1wiXHUwMDNlT3BlblN0cmVldE1hcFx1MDAzYy9hXHUwMDNlLCB1bmRlciBcdTAwM2NhIGhyZWY9XCJodHRwOi8vd3d3Lm9wZW5zdHJlZXRtYXAub3JnL2NvcHlyaWdodFwiXHUwMDNlT0RiTFx1MDAzYy9hXHUwMDNlLiIsICJkZXRlY3RSZXRpbmEiOiBmYWxzZSwgIm1heE5hdGl2ZVpvb20iOiAxOCwgIm1heFpvb20iOiAxOCwgIm1pblpvb20iOiAwLCAibm9XcmFwIjogZmFsc2UsICJvcGFjaXR5IjogMSwgInN1YmRvbWFpbnMiOiAiYWJjIiwgInRtcyI6IGZhbHNlfQogICAgICAgICAgICApLmFkZFRvKG1hcF8xZGEyYjUwMjZhNzY0ODdhYjExMjg5MjM0MjRmNTI1Nik7CiAgICAgICAgCiAgICAKICAgICAgICAgICAgdmFyIG1hcmtlcl8zZjJhMWM5OGVmYTk0YTM1YmFjMzQ5NmFiZGM1ZTIxMyA9IEwubWFya2VyKAogICAgICAgICAgICAgICAgWzQxLjg5NTYwNDksIC04Ny42Nzk5NjE0OTk5OTk5OV0sCiAgICAgICAgICAgICAgICB7fQogICAgICAgICAgICApLmFkZFRvKG1hcF8xZGEyYjUwMjZhNzY0ODdhYjExMjg5MjM0MjRmNTI1Nik7CiAgICAgICAgCiAgICAKICAgICAgICB2YXIgcG9wdXBfZGIwNjcyOGYyZDc1NDEwNGE5ZGVhNjQ3MzhmN2NkNDQgPSBMLnBvcHVwKHsibWF4V2lkdGgiOiAiMTAwJSJ9KTsKCiAgICAgICAgCiAgICAgICAgICAgIHZhciBodG1sXzRjYjkxZDkyYmVkZjQ4Y2JhMzM5M2NiOTg5YThhMjc0ID0gJChgPGRpdiBpZD0iaHRtbF80Y2I5MWQ5MmJlZGY0OGNiYTMzOTNjYjk4OWE4YTI3NCIgc3R5bGU9IndpZHRoOiAxMDAuMCU7IGhlaWdodDogMTAwLjAlOyI+T2xkIE9hayBUYXA8L2Rpdj5gKVswXTsKICAgICAgICAgICAgcG9wdXBfZGIwNjcyOGYyZDc1NDEwNGE5ZGVhNjQ3MzhmN2NkNDQuc2V0Q29udGVudChodG1sXzRjYjkxZDkyYmVkZjQ4Y2JhMzM5M2NiOTg5YThhMjc0KTsKICAgICAgICAKCiAgICAgICAgbWFya2VyXzNmMmExYzk4ZWZhOTRhMzViYWMzNDk2YWJkYzVlMjEzLmJpbmRQb3B1cChwb3B1cF9kYjA2NzI4ZjJkNzU0MTA0YTlkZWE2NDczOGY3Y2Q0NCkKICAgICAgICA7CgogICAgICAgIAogICAgCiAgICAKICAgICAgICAgICAgdmFyIG1hcmtlcl85NWFkZGRhOWU2YTA0YzlhOGIyYTY2MDViYTI0MTA5YyA9IEwubWFya2VyKAogICAgICAgICAgICAgICAgWzQxLjg4NDY1ODIsIC04Ny42NDc2NjY4XSwKICAgICAgICAgICAgICAgIHt9CiAgICAgICAgICAgICkuYWRkVG8obWFwXzFkYTJiNTAyNmE3NjQ4N2FiMTEyODkyMzQyNGY1MjU2KTsKICAgICAgICAKICAgIAogICAgICAgIHZhciBwb3B1cF8yZjllNDBjYWI3YjA0YzI2YjRiYTcyZDU1M2IxYWRmZCA9IEwucG9wdXAoeyJtYXhXaWR0aCI6ICIxMDAlIn0pOwoKICAgICAgICAKICAgICAgICAgICAgdmFyIGh0bWxfN2NhOTAzN2Q3ZDA4NGVlYTg4NTQwNDQ1ZmNhOGE0MTEgPSAkKGA8ZGl2IGlkPSJodG1sXzdjYTkwMzdkN2QwODRlZWE4ODU0MDQ0NWZjYThhNDExIiBzdHlsZT0id2lkdGg6IDEwMC4wJTsgaGVpZ2h0OiAxMDAuMCU7Ij5BdSBDaGV2YWw8L2Rpdj5gKVswXTsKICAgICAgICAgICAgcG9wdXBfMmY5ZTQwY2FiN2IwNGMyNmI0YmE3MmQ1NTNiMWFkZmQuc2V0Q29udGVudChodG1sXzdjYTkwMzdkN2QwODRlZWE4ODU0MDQ0NWZjYThhNDExKTsKICAgICAgICAKCiAgICAgICAgbWFya2VyXzk1YWRkZGE5ZTZhMDRjOWE4YjJhNjYwNWJhMjQxMDljLmJpbmRQb3B1cChwb3B1cF8yZjllNDBjYWI3YjA0YzI2YjRiYTcyZDU1M2IxYWRmZCkKICAgICAgICA7CgogICAgICAgIAogICAgCiAgICAKICAgICAgICAgICAgdmFyIG1hcmtlcl83NGQxZWZkNDU3NGE0ODQ3YTAzZTI0YmYxYzY0YjZjYSA9IEwubWFya2VyKAogICAgICAgICAgICAgICAgWzQxLjg5MDUyMjYsIC04Ny42MzA3ODM0XSwKICAgICAgICAgICAgICAgIHt9CiAgICAgICAgICAgICkuYWRkVG8obWFwXzFkYTJiNTAyNmE3NjQ4N2FiMTEyODkyMzQyNGY1MjU2KTsKICAgICAgICAKICAgIAogICAgICAgIHZhciBwb3B1cF80ZjA1Nzc0YTE4NmQ0MGYxOWVmYzIzODllNzI3ZTc2MiA9IEwucG9wdXAoeyJtYXhXaWR0aCI6ICIxMDAlIn0pOwoKICAgICAgICAKICAgICAgICAgICAgdmFyIGh0bWxfOWNjMWRmZTZlZTU2NDNiMGJmZTFlNWFiMGFiYjY3N2MgPSAkKGA8ZGl2IGlkPSJodG1sXzljYzFkZmU2ZWU1NjQzYjBiZmUxZTVhYjBhYmI2NzdjIiBzdHlsZT0id2lkdGg6IDEwMC4wJTsgaGVpZ2h0OiAxMDAuMCU7Ij5Yb2NvPC9kaXY+YClbMF07CiAgICAgICAgICAgIHBvcHVwXzRmMDU3NzRhMTg2ZDQwZjE5ZWZjMjM4OWU3MjdlNzYyLnNldENvbnRlbnQoaHRtbF85Y2MxZGZlNmVlNTY0M2IwYmZlMWU1YWIwYWJiNjc3Yyk7CiAgICAgICAgCgogICAgICAgIG1hcmtlcl83NGQxZWZkNDU3NGE0ODQ3YTAzZTI0YmYxYzY0YjZjYS5iaW5kUG9wdXAocG9wdXBfNGYwNTc3NGExODZkNDBmMTllZmMyMzg5ZTcyN2U3NjIpCiAgICAgICAgOwoKICAgICAgICAKICAgIAogICAgCiAgICAgICAgICAgIHZhciBtYXJrZXJfYTgyNjVlN2UyNzQxNDc5Zjk2YWRmN2Y3ZDg4M2YzNzggPSBMLm1hcmtlcigKICAgICAgICAgICAgICAgIFs0Mi4wNTgzMjE3LCAtODcuNjgzNzQ3OV0sCiAgICAgICAgICAgICAgICB7fQogICAgICAgICAgICApLmFkZFRvKG1hcF8xZGEyYjUwMjZhNzY0ODdhYjExMjg5MjM0MjRmNTI1Nik7CiAgICAgICAgCiAgICAKICAgICAgICB2YXIgcG9wdXBfNDllNGFiNzU0NTFjNDRkN2JhMzhjMmI2MzBjYjRkYTUgPSBMLnBvcHVwKHsibWF4V2lkdGgiOiAiMTAwJSJ9KTsKCiAgICAgICAgCiAgICAgICAgICAgIHZhciBodG1sX2IwYjNmZjJiYjM2MDQ5MGI4OTVlYTcyOGQ2NThlMjMxID0gJChgPGRpdiBpZD0iaHRtbF9iMGIzZmYyYmIzNjA0OTBiODk1ZWE3MjhkNjU4ZTIzMSIgc3R5bGU9IndpZHRoOiAxMDAuMCU7IGhlaWdodDogMTAwLjAlOyI+QWzigJlzIERlbGk8L2Rpdj5gKVswXTsKICAgICAgICAgICAgcG9wdXBfNDllNGFiNzU0NTFjNDRkN2JhMzhjMmI2MzBjYjRkYTUuc2V0Q29udGVudChodG1sX2IwYjNmZjJiYjM2MDQ5MGI4OTVlYTcyOGQ2NThlMjMxKTsKICAgICAgICAKCiAgICAgICAgbWFya2VyX2E4MjY1ZTdlMjc0MTQ3OWY5NmFkZjdmN2Q4ODNmMzc4LmJpbmRQb3B1cChwb3B1cF80OWU0YWI3NTQ1MWM0NGQ3YmEzOGMyYjYzMGNiNGRhNSkKICAgICAgICA7CgogICAgICAgIAogICAgCiAgICAKICAgICAgICAgICAgdmFyIG1hcmtlcl85YjQxZTcwMzVkZmM0YzIzYmIwZWE3MjNmMDk3ZGFhNSA9IEwubWFya2VyKAogICAgICAgICAgICAgICAgWzQxLjg4NjU5OTgsIC04Ny42NDg0NTE0XSwKICAgICAgICAgICAgICAgIHt9CiAgICAgICAgICAgICkuYWRkVG8obWFwXzFkYTJiNTAyNmE3NjQ4N2FiMTEyODkyMzQyNGY1MjU2KTsKICAgICAgICAKICAgIAogICAgICAgIHZhciBwb3B1cF9kNDQzZWMzYmFhMDY0MTg5ODJjNzE2ZDdkMDRmMzIyNiA9IEwucG9wdXAoeyJtYXhXaWR0aCI6ICIxMDAlIn0pOwoKICAgICAgICAKICAgICAgICAgICAgdmFyIGh0bWxfZjk1MGY5ZGNkYTkxNDcwZTllYTAzNTE3YjVlYTVmNDEgPSAkKGA8ZGl2IGlkPSJodG1sX2Y5NTBmOWRjZGE5MTQ3MGU5ZWEwMzUxN2I1ZWE1ZjQxIiBzdHlsZT0id2lkdGg6IDEwMC4wJTsgaGVpZ2h0OiAxMDAuMCU7Ij5QdWJsaWNhbiBRdWFsaXR5IE1lYXRzPC9kaXY+YClbMF07CiAgICAgICAgICAgIHBvcHVwX2Q0NDNlYzNiYWEwNjQxODk4MmM3MTZkN2QwNGYzMjI2LnNldENvbnRlbnQoaHRtbF9mOTUwZjlkY2RhOTE0NzBlOWVhMDM1MTdiNWVhNWY0MSk7CiAgICAgICAgCgogICAgICAgIG1hcmtlcl85YjQxZTcwMzVkZmM0YzIzYmIwZWE3MjNmMDk3ZGFhNS5iaW5kUG9wdXAocG9wdXBfZDQ0M2VjM2JhYTA2NDE4OTgyYzcxNmQ3ZDA0ZjMyMjYpCiAgICAgICAgOwoKICAgICAgICAKICAgIAogICAgCiAgICAgICAgICAgIHZhciBtYXJrZXJfNDE4N2ExZDQyZTY3NDQzMWFlNDEwM2YyYzM2OWZhNmMgPSBMLm1hcmtlcigKICAgICAgICAgICAgICAgIFs0MS45MDAwODY5LCAtODcuNjI1MzM2Nl0sCiAgICAgICAgICAgICAgICB7fQogICAgICAgICAgICApLmFkZFRvKG1hcF8xZGEyYjUwMjZhNzY0ODdhYjExMjg5MjM0MjRmNTI1Nik7CiAgICAgICAgCiAgICAKICAgICAgICB2YXIgcG9wdXBfOTE5YTBkMzY3Mjg0NDkzYmI2ZTM3NWY2MTE3Mzk4MWUgPSBMLnBvcHVwKHsibWF4V2lkdGgiOiAiMTAwJSJ9KTsKCiAgICAgICAgCiAgICAgICAgICAgIHZhciBodG1sX2U4NmQ5NDJiNjIyMjRhNGQ5MjNiNWZjYjI0ODMzMTRiID0gJChgPGRpdiBpZD0iaHRtbF9lODZkOTQyYjYyMjI0YTRkOTIzYjVmY2IyNDgzMzE0YiIgc3R5bGU9IndpZHRoOiAxMDAuMCU7IGhlaWdodDogMTAwLjAlOyI+SGVuZHJpY2t4IEJlbGdpYW4gQnJlYWQgQ3JhZnRlcjwvZGl2PmApWzBdOwogICAgICAgICAgICBwb3B1cF85MTlhMGQzNjcyODQ0OTNiYjZlMzc1ZjYxMTczOTgxZS5zZXRDb250ZW50KGh0bWxfZTg2ZDk0MmI2MjIyNGE0ZDkyM2I1ZmNiMjQ4MzMxNGIpOwogICAgICAgIAoKICAgICAgICBtYXJrZXJfNDE4N2ExZDQyZTY3NDQzMWFlNDEwM2YyYzM2OWZhNmMuYmluZFBvcHVwKHBvcHVwXzkxOWEwZDM2NzI4NDQ5M2JiNmUzNzVmNjExNzM5ODFlKQogICAgICAgIDsKCiAgICAgICAgCiAgICAKICAgIAogICAgICAgICAgICB2YXIgbWFya2VyXzk0ZTQyMjkwYmU4MDQwMzI4M2ZmODhlMjRiZmFmZGQwID0gTC5tYXJrZXIoCiAgICAgICAgICAgICAgICBbNDEuODU5MDU0MSwgLTg3LjYyNTIwMDddLAogICAgICAgICAgICAgICAge30KICAgICAgICAgICAgKS5hZGRUbyhtYXBfMWRhMmI1MDI2YTc2NDg3YWIxMTI4OTIzNDI0ZjUyNTYpOwogICAgICAgIAogICAgCiAgICAgICAgdmFyIHBvcHVwXzEwZTYzNTFkMTEzYzRlOGVhNzI1NGM2ZmNhNjA1NGM2ID0gTC5wb3B1cCh7Im1heFdpZHRoIjogIjEwMCUifSk7CgogICAgICAgIAogICAgICAgICAgICB2YXIgaHRtbF9kN2UxNmFmOWQxNzY0MmNlYTIzNzEyNzIyYTcwYTUzYSA9ICQoYDxkaXYgaWQ9Imh0bWxfZDdlMTZhZjlkMTc2NDJjZWEyMzcxMjcyMmE3MGE1M2EiIHN0eWxlPSJ3aWR0aDogMTAwLjAlOyBoZWlnaHQ6IDEwMC4wJTsiPkFjYWRpYTwvZGl2PmApWzBdOwogICAgICAgICAgICBwb3B1cF8xMGU2MzUxZDExM2M0ZThlYTcyNTRjNmZjYTYwNTRjNi5zZXRDb250ZW50KGh0bWxfZDdlMTZhZjlkMTc2NDJjZWEyMzcxMjcyMmE3MGE1M2EpOwogICAgICAgIAoKICAgICAgICBtYXJrZXJfOTRlNDIyOTBiZTgwNDAzMjgzZmY4OGUyNGJmYWZkZDAuYmluZFBvcHVwKHBvcHVwXzEwZTYzNTFkMTEzYzRlOGVhNzI1NGM2ZmNhNjA1NGM2KQogICAgICAgIDsKCiAgICAgICAgCiAgICAKICAgIAogICAgICAgICAgICB2YXIgbWFya2VyXzc2ZTVmYjk2ZDBhZTQ2YzNiZGQxNDc1MjI1YzBiYmMwID0gTC5tYXJrZXIoCiAgICAgICAgICAgICAgICBbNDEuOTEwMjAzMSwgLTg3LjY4Mjg3NTI5OTk5OTk5XSwKICAgICAgICAgICAgICAgIHt9CiAgICAgICAgICAgICkuYWRkVG8obWFwXzFkYTJiNTAyNmE3NjQ4N2FiMTEyODkyMzQyNGY1MjU2KTsKICAgICAgICAKICAgIAogICAgICAgIHZhciBwb3B1cF80ODM5MzQxYjk1MWI0YTM4YjJiZjJmMjlkZTk3MDE5MyA9IEwucG9wdXAoeyJtYXhXaWR0aCI6ICIxMDAlIn0pOwoKICAgICAgICAKICAgICAgICAgICAgdmFyIGh0bWxfNTQ5N2JmNDUzYzdiNGQ2MWIyMjYyODY3MjNhMTE3NWEgPSAkKGA8ZGl2IGlkPSJodG1sXzU0OTdiZjQ1M2M3YjRkNjFiMjI2Mjg2NzIzYTExNzVhIiBzdHlsZT0id2lkdGg6IDEwMC4wJTsgaGVpZ2h0OiAxMDAuMCU7Ij5CaXJjaHdvb2QgS2l0Y2hlbjwvZGl2PmApWzBdOwogICAgICAgICAgICBwb3B1cF80ODM5MzQxYjk1MWI0YTM4YjJiZjJmMjlkZTk3MDE5My5zZXRDb250ZW50KGh0bWxfNTQ5N2JmNDUzYzdiNGQ2MWIyMjYyODY3MjNhMTE3NWEpOwogICAgICAgIAoKICAgICAgICBtYXJrZXJfNzZlNWZiOTZkMGFlNDZjM2JkZDE0NzUyMjVjMGJiYzAuYmluZFBvcHVwKHBvcHVwXzQ4MzkzNDFiOTUxYjRhMzhiMmJmMmYyOWRlOTcwMTkzKQogICAgICAgIDsKCiAgICAgICAgCiAgICAKICAgIAogICAgICAgICAgICB2YXIgbWFya2VyX2MwNDcwOTM5YWU2YTQ0ZGViMGQ4NWU0MzliYmUwNTYyID0gTC5tYXJrZXIoCiAgICAgICAgICAgICAgICBbNDEuOTA5NzU1OCwgLTg3LjcxNzY3MjddLAogICAgICAgICAgICAgICAge30KICAgICAgICAgICAgKS5hZGRUbyhtYXBfMWRhMmI1MDI2YTc2NDg3YWIxMTI4OTIzNDI0ZjUyNTYpOwogICAgICAgIAogICAgCiAgICAgICAgdmFyIHBvcHVwXzI3OTBlOTFlODM1NzQ5ZmY4NWFiNDZlMTE1YzVkMDJjID0gTC5wb3B1cCh7Im1heFdpZHRoIjogIjEwMCUifSk7CgogICAgICAgIAogICAgICAgICAgICB2YXIgaHRtbF9lMTc2NDg2MzdjMDU0MzIxYjBjYmU5YzZhMTZmMWMxYiA9ICQoYDxkaXYgaWQ9Imh0bWxfZTE3NjQ4NjM3YzA1NDMyMWIwY2JlOWM2YTE2ZjFjMWIiIHN0eWxlPSJ3aWR0aDogMTAwLjAlOyBoZWlnaHQ6IDEwMC4wJTsiPkNlbWl0YXMgUHVlYmxhPC9kaXY+YClbMF07CiAgICAgICAgICAgIHBvcHVwXzI3OTBlOTFlODM1NzQ5ZmY4NWFiNDZlMTE1YzVkMDJjLnNldENvbnRlbnQoaHRtbF9lMTc2NDg2MzdjMDU0MzIxYjBjYmU5YzZhMTZmMWMxYik7CiAgICAgICAgCgogICAgICAgIG1hcmtlcl9jMDQ3MDkzOWFlNmE0NGRlYjBkODVlNDM5YmJlMDU2Mi5iaW5kUG9wdXAocG9wdXBfMjc5MGU5MWU4MzU3NDlmZjg1YWI0NmUxMTVjNWQwMmMpCiAgICAgICAgOwoKICAgICAgICAKICAgIAogICAgCiAgICAgICAgICAgIHZhciBtYXJrZXJfZmU0OTM0YjAzOWM1NGY2Zjg3NjdhYzJkNDg5NDdlMzEgPSBMLm1hcmtlcigKICAgICAgICAgICAgICAgIFs0MS44MzQ1MzAyLCAtODcuNjQ1NjQ5Ml0sCiAgICAgICAgICAgICAgICB7fQogICAgICAgICAgICApLmFkZFRvKG1hcF8xZGEyYjUwMjZhNzY0ODdhYjExMjg5MjM0MjRmNTI1Nik7CiAgICAgICAgCiAgICAKICAgICAgICB2YXIgcG9wdXBfMWY0OTQ3ZTJkMGYwNDkzZTgxZmEyNzZhODJjZTQyNjkgPSBMLnBvcHVwKHsibWF4V2lkdGgiOiAiMTAwJSJ9KTsKCiAgICAgICAgCiAgICAgICAgICAgIHZhciBodG1sX2ZkMTI1MzNmZjZmMDQxZmM5Y2FlZTg1MjY4YTQwMzAwID0gJChgPGRpdiBpZD0iaHRtbF9mZDEyNTMzZmY2ZjA0MWZjOWNhZWU4NTI2OGE0MDMwMCIgc3R5bGU9IndpZHRoOiAxMDAuMCU7IGhlaWdodDogMTAwLjAlOyI+TmFuYTwvZGl2PmApWzBdOwogICAgICAgICAgICBwb3B1cF8xZjQ5NDdlMmQwZjA0OTNlODFmYTI3NmE4MmNlNDI2OS5zZXRDb250ZW50KGh0bWxfZmQxMjUzM2ZmNmYwNDFmYzljYWVlODUyNjhhNDAzMDApOwogICAgICAgIAoKICAgICAgICBtYXJrZXJfZmU0OTM0YjAzOWM1NGY2Zjg3NjdhYzJkNDg5NDdlMzEuYmluZFBvcHVwKHBvcHVwXzFmNDk0N2UyZDBmMDQ5M2U4MWZhMjc2YTgyY2U0MjY5KQogICAgICAgIDsKCiAgICAgICAgCiAgICAKICAgIAogICAgICAgICAgICB2YXIgbWFya2VyX2UxMjZhMTYxZjQ5YjRlOTNhOGJlZTkwYjliNjQ0N2JiID0gTC5tYXJrZXIoCiAgICAgICAgICAgICAgICBbNDEuOTI3NjIwNywgLTg3LjcwNjc5Ml0sCiAgICAgICAgICAgICAgICB7fQogICAgICAgICAgICApLmFkZFRvKG1hcF8xZGEyYjUwMjZhNzY0ODdhYjExMjg5MjM0MjRmNTI1Nik7CiAgICAgICAgCiAgICAKICAgICAgICB2YXIgcG9wdXBfMzU4MjlmNzE4NWNjNDUxYWFkODVkYWQxMzA1MjI0ZDggPSBMLnBvcHVwKHsibWF4V2lkdGgiOiAiMTAwJSJ9KTsKCiAgICAgICAgCiAgICAgICAgICAgIHZhciBodG1sX2UwZjk5NGI0MzdjNTRjYjdhYWQ0MDVjZmQxZjY5MzMyID0gJChgPGRpdiBpZD0iaHRtbF9lMGY5OTRiNDM3YzU0Y2I3YWFkNDA1Y2ZkMWY2OTMzMiIgc3R5bGU9IndpZHRoOiAxMDAuMCU7IGhlaWdodDogMTAwLjAlOyI+THVsYSBDYWZlPC9kaXY+YClbMF07CiAgICAgICAgICAgIHBvcHVwXzM1ODI5ZjcxODVjYzQ1MWFhZDg1ZGFkMTMwNTIyNGQ4LnNldENvbnRlbnQoaHRtbF9lMGY5OTRiNDM3YzU0Y2I3YWFkNDA1Y2ZkMWY2OTMzMik7CiAgICAgICAgCgogICAgICAgIG1hcmtlcl9lMTI2YTE2MWY0OWI0ZTkzYThiZWU5MGI5YjY0NDdiYi5iaW5kUG9wdXAocG9wdXBfMzU4MjlmNzE4NWNjNDUxYWFkODVkYWQxMzA1MjI0ZDgpCiAgICAgICAgOwoKICAgICAgICAKICAgIAogICAgCiAgICAgICAgICAgIHZhciBtYXJrZXJfMTc2MWI2NjVhYmIzNGUxNWJmMWQwZDRkNWIyMTUzZTggPSBMLm1hcmtlcigKICAgICAgICAgICAgICAgIFs0MS44ODI4NjU4LCAtODcuNjQ5MjgzNzk5OTk5OTldLAogICAgICAgICAgICAgICAge30KICAgICAgICAgICAgKS5hZGRUbyhtYXBfMWRhMmI1MDI2YTc2NDg3YWIxMTI4OTIzNDI0ZjUyNTYpOwogICAgICAgIAogICAgCiAgICAgICAgdmFyIHBvcHVwXzQ0YTgxY2FjMmIxZDRjNzliZmE1YWY2MjYyNjgzM2QyID0gTC5wb3B1cCh7Im1heFdpZHRoIjogIjEwMCUifSk7CgogICAgICAgIAogICAgICAgICAgICB2YXIgaHRtbF80ODRkYTdlNjc5ZjY0NTgwYTE1OTllM2EyYjE4NWY5ZSA9ICQoYDxkaXYgaWQ9Imh0bWxfNDg0ZGE3ZTY3OWY2NDU4MGExNTk5ZTNhMmIxODVmOWUiIHN0eWxlPSJ3aWR0aDogMTAwLjAlOyBoZWlnaHQ6IDEwMC4wJTsiPlJpY29iZW5l4oCZczwvZGl2PmApWzBdOwogICAgICAgICAgICBwb3B1cF80NGE4MWNhYzJiMWQ0Yzc5YmZhNWFmNjI2MjY4MzNkMi5zZXRDb250ZW50KGh0bWxfNDg0ZGE3ZTY3OWY2NDU4MGExNTk5ZTNhMmIxODVmOWUpOwogICAgICAgIAoKICAgICAgICBtYXJrZXJfMTc2MWI2NjVhYmIzNGUxNWJmMWQwZDRkNWIyMTUzZTguYmluZFBvcHVwKHBvcHVwXzQ0YTgxY2FjMmIxZDRjNzliZmE1YWY2MjYyNjgzM2QyKQogICAgICAgIDsKCiAgICAgICAgCiAgICAKICAgIAogICAgICAgICAgICB2YXIgbWFya2VyXzBlYTNiNjhkZGQwMzQ0NDhhMmE3N2EwZWFlZDZjMmZjID0gTC5tYXJrZXIoCiAgICAgICAgICAgICAgICBbNDEuOTM4NDQxOSwgLTg3LjY0NDY0MzY5OTk5OTk5XSwKICAgICAgICAgICAgICAgIHt9CiAgICAgICAgICAgICkuYWRkVG8obWFwXzFkYTJiNTAyNmE3NjQ4N2FiMTEyODkyMzQyNGY1MjU2KTsKICAgICAgICAKICAgIAogICAgICAgIHZhciBwb3B1cF8zNDM4MDg1ZGMwNzE0ZGQ4YmQxOWE2ZmM1OGRlMWE3MyA9IEwucG9wdXAoeyJtYXhXaWR0aCI6ICIxMDAlIn0pOwoKICAgICAgICAKICAgICAgICAgICAgdmFyIGh0bWxfZGI4NjhiMjZjNzAwNDAyYTljOTYwNGFlNmQ3YWI1YTcgPSAkKGA8ZGl2IGlkPSJodG1sX2RiODY4YjI2YzcwMDQwMmE5Yzk2MDRhZTZkN2FiNWE3IiBzdHlsZT0id2lkdGg6IDEwMC4wJTsgaGVpZ2h0OiAxMDAuMCU7Ij5Gcm9nIG4gU25haWw8L2Rpdj5gKVswXTsKICAgICAgICAgICAgcG9wdXBfMzQzODA4NWRjMDcxNGRkOGJkMTlhNmZjNThkZTFhNzMuc2V0Q29udGVudChodG1sX2RiODY4YjI2YzcwMDQwMmE5Yzk2MDRhZTZkN2FiNWE3KTsKICAgICAgICAKCiAgICAgICAgbWFya2VyXzBlYTNiNjhkZGQwMzQ0NDhhMmE3N2EwZWFlZDZjMmZjLmJpbmRQb3B1cChwb3B1cF8zNDM4MDg1ZGMwNzE0ZGQ4YmQxOWE2ZmM1OGRlMWE3MykKICAgICAgICA7CgogICAgICAgIAogICAgCiAgICAKICAgICAgICAgICAgdmFyIG1hcmtlcl9iZDMzOWM4ZDRhNjk0NWFjOTQ0ZDI0N2IxNmM3NDgyMSA9IEwubWFya2VyKAogICAgICAgICAgICAgICAgWzQxLjk0NTEwNDQsIC04Ny42NjM2ODEyXSwKICAgICAgICAgICAgICAgIHt9CiAgICAgICAgICAgICkuYWRkVG8obWFwXzFkYTJiNTAyNmE3NjQ4N2FiMTEyODkyMzQyNGY1MjU2KTsKICAgICAgICAKICAgIAogICAgICAgIHZhciBwb3B1cF9iNTM0MzUxNzVlOTY0NjgyOTA1OGMzN2NlNTFiYjUyZiA9IEwucG9wdXAoeyJtYXhXaWR0aCI6ICIxMDAlIn0pOwoKICAgICAgICAKICAgICAgICAgICAgdmFyIGh0bWxfNjU3Zjk2YjNjYzk2NDk1OTlhZWE3YzhhMDUyMDQzNzAgPSAkKGA8ZGl2IGlkPSJodG1sXzY1N2Y5NmIzY2M5NjQ5NTk5YWVhN2M4YTA1MjA0MzcwIiBzdHlsZT0id2lkdGg6IDEwMC4wJTsgaGVpZ2h0OiAxMDAuMCU7Ij5Dcm9zYnnigJlzIEtpdGNoZW48L2Rpdj5gKVswXTsKICAgICAgICAgICAgcG9wdXBfYjUzNDM1MTc1ZTk2NDY4MjkwNThjMzdjZTUxYmI1MmYuc2V0Q29udGVudChodG1sXzY1N2Y5NmIzY2M5NjQ5NTk5YWVhN2M4YTA1MjA0MzcwKTsKICAgICAgICAKCiAgICAgICAgbWFya2VyX2JkMzM5YzhkNGE2OTQ1YWM5NDRkMjQ3YjE2Yzc0ODIxLmJpbmRQb3B1cChwb3B1cF9iNTM0MzUxNzVlOTY0NjgyOTA1OGMzN2NlNTFiYjUyZikKICAgICAgICA7CgogICAgICAgIAogICAgCiAgICAKICAgICAgICAgICAgdmFyIG1hcmtlcl9kOWZiYjJkNTgyNGE0OTNlYmE5MmU4ODU3YmMyODExMCA9IEwubWFya2VyKAogICAgICAgICAgICAgICAgWzQxLjkzMDExMDcsIC04Ny43MDcyNDA4XSwKICAgICAgICAgICAgICAgIHt9CiAgICAgICAgICAgICkuYWRkVG8obWFwXzFkYTJiNTAyNmE3NjQ4N2FiMTEyODkyMzQyNGY1MjU2KTsKICAgICAgICAKICAgIAogICAgICAgIHZhciBwb3B1cF9jODcwN2E0NDNmZmE0ODMxYmRmZWNkNDJjMjVjOWEzYSA9IEwucG9wdXAoeyJtYXhXaWR0aCI6ICIxMDAlIn0pOwoKICAgICAgICAKICAgICAgICAgICAgdmFyIGh0bWxfNTMyYzQzMTllZDBkNDc1M2I1MDljOTYxZGI0NWZmNjYgPSAkKGA8ZGl2IGlkPSJodG1sXzUzMmM0MzE5ZWQwZDQ3NTNiNTA5Yzk2MWRiNDVmZjY2IiBzdHlsZT0id2lkdGg6IDEwMC4wJTsgaGVpZ2h0OiAxMDAuMCU7Ij5Mb25nbWFuICYgRWFnbGU8L2Rpdj5gKVswXTsKICAgICAgICAgICAgcG9wdXBfYzg3MDdhNDQzZmZhNDgzMWJkZmVjZDQyYzI1YzlhM2Euc2V0Q29udGVudChodG1sXzUzMmM0MzE5ZWQwZDQ3NTNiNTA5Yzk2MWRiNDVmZjY2KTsKICAgICAgICAKCiAgICAgICAgbWFya2VyX2Q5ZmJiMmQ1ODI0YTQ5M2ViYTkyZTg4NTdiYzI4MTEwLmJpbmRQb3B1cChwb3B1cF9jODcwN2E0NDNmZmE0ODMxYmRmZWNkNDJjMjVjOWEzYSkKICAgICAgICA7CgogICAgICAgIAogICAgCiAgICAKICAgICAgICAgICAgdmFyIG1hcmtlcl9kNjFjYTEyOWRmYjE0ZjI1ODhkOTkzOTk5ZDM4ZWViNCA9IEwubWFya2VyKAogICAgICAgICAgICAgICAgWzQxLjg5MTI5MDAwMDAwMDAxLCAtODcuNjU1NTU3XSwKICAgICAgICAgICAgICAgIHt9CiAgICAgICAgICAgICkuYWRkVG8obWFwXzFkYTJiNTAyNmE3NjQ4N2FiMTEyODkyMzQyNGY1MjU2KTsKICAgICAgICAKICAgIAogICAgICAgIHZhciBwb3B1cF9kNjcxOTRkMzc1YzQ0ODkxYWM2N2I1NGMyOWIwNWU2ZSA9IEwucG9wdXAoeyJtYXhXaWR0aCI6ICIxMDAlIn0pOwoKICAgICAgICAKICAgICAgICAgICAgdmFyIGh0bWxfZTQ2MzVhNDExNTNkNDdhYTkzZTY5M2U3MjExYTU2MmEgPSAkKGA8ZGl2IGlkPSJodG1sX2U0NjM1YTQxMTUzZDQ3YWE5M2U2OTNlNzIxMWE1NjJhIiBzdHlsZT0id2lkdGg6IDEwMC4wJTsgaGVpZ2h0OiAxMDAuMCU7Ij5CYXJpPC9kaXY+YClbMF07CiAgICAgICAgICAgIHBvcHVwX2Q2NzE5NGQzNzVjNDQ4OTFhYzY3YjU0YzI5YjA1ZTZlLnNldENvbnRlbnQoaHRtbF9lNDYzNWE0MTE1M2Q0N2FhOTNlNjkzZTcyMTFhNTYyYSk7CiAgICAgICAgCgogICAgICAgIG1hcmtlcl9kNjFjYTEyOWRmYjE0ZjI1ODhkOTkzOTk5ZDM4ZWViNC5iaW5kUG9wdXAocG9wdXBfZDY3MTk0ZDM3NWM0NDg5MWFjNjdiNTRjMjliMDVlNmUpCiAgICAgICAgOwoKICAgICAgICAKICAgIAogICAgCiAgICAgICAgICAgIHZhciBtYXJrZXJfMTIwMzI5MzVlMDAyNGQwZjgwNjg5ZWNmMGQ5NDRjNTEgPSBMLm1hcmtlcigKICAgICAgICAgICAgICAgIFs0MS44Njc4NTI5LCAtODcuNjQxOTI4OV0sCiAgICAgICAgICAgICAgICB7fQogICAgICAgICAgICApLmFkZFRvKG1hcF8xZGEyYjUwMjZhNzY0ODdhYjExMjg5MjM0MjRmNTI1Nik7CiAgICAgICAgCiAgICAKICAgICAgICB2YXIgcG9wdXBfYjc0NzEzYThkM2RkNGI5YzkzMTBlNzkwNDk5ZjMzNzQgPSBMLnBvcHVwKHsibWF4V2lkdGgiOiAiMTAwJSJ9KTsKCiAgICAgICAgCiAgICAgICAgICAgIHZhciBodG1sX2MwNGQxNDQwOWYxZDQ3YTk5MTUzNTFmYjVlNzhlYjVkID0gJChgPGRpdiBpZD0iaHRtbF9jMDRkMTQ0MDlmMWQ0N2E5OTE1MzUxZmI1ZTc4ZWI1ZCIgc3R5bGU9IndpZHRoOiAxMDAuMCU7IGhlaWdodDogMTAwLjAlOyI+TWFubnnigJlzPC9kaXY+YClbMF07CiAgICAgICAgICAgIHBvcHVwX2I3NDcxM2E4ZDNkZDRiOWM5MzEwZTc5MDQ5OWYzMzc0LnNldENvbnRlbnQoaHRtbF9jMDRkMTQ0MDlmMWQ0N2E5OTE1MzUxZmI1ZTc4ZWI1ZCk7CiAgICAgICAgCgogICAgICAgIG1hcmtlcl8xMjAzMjkzNWUwMDI0ZDBmODA2ODllY2YwZDk0NGM1MS5iaW5kUG9wdXAocG9wdXBfYjc0NzEzYThkM2RkNGI5YzkzMTBlNzkwNDk5ZjMzNzQpCiAgICAgICAgOwoKICAgICAgICAKICAgIAogICAgCiAgICAgICAgICAgIHZhciBtYXJrZXJfNzE2YzY1Nzc4OWJlNDM2NmJmODgwMDQ3MGYwNGYzMzQgPSBMLm1hcmtlcigKICAgICAgICAgICAgICAgIFs0MS44ODUyNjkxLCAtODcuNjE4NDgzN10sCiAgICAgICAgICAgICAgICB7fQogICAgICAgICAgICApLmFkZFRvKG1hcF8xZGEyYjUwMjZhNzY0ODdhYjExMjg5MjM0MjRmNTI1Nik7CiAgICAgICAgCiAgICAKICAgICAgICB2YXIgcG9wdXBfMjc2OTRmMDhhZGY2NDU0MGFiNGEwNDI2OWEwNzQ1NzkgPSBMLnBvcHVwKHsibWF4V2lkdGgiOiAiMTAwJSJ9KTsKCiAgICAgICAgCiAgICAgICAgICAgIHZhciBodG1sXzkwYmUxOTRlMjU2ZTQ3Y2M4NTE0YjFhMDZhYzFmMGRlID0gJChgPGRpdiBpZD0iaHRtbF85MGJlMTk0ZTI1NmU0N2NjODUxNGIxYTA2YWMxZjBkZSIgc3R5bGU9IndpZHRoOiAxMDAuMCU7IGhlaWdodDogMTAwLjAlOyI+RWdneeKAmXM8L2Rpdj5gKVswXTsKICAgICAgICAgICAgcG9wdXBfMjc2OTRmMDhhZGY2NDU0MGFiNGEwNDI2OWEwNzQ1Nzkuc2V0Q29udGVudChodG1sXzkwYmUxOTRlMjU2ZTQ3Y2M4NTE0YjFhMDZhYzFmMGRlKTsKICAgICAgICAKCiAgICAgICAgbWFya2VyXzcxNmM2NTc3ODliZTQzNjZiZjg4MDA0NzBmMDRmMzM0LmJpbmRQb3B1cChwb3B1cF8yNzY5NGYwOGFkZjY0NTQwYWI0YTA0MjY5YTA3NDU3OSkKICAgICAgICA7CgogICAgICAgIAogICAgCiAgICAKICAgICAgICAgICAgdmFyIG1hcmtlcl8wNDUxMDA0OWQ0MTk0Zjk3OWJkY2Y0NDhkZmUzM2Q2ZCA9IEwubWFya2VyKAogICAgICAgICAgICAgICAgWzQxLjkwODA1MzksIC04Ny42MzQzMTEzXSwKICAgICAgICAgICAgICAgIHt9CiAgICAgICAgICAgICkuYWRkVG8obWFwXzFkYTJiNTAyNmE3NjQ4N2FiMTEyODkyMzQyNGY1MjU2KTsKICAgICAgICAKICAgIAogICAgICAgIHZhciBwb3B1cF83YmNjOTU0NTNhNTQ0ZDEyYWViZWNkMzYyOGE3MTYwOSA9IEwucG9wdXAoeyJtYXhXaWR0aCI6ICIxMDAlIn0pOwoKICAgICAgICAKICAgICAgICAgICAgdmFyIGh0bWxfOWY4ZGEyOTQyMDEyNDNmMDgzMDFhZGRiOWUxZGRlMzMgPSAkKGA8ZGl2IGlkPSJodG1sXzlmOGRhMjk0MjAxMjQzZjA4MzAxYWRkYjllMWRkZTMzIiBzdHlsZT0id2lkdGg6IDEwMC4wJTsgaGVpZ2h0OiAxMDAuMCU7Ij5PbGQgSmVydXNhbGVtPC9kaXY+YClbMF07CiAgICAgICAgICAgIHBvcHVwXzdiY2M5NTQ1M2E1NDRkMTJhZWJlY2QzNjI4YTcxNjA5LnNldENvbnRlbnQoaHRtbF85ZjhkYTI5NDIwMTI0M2YwODMwMWFkZGI5ZTFkZGUzMyk7CiAgICAgICAgCgogICAgICAgIG1hcmtlcl8wNDUxMDA0OWQ0MTk0Zjk3OWJkY2Y0NDhkZmUzM2Q2ZC5iaW5kUG9wdXAocG9wdXBfN2JjYzk1NDUzYTU0NGQxMmFlYmVjZDM2MjhhNzE2MDkpCiAgICAgICAgOwoKICAgICAgICAKICAgIAogICAgCiAgICAgICAgICAgIHZhciBtYXJrZXJfNmVhYmNmNmE3YmM1NDM4Mzg0ZWUzZTEzMGQ1MDMwN2YgPSBMLm1hcmtlcigKICAgICAgICAgICAgICAgIFs0MS45MTM2OTUzOTk5OTk5OSwgLTg3LjY3NzEyNzNdLAogICAgICAgICAgICAgICAge30KICAgICAgICAgICAgKS5hZGRUbyhtYXBfMWRhMmI1MDI2YTc2NDg3YWIxMTI4OTIzNDI0ZjUyNTYpOwogICAgICAgIAogICAgCiAgICAgICAgdmFyIHBvcHVwX2I5ODFjMzg2YzA4ZDQ2ZmY5ZjIyNzI2YzE0ZWEyOTJhID0gTC5wb3B1cCh7Im1heFdpZHRoIjogIjEwMCUifSk7CgogICAgICAgIAogICAgICAgICAgICB2YXIgaHRtbF82NDNlOTUxODhiMGI0ODc4YjQ3MWIyNmMyNjJkNDY1NyA9ICQoYDxkaXYgaWQ9Imh0bWxfNjQzZTk1MTg4YjBiNDg3OGI0NzFiMjZjMjYyZDQ2NTciIHN0eWxlPSJ3aWR0aDogMTAwLjAlOyBoZWlnaHQ6IDEwMC4wJTsiPk1pbmR54oCZcyBIb3RDaG9jb2xhdGU8L2Rpdj5gKVswXTsKICAgICAgICAgICAgcG9wdXBfYjk4MWMzODZjMDhkNDZmZjlmMjI3MjZjMTRlYTI5MmEuc2V0Q29udGVudChodG1sXzY0M2U5NTE4OGIwYjQ4NzhiNDcxYjI2YzI2MmQ0NjU3KTsKICAgICAgICAKCiAgICAgICAgbWFya2VyXzZlYWJjZjZhN2JjNTQzODM4NGVlM2UxMzBkNTAzMDdmLmJpbmRQb3B1cChwb3B1cF9iOTgxYzM4NmMwOGQ0NmZmOWYyMjcyNmMxNGVhMjkyYSkKICAgICAgICA7CgogICAgICAgIAogICAgCiAgICAKICAgICAgICAgICAgdmFyIG1hcmtlcl9jY2E4ZTU0NGM4OWE0ZjU0YWExNTA4OGI4YjY4NTk4MyA9IEwubWFya2VyKAogICAgICAgICAgICAgICAgWzQyLjAwODY1OSwgLTg4LjE1ODQxMDZdLAogICAgICAgICAgICAgICAge30KICAgICAgICAgICAgKS5hZGRUbyhtYXBfMWRhMmI1MDI2YTc2NDg3YWIxMTI4OTIzNDI0ZjUyNTYpOwogICAgICAgIAogICAgCiAgICAgICAgdmFyIHBvcHVwX2U0NjVhODQyNGE0YzQ4ZmFiYWJhNjgwZTUxYWMwMDJhID0gTC5wb3B1cCh7Im1heFdpZHRoIjogIjEwMCUifSk7CgogICAgICAgIAogICAgICAgICAgICB2YXIgaHRtbF8xYmY1MzQxMzMyOTY0MmMwODlmZTI1ZDJkMTBkNTU5NCA9ICQoYDxkaXYgaWQ9Imh0bWxfMWJmNTM0MTMzMjk2NDJjMDg5ZmUyNWQyZDEwZDU1OTQiIHN0eWxlPSJ3aWR0aDogMTAwLjAlOyBoZWlnaHQ6IDEwMC4wJTsiPk9sZ2HigJlzIERlbGljYXRlc3NlbjwvZGl2PmApWzBdOwogICAgICAgICAgICBwb3B1cF9lNDY1YTg0MjRhNGM0OGZhYmFiYTY4MGU1MWFjMDAyYS5zZXRDb250ZW50KGh0bWxfMWJmNTM0MTMzMjk2NDJjMDg5ZmUyNWQyZDEwZDU1OTQpOwogICAgICAgIAoKICAgICAgICBtYXJrZXJfY2NhOGU1NDRjODlhNGY1NGFhMTUwODhiOGI2ODU5ODMuYmluZFBvcHVwKHBvcHVwX2U0NjVhODQyNGE0YzQ4ZmFiYWJhNjgwZTUxYWMwMDJhKQogICAgICAgIDsKCiAgICAgICAgCiAgICAKICAgIAogICAgICAgICAgICB2YXIgbWFya2VyX2VmMDg5MWQxM2EzMTQ0NjRiOTQwNThkYTEzNDE5YTY2ID0gTC5tYXJrZXIoCiAgICAgICAgICAgICAgICBbNDEuODgyODY1OCwgLTg3LjY0OTI4Mzc5OTk5OTk5XSwKICAgICAgICAgICAgICAgIHt9CiAgICAgICAgICAgICkuYWRkVG8obWFwXzFkYTJiNTAyNmE3NjQ4N2FiMTEyODkyMzQyNGY1MjU2KTsKICAgICAgICAKICAgIAogICAgICAgIHZhciBwb3B1cF8wYTMzN2E4MmU0N2U0MzQ1OGQwOGMxYWRkZTI0ODE3NiA9IEwucG9wdXAoeyJtYXhXaWR0aCI6ICIxMDAlIn0pOwoKICAgICAgICAKICAgICAgICAgICAgdmFyIGh0bWxfZWU2YTMwMWZmMmI5NDE3NTkxOTY1N2I5Y2E1ZTlkNzYgPSAkKGA8ZGl2IGlkPSJodG1sX2VlNmEzMDFmZjJiOTQxNzU5MTk2NTdiOWNhNWU5ZDc2IiBzdHlsZT0id2lkdGg6IDEwMC4wJTsgaGVpZ2h0OiAxMDAuMCU7Ij5EYXdhbGkgTWVkaXRlcnJhbmVhbiBLaXRjaGVuPC9kaXY+YClbMF07CiAgICAgICAgICAgIHBvcHVwXzBhMzM3YTgyZTQ3ZTQzNDU4ZDA4YzFhZGRlMjQ4MTc2LnNldENvbnRlbnQoaHRtbF9lZTZhMzAxZmYyYjk0MTc1OTE5NjU3YjljYTVlOWQ3Nik7CiAgICAgICAgCgogICAgICAgIG1hcmtlcl9lZjA4OTFkMTNhMzE0NDY0Yjk0MDU4ZGExMzQxOWE2Ni5iaW5kUG9wdXAocG9wdXBfMGEzMzdhODJlNDdlNDM0NThkMDhjMWFkZGUyNDgxNzYpCiAgICAgICAgOwoKICAgICAgICAKICAgIAogICAgCiAgICAgICAgICAgIHZhciBtYXJrZXJfODI4OWVhZTdkOTgzNGE1OGI5ODMxODIxZTUwYTU5ZTQgPSBMLm1hcmtlcigKICAgICAgICAgICAgICAgIFs0MS45Nzk0NDk2LCAtODcuNjY3OTU3MTk5OTk5OTldLAogICAgICAgICAgICAgICAge30KICAgICAgICAgICAgKS5hZGRUbyhtYXBfMWRhMmI1MDI2YTc2NDg3YWIxMTI4OTIzNDI0ZjUyNTYpOwogICAgICAgIAogICAgCiAgICAgICAgdmFyIHBvcHVwX2FhNTU4MGVhNzUzMTRmZmM5NzYzZTgyMWRmZWNhOTU4ID0gTC5wb3B1cCh7Im1heFdpZHRoIjogIjEwMCUifSk7CgogICAgICAgIAogICAgICAgICAgICB2YXIgaHRtbF81OTdkYWI0ZjQ4MDg0MmE4YWRmZDU4MWJiZjhhNjkwOSA9ICQoYDxkaXYgaWQ9Imh0bWxfNTk3ZGFiNGY0ODA4NDJhOGFkZmQ1ODFiYmY4YTY5MDkiIHN0eWxlPSJ3aWR0aDogMTAwLjAlOyBoZWlnaHQ6IDEwMC4wJTsiPkJpZyBKb25lczwvZGl2PmApWzBdOwogICAgICAgICAgICBwb3B1cF9hYTU1ODBlYTc1MzE0ZmZjOTc2M2U4MjFkZmVjYTk1OC5zZXRDb250ZW50KGh0bWxfNTk3ZGFiNGY0ODA4NDJhOGFkZmQ1ODFiYmY4YTY5MDkpOwogICAgICAgIAoKICAgICAgICBtYXJrZXJfODI4OWVhZTdkOTgzNGE1OGI5ODMxODIxZTUwYTU5ZTQuYmluZFBvcHVwKHBvcHVwX2FhNTU4MGVhNzUzMTRmZmM5NzYzZTgyMWRmZWNhOTU4KQogICAgICAgIDsKCiAgICAgICAgCiAgICAKICAgIAogICAgICAgICAgICB2YXIgbWFya2VyX2NmMzAwYjIxOGE5NDRjODM5MDA1NTAyZjliYmQzNWI1ID0gTC5tYXJrZXIoCiAgICAgICAgICAgICAgICBbNDEuOTU0MTYyLCAtODcuNzAyNzEwNzk5OTk5OTldLAogICAgICAgICAgICAgICAge30KICAgICAgICAgICAgKS5hZGRUbyhtYXBfMWRhMmI1MDI2YTc2NDg3YWIxMTI4OTIzNDI0ZjUyNTYpOwogICAgICAgIAogICAgCiAgICAgICAgdmFyIHBvcHVwXzc0MGMxZDgwYTUyNDQ0NmViOTM2MTUyNjgyZGYyOTY3ID0gTC5wb3B1cCh7Im1heFdpZHRoIjogIjEwMCUifSk7CgogICAgICAgIAogICAgICAgICAgICB2YXIgaHRtbF9jY2U5MmM0NzJlMTI0M2RkYTU4OGZjNDk1OGUxMTA0NyA9ICQoYDxkaXYgaWQ9Imh0bWxfY2NlOTJjNDcyZTEyNDNkZGE1ODhmYzQ5NThlMTEwNDciIHN0eWxlPSJ3aWR0aDogMTAwLjAlOyBoZWlnaHQ6IDEwMC4wJTsiPkxhIFBhbmU8L2Rpdj5gKVswXTsKICAgICAgICAgICAgcG9wdXBfNzQwYzFkODBhNTI0NDQ2ZWI5MzYxNTI2ODJkZjI5Njcuc2V0Q29udGVudChodG1sX2NjZTkyYzQ3MmUxMjQzZGRhNTg4ZmM0OTU4ZTExMDQ3KTsKICAgICAgICAKCiAgICAgICAgbWFya2VyX2NmMzAwYjIxOGE5NDRjODM5MDA1NTAyZjliYmQzNWI1LmJpbmRQb3B1cChwb3B1cF83NDBjMWQ4MGE1MjQ0NDZlYjkzNjE1MjY4MmRmMjk2NykKICAgICAgICA7CgogICAgICAgIAogICAgCiAgICAKICAgICAgICAgICAgdmFyIG1hcmtlcl9kZTAxNTQ4OGVjMTk0NmVlYTRhNTYyZDk4NjEwOTE3NyA9IEwubWFya2VyKAogICAgICAgICAgICAgICAgWzQxLjg4Mjg2NTgsIC04Ny42NDkyODM3OTk5OTk5OV0sCiAgICAgICAgICAgICAgICB7fQogICAgICAgICAgICApLmFkZFRvKG1hcF8xZGEyYjUwMjZhNzY0ODdhYjExMjg5MjM0MjRmNTI1Nik7CiAgICAgICAgCiAgICAKICAgICAgICB2YXIgcG9wdXBfY2FhNDc4MDUxZTNmNDU4NWI2Y2EyMTNmNTM1Y2I1ZGIgPSBMLnBvcHVwKHsibWF4V2lkdGgiOiAiMTAwJSJ9KTsKCiAgICAgICAgCiAgICAgICAgICAgIHZhciBodG1sXzMyZGM2NTU0MTBmYjQwMmNhNWJlNzQyNzM1OTI1YmRjID0gJChgPGRpdiBpZD0iaHRtbF8zMmRjNjU1NDEwZmI0MDJjYTViZTc0MjczNTkyNWJkYyIgc3R5bGU9IndpZHRoOiAxMDAuMCU7IGhlaWdodDogMTAwLjAlOyI+UGFzdG9yYWw8L2Rpdj5gKVswXTsKICAgICAgICAgICAgcG9wdXBfY2FhNDc4MDUxZTNmNDU4NWI2Y2EyMTNmNTM1Y2I1ZGIuc2V0Q29udGVudChodG1sXzMyZGM2NTU0MTBmYjQwMmNhNWJlNzQyNzM1OTI1YmRjKTsKICAgICAgICAKCiAgICAgICAgbWFya2VyX2RlMDE1NDg4ZWMxOTQ2ZWVhNGE1NjJkOTg2MTA5MTc3LmJpbmRQb3B1cChwb3B1cF9jYWE0NzgwNTFlM2Y0NTg1YjZjYTIxM2Y1MzVjYjVkYikKICAgICAgICA7CgogICAgICAgIAogICAgCiAgICAKICAgICAgICAgICAgdmFyIG1hcmtlcl81N2QxMDEwOTdkODA0MmE1YTI2NDZhZjRjZDc2NTViZCA9IEwubWFya2VyKAogICAgICAgICAgICAgICAgWzQyLjE1NjY5MSwgLTg3LjgwMzYxOF0sCiAgICAgICAgICAgICAgICB7fQogICAgICAgICAgICApLmFkZFRvKG1hcF8xZGEyYjUwMjZhNzY0ODdhYjExMjg5MjM0MjRmNTI1Nik7CiAgICAgICAgCiAgICAKICAgICAgICB2YXIgcG9wdXBfOTlkNjViOWUzZDFmNDE3NWI3ZDQ4OWRkYWQwYWRiOWMgPSBMLnBvcHVwKHsibWF4V2lkdGgiOiAiMTAwJSJ9KTsKCiAgICAgICAgCiAgICAgICAgICAgIHZhciBodG1sX2UyMDFhYTE4NDE5YzQyMDVhYTM4ODI3ZWQwM2FhZDRjID0gJChgPGRpdiBpZD0iaHRtbF9lMjAxYWExODQxOWM0MjA1YWEzODgyN2VkMDNhYWQ0YyIgc3R5bGU9IndpZHRoOiAxMDAuMCU7IGhlaWdodDogMTAwLjAlOyI+TWF44oCZcyBEZWxpPC9kaXY+YClbMF07CiAgICAgICAgICAgIHBvcHVwXzk5ZDY1YjllM2QxZjQxNzViN2Q0ODlkZGFkMGFkYjljLnNldENvbnRlbnQoaHRtbF9lMjAxYWExODQxOWM0MjA1YWEzODgyN2VkMDNhYWQ0Yyk7CiAgICAgICAgCgogICAgICAgIG1hcmtlcl81N2QxMDEwOTdkODA0MmE1YTI2NDZhZjRjZDc2NTViZC5iaW5kUG9wdXAocG9wdXBfOTlkNjViOWUzZDFmNDE3NWI3ZDQ4OWRkYWQwYWRiOWMpCiAgICAgICAgOwoKICAgICAgICAKICAgIAogICAgCiAgICAgICAgICAgIHZhciBtYXJrZXJfOWU0MGM0YzljZTY0NGI4Nzk1NDJmMWFhZjM3YjRiZjIgPSBMLm1hcmtlcigKICAgICAgICAgICAgICAgIFs0MS44ODI4NjU4LCAtODcuNjQ5MjgzNzk5OTk5OTldLAogICAgICAgICAgICAgICAge30KICAgICAgICAgICAgKS5hZGRUbyhtYXBfMWRhMmI1MDI2YTc2NDg3YWIxMTI4OTIzNDI0ZjUyNTYpOwogICAgICAgIAogICAgCiAgICAgICAgdmFyIHBvcHVwXzQ2MmRkNWM4Njk0NjQ1OTRhZjIzM2NhNTc1ZTExYzIxID0gTC5wb3B1cCh7Im1heFdpZHRoIjogIjEwMCUifSk7CgogICAgICAgIAogICAgICAgICAgICB2YXIgaHRtbF8zNThjYzgzYWMwYmI0YjA3YTZkMmYwYTMwOTBiYzhlYSA9ICQoYDxkaXYgaWQ9Imh0bWxfMzU4Y2M4M2FjMGJiNGIwN2E2ZDJmMGEzMDkwYmM4ZWEiIHN0eWxlPSJ3aWR0aDogMTAwLjAlOyBoZWlnaHQ6IDEwMC4wJTsiPkx1Y2t54oCZcyBTYW5kd2ljaCBDby48L2Rpdj5gKVswXTsKICAgICAgICAgICAgcG9wdXBfNDYyZGQ1Yzg2OTQ2NDU5NGFmMjMzY2E1NzVlMTFjMjEuc2V0Q29udGVudChodG1sXzM1OGNjODNhYzBiYjRiMDdhNmQyZjBhMzA5MGJjOGVhKTsKICAgICAgICAKCiAgICAgICAgbWFya2VyXzllNDBjNGM5Y2U2NDRiODc5NTQyZjFhYWYzN2I0YmYyLmJpbmRQb3B1cChwb3B1cF80NjJkZDVjODY5NDY0NTk0YWYyMzNjYTU3NWUxMWMyMSkKICAgICAgICA7CgogICAgICAgIAogICAgCiAgICAKICAgICAgICAgICAgdmFyIG1hcmtlcl9lNmU3MmRmMzRjZjQ0NTIzYmIzMzI2OWFhNzI5MWVkOCA9IEwubWFya2VyKAogICAgICAgICAgICAgICAgWzQxLjk2NTI5ODcsIC04Ny42NzU1Nzk1OTk5OTk5OV0sCiAgICAgICAgICAgICAgICB7fQogICAgICAgICAgICApLmFkZFRvKG1hcF8xZGEyYjUwMjZhNzY0ODdhYjExMjg5MjM0MjRmNTI1Nik7CiAgICAgICAgCiAgICAKICAgICAgICB2YXIgcG9wdXBfNjJkNTEyMmQ3M2U5NGI1ZDk1NTNlOGRlMDEwYWFkZGUgPSBMLnBvcHVwKHsibWF4V2lkdGgiOiAiMTAwJSJ9KTsKCiAgICAgICAgCiAgICAgICAgICAgIHZhciBodG1sXzkxZDZmMTlkNmE2MTRhNzc5ZDk4MDYwYTgxMTg2YmJjID0gJChgPGRpdiBpZD0iaHRtbF85MWQ2ZjE5ZDZhNjE0YTc3OWQ5ODA2MGE4MTE4NmJiYyIgc3R5bGU9IndpZHRoOiAxMDAuMCU7IGhlaWdodDogMTAwLjAlOyI+Q2l0eSBQcm92aXNpb25zPC9kaXY+YClbMF07CiAgICAgICAgICAgIHBvcHVwXzYyZDUxMjJkNzNlOTRiNWQ5NTUzZThkZTAxMGFhZGRlLnNldENvbnRlbnQoaHRtbF85MWQ2ZjE5ZDZhNjE0YTc3OWQ5ODA2MGE4MTE4NmJiYyk7CiAgICAgICAgCgogICAgICAgIG1hcmtlcl9lNmU3MmRmMzRjZjQ0NTIzYmIzMzI2OWFhNzI5MWVkOC5iaW5kUG9wdXAocG9wdXBfNjJkNTEyMmQ3M2U5NGI1ZDk1NTNlOGRlMDEwYWFkZGUpCiAgICAgICAgOwoKICAgICAgICAKICAgIAogICAgCiAgICAgICAgICAgIHZhciBtYXJrZXJfODMwOTQwZDczMTFmNGMzZWI0YmNhNWIyZjUxNjlhN2MgPSBMLm1hcmtlcigKICAgICAgICAgICAgICAgIFs0MS45MDI3MjE3OTk5OTk5OSwgLTg3LjY5MDIxMzVdLAogICAgICAgICAgICAgICAge30KICAgICAgICAgICAgKS5hZGRUbyhtYXBfMWRhMmI1MDI2YTc2NDg3YWIxMTI4OTIzNDI0ZjUyNTYpOwogICAgICAgIAogICAgCiAgICAgICAgdmFyIHBvcHVwXzcwNDBiMDdhZWY1MDRjZjFiN2I4MTFjMDlhOTEzOTVlID0gTC5wb3B1cCh7Im1heFdpZHRoIjogIjEwMCUifSk7CgogICAgICAgIAogICAgICAgICAgICB2YXIgaHRtbF82ZDIyM2VlODI4NWU0NmE1YmVmMDllZTQ2ODM3NGQ5MCA9ICQoYDxkaXYgaWQ9Imh0bWxfNmQyMjNlZTgyODVlNDZhNWJlZjA5ZWU0NjgzNzRkOTAiIHN0eWxlPSJ3aWR0aDogMTAwLjAlOyBoZWlnaHQ6IDEwMC4wJTsiPlBhcGHigJlzIENhY2hlIFNhYnJvc288L2Rpdj5gKVswXTsKICAgICAgICAgICAgcG9wdXBfNzA0MGIwN2FlZjUwNGNmMWI3YjgxMWMwOWE5MTM5NWUuc2V0Q29udGVudChodG1sXzZkMjIzZWU4Mjg1ZTQ2YTViZWYwOWVlNDY4Mzc0ZDkwKTsKICAgICAgICAKCiAgICAgICAgbWFya2VyXzgzMDk0MGQ3MzExZjRjM2ViNGJjYTViMmY1MTY5YTdjLmJpbmRQb3B1cChwb3B1cF83MDQwYjA3YWVmNTA0Y2YxYjdiODExYzA5YTkxMzk1ZSkKICAgICAgICA7CgogICAgICAgIAogICAgCiAgICAKICAgICAgICAgICAgdmFyIG1hcmtlcl9lNTM0NjFjNDA2ZTg0OTg5YjIxNTlmYmUzZDM3OGFmMyA9IEwubWFya2VyKAogICAgICAgICAgICAgICAgWzQxLjg4OTM2ODMsIC04Ny42MzQ5NDg3XSwKICAgICAgICAgICAgICAgIHt9CiAgICAgICAgICAgICkuYWRkVG8obWFwXzFkYTJiNTAyNmE3NjQ4N2FiMTEyODkyMzQyNGY1MjU2KTsKICAgICAgICAKICAgIAogICAgICAgIHZhciBwb3B1cF81MzBkOTY2YjhiNzQ0NzFiODFhMzkwYjU0YzZkZWM4ZiA9IEwucG9wdXAoeyJtYXhXaWR0aCI6ICIxMDAlIn0pOwoKICAgICAgICAKICAgICAgICAgICAgdmFyIGh0bWxfMThhM2E5NTRjNTA0NDJiOTkzNmEyZjgyNjE2MWMwMzEgPSAkKGA8ZGl2IGlkPSJodG1sXzE4YTNhOTU0YzUwNDQyYjk5MzZhMmY4MjYxNjFjMDMxIiBzdHlsZT0id2lkdGg6IDEwMC4wJTsgaGVpZ2h0OiAxMDAuMCU7Ij5CYXZldHRl4oCZcyBCYXIgJiBCb2V1ZjwvZGl2PmApWzBdOwogICAgICAgICAgICBwb3B1cF81MzBkOTY2YjhiNzQ0NzFiODFhMzkwYjU0YzZkZWM4Zi5zZXRDb250ZW50KGh0bWxfMThhM2E5NTRjNTA0NDJiOTkzNmEyZjgyNjE2MWMwMzEpOwogICAgICAgIAoKICAgICAgICBtYXJrZXJfZTUzNDYxYzQwNmU4NDk4OWIyMTU5ZmJlM2QzNzhhZjMuYmluZFBvcHVwKHBvcHVwXzUzMGQ5NjZiOGI3NDQ3MWI4MWEzOTBiNTRjNmRlYzhmKQogICAgICAgIDsKCiAgICAgICAgCiAgICAKICAgIAogICAgICAgICAgICB2YXIgbWFya2VyXzMyNmEyNmVjM2U0MzRlNzViY2Y2MTgyMGJmNDdmYTA4ID0gTC5tYXJrZXIoCiAgICAgICAgICAgICAgICBbNDEuODgyODY1OCwgLTg3LjY0OTI4Mzc5OTk5OTk5XSwKICAgICAgICAgICAgICAgIHt9CiAgICAgICAgICAgICkuYWRkVG8obWFwXzFkYTJiNTAyNmE3NjQ4N2FiMTEyODkyMzQyNGY1MjU2KTsKICAgICAgICAKICAgIAogICAgICAgIHZhciBwb3B1cF9jZjQ2YjZjZWYxZmU0ZDcxYWEzMWFmZjJmN2VjM2M4YiA9IEwucG9wdXAoeyJtYXhXaWR0aCI6ICIxMDAlIn0pOwoKICAgICAgICAKICAgICAgICAgICAgdmFyIGh0bWxfNDgwZDQ1YjdmNDRiNGFjZGI1ZTczMWY5NjllZGE0MTEgPSAkKGA8ZGl2IGlkPSJodG1sXzQ4MGQ0NWI3ZjQ0YjRhY2RiNWU3MzFmOTY5ZWRhNDExIiBzdHlsZT0id2lkdGg6IDEwMC4wJTsgaGVpZ2h0OiAxMDAuMCU7Ij5IYW5uYWjigJlzIEJyZXR6ZWw8L2Rpdj5gKVswXTsKICAgICAgICAgICAgcG9wdXBfY2Y0NmI2Y2VmMWZlNGQ3MWFhMzFhZmYyZjdlYzNjOGIuc2V0Q29udGVudChodG1sXzQ4MGQ0NWI3ZjQ0YjRhY2RiNWU3MzFmOTY5ZWRhNDExKTsKICAgICAgICAKCiAgICAgICAgbWFya2VyXzMyNmEyNmVjM2U0MzRlNzViY2Y2MTgyMGJmNDdmYTA4LmJpbmRQb3B1cChwb3B1cF9jZjQ2YjZjZWYxZmU0ZDcxYWEzMWFmZjJmN2VjM2M4YikKICAgICAgICA7CgogICAgICAgIAogICAgCiAgICAKICAgICAgICAgICAgdmFyIG1hcmtlcl8zYjYwZGRkN2U0NjM0NzQ0YjE3OWNiOTBhMTg3YjVhZSA9IEwubWFya2VyKAogICAgICAgICAgICAgICAgWzQxLjkxMDUyNTgsIC04Ny42MzQzNzc1XSwKICAgICAgICAgICAgICAgIHt9CiAgICAgICAgICAgICkuYWRkVG8obWFwXzFkYTJiNTAyNmE3NjQ4N2FiMTEyODkyMzQyNGY1MjU2KTsKICAgICAgICAKICAgIAogICAgICAgIHZhciBwb3B1cF85NDAwMGJiZmY0ZTc0MDAxYjk3Mzk1MGI4OWFhOTIxMCA9IEwucG9wdXAoeyJtYXhXaWR0aCI6ICIxMDAlIn0pOwoKICAgICAgICAKICAgICAgICAgICAgdmFyIGh0bWxfYjU4MGRjYjBmOGFkNGQwYmE5YWRiODVmMDM5NDk1ZDMgPSAkKGA8ZGl2IGlkPSJodG1sX2I1ODBkY2IwZjhhZDRkMGJhOWFkYjg1ZjAzOTQ5NWQzIiBzdHlsZT0id2lkdGg6IDEwMC4wJTsgaGVpZ2h0OiAxMDAuMCU7Ij5MYSBGb3VybmV0dGU8L2Rpdj5gKVswXTsKICAgICAgICAgICAgcG9wdXBfOTQwMDBiYmZmNGU3NDAwMWI5NzM5NTBiODlhYTkyMTAuc2V0Q29udGVudChodG1sX2I1ODBkY2IwZjhhZDRkMGJhOWFkYjg1ZjAzOTQ5NWQzKTsKICAgICAgICAKCiAgICAgICAgbWFya2VyXzNiNjBkZGQ3ZTQ2MzQ3NDRiMTc5Y2I5MGExODdiNWFlLmJpbmRQb3B1cChwb3B1cF85NDAwMGJiZmY0ZTc0MDAxYjk3Mzk1MGI4OWFhOTIxMCkKICAgICAgICA7CgogICAgICAgIAogICAgCiAgICAKICAgICAgICAgICAgdmFyIG1hcmtlcl9kNGE4ZWNjYTA1NWI0MmY0ODdmY2JkZjEyMWMzNzAyMiA9IEwubWFya2VyKAogICAgICAgICAgICAgICAgWzQxLjg4OTYxODgsIC04Ny42NDQ4NDI1OTk5OTk5OV0sCiAgICAgICAgICAgICAgICB7fQogICAgICAgICAgICApLmFkZFRvKG1hcF8xZGEyYjUwMjZhNzY0ODdhYjExMjg5MjM0MjRmNTI1Nik7CiAgICAgICAgCiAgICAKICAgICAgICB2YXIgcG9wdXBfMzU1NTY1ZDYwNmU1NGM3M2I2NDA1MTNmM2I1YTZkNmQgPSBMLnBvcHVwKHsibWF4V2lkdGgiOiAiMTAwJSJ9KTsKCiAgICAgICAgCiAgICAgICAgICAgIHZhciBodG1sXzhhYThhODBiMTFkODRhMzI5N2UzMjJmZDAxNjEyNGZlID0gJChgPGRpdiBpZD0iaHRtbF84YWE4YTgwYjExZDg0YTMyOTdlMzIyZmQwMTYxMjRmZSIgc3R5bGU9IndpZHRoOiAxMDAuMCU7IGhlaWdodDogMTAwLjAlOyI+UGFyYW1vdW50IFJvb208L2Rpdj5gKVswXTsKICAgICAgICAgICAgcG9wdXBfMzU1NTY1ZDYwNmU1NGM3M2I2NDA1MTNmM2I1YTZkNmQuc2V0Q29udGVudChodG1sXzhhYThhODBiMTFkODRhMzI5N2UzMjJmZDAxNjEyNGZlKTsKICAgICAgICAKCiAgICAgICAgbWFya2VyX2Q0YThlY2NhMDU1YjQyZjQ4N2ZjYmRmMTIxYzM3MDIyLmJpbmRQb3B1cChwb3B1cF8zNTU1NjVkNjA2ZTU0YzczYjY0MDUxM2YzYjVhNmQ2ZCkKICAgICAgICA7CgogICAgICAgIAogICAgCiAgICAKICAgICAgICAgICAgdmFyIG1hcmtlcl8yZTU5MmMwMTczZjk0MzA3OGI2NzEzMzk2OWQ3MmE5NiA9IEwubWFya2VyKAogICAgICAgICAgICAgICAgWzQxLjkxNTA0OTkwMDAwMDAxLCAtODcuNjc3ODA0N10sCiAgICAgICAgICAgICAgICB7fQogICAgICAgICAgICApLmFkZFRvKG1hcF8xZGEyYjUwMjZhNzY0ODdhYjExMjg5MjM0MjRmNTI1Nik7CiAgICAgICAgCiAgICAKICAgICAgICB2YXIgcG9wdXBfMTVjYThlNTBhYmYwNGFlNzllYTMwYTM0NjI5NWY2YjYgPSBMLnBvcHVwKHsibWF4V2lkdGgiOiAiMTAwJSJ9KTsKCiAgICAgICAgCiAgICAgICAgICAgIHZhciBodG1sXzc1OWVkZTkzYjVjYjRkNTVhYjQzMjc5NThjNWE3ZWQwID0gJChgPGRpdiBpZD0iaHRtbF83NTllZGU5M2I1Y2I0ZDU1YWI0MzI3OTU4YzVhN2VkMCIgc3R5bGU9IndpZHRoOiAxMDAuMCU7IGhlaWdodDogMTAwLjAlOyI+TWVsdCBTYW5kd2ljaCBTaG9wcGU8L2Rpdj5gKVswXTsKICAgICAgICAgICAgcG9wdXBfMTVjYThlNTBhYmYwNGFlNzllYTMwYTM0NjI5NWY2YjYuc2V0Q29udGVudChodG1sXzc1OWVkZTkzYjVjYjRkNTVhYjQzMjc5NThjNWE3ZWQwKTsKICAgICAgICAKCiAgICAgICAgbWFya2VyXzJlNTkyYzAxNzNmOTQzMDc4YjY3MTMzOTY5ZDcyYTk2LmJpbmRQb3B1cChwb3B1cF8xNWNhOGU1MGFiZjA0YWU3OWVhMzBhMzQ2Mjk1ZjZiNikKICAgICAgICA7CgogICAgICAgIAogICAgCiAgICAKICAgICAgICAgICAgdmFyIG1hcmtlcl9iNWEyOGU2NjFhYWE0YzJlODBkOGI1NDQ0NTg0YWUxMiA9IEwubWFya2VyKAogICAgICAgICAgICAgICAgWzQxLjkyMTg1MjEsIC04Ny42NTkyMTI0XSwKICAgICAgICAgICAgICAgIHt9CiAgICAgICAgICAgICkuYWRkVG8obWFwXzFkYTJiNTAyNmE3NjQ4N2FiMTEyODkyMzQyNGY1MjU2KTsKICAgICAgICAKICAgIAogICAgICAgIHZhciBwb3B1cF83MjVmYTA4ZTJjMzQ0MWI1OGY2NjQxMDcxNDcwMzMyMCA9IEwucG9wdXAoeyJtYXhXaWR0aCI6ICIxMDAlIn0pOwoKICAgICAgICAKICAgICAgICAgICAgdmFyIGh0bWxfZWMwOGZkYTA0OWI3NDYxMTg1N2FmNDI1NTdjMTdmYmQgPSAkKGA8ZGl2IGlkPSJodG1sX2VjMDhmZGEwNDliNzQ2MTE4NTdhZjQyNTU3YzE3ZmJkIiBzdHlsZT0id2lkdGg6IDEwMC4wJTsgaGVpZ2h0OiAxMDAuMCU7Ij5GbG9yaW9sZSBDYWZlICYgQmFrZXJ5PC9kaXY+YClbMF07CiAgICAgICAgICAgIHBvcHVwXzcyNWZhMDhlMmMzNDQxYjU4ZjY2NDEwNzE0NzAzMzIwLnNldENvbnRlbnQoaHRtbF9lYzA4ZmRhMDQ5Yjc0NjExODU3YWY0MjU1N2MxN2ZiZCk7CiAgICAgICAgCgogICAgICAgIG1hcmtlcl9iNWEyOGU2NjFhYWE0YzJlODBkOGI1NDQ0NTg0YWUxMi5iaW5kUG9wdXAocG9wdXBfNzI1ZmEwOGUyYzM0NDFiNThmNjY0MTA3MTQ3MDMzMjApCiAgICAgICAgOwoKICAgICAgICAKICAgIAogICAgCiAgICAgICAgICAgIHZhciBtYXJrZXJfZjlmZGQ2NTJmYjdjNDUzYWI1YjE5MzMxMTQ1ZjAzNGUgPSBMLm1hcmtlcigKICAgICAgICAgICAgICAgIFs0MS45Nzk3MDk5LCAtODcuNjY5MzQ0MDk5OTk5OTldLAogICAgICAgICAgICAgICAge30KICAgICAgICAgICAgKS5hZGRUbyhtYXBfMWRhMmI1MDI2YTc2NDg3YWIxMTI4OTIzNDI0ZjUyNTYpOwogICAgICAgIAogICAgCiAgICAgICAgdmFyIHBvcHVwXzM4MTNjOWIyM2YwNzRmZDRhOTE0YTJkOTM1ZDRiYzY4ID0gTC5wb3B1cCh7Im1heFdpZHRoIjogIjEwMCUifSk7CgogICAgICAgIAogICAgICAgICAgICB2YXIgaHRtbF9lMGIyODI2MGI3MmE0OTA0YWU0OGRmY2EyODhmZDk3MSA9ICQoYDxkaXYgaWQ9Imh0bWxfZTBiMjgyNjBiNzJhNDkwNGFlNDhkZmNhMjg4ZmQ5NzEiIHN0eWxlPSJ3aWR0aDogMTAwLjAlOyBoZWlnaHQ6IDEwMC4wJTsiPkZpcnN0IFNsaWNlIFBpZSBDYWbDqTwvZGl2PmApWzBdOwogICAgICAgICAgICBwb3B1cF8zODEzYzliMjNmMDc0ZmQ0YTkxNGEyZDkzNWQ0YmM2OC5zZXRDb250ZW50KGh0bWxfZTBiMjgyNjBiNzJhNDkwNGFlNDhkZmNhMjg4ZmQ5NzEpOwogICAgICAgIAoKICAgICAgICBtYXJrZXJfZjlmZGQ2NTJmYjdjNDUzYWI1YjE5MzMxMTQ1ZjAzNGUuYmluZFBvcHVwKHBvcHVwXzM4MTNjOWIyM2YwNzRmZDRhOTE0YTJkOTM1ZDRiYzY4KQogICAgICAgIDsKCiAgICAgICAgCiAgICAKICAgIAogICAgICAgICAgICB2YXIgbWFya2VyX2M0MDIyMGJiZmRlZjQ3ODdiODQ1MmY0MzhhYjdlMmVjID0gTC5tYXJrZXIoCiAgICAgICAgICAgICAgICBbNDEuOTYxNzEyMiwgLTg3LjY3NTgxNjIwMDAwMDAxXSwKICAgICAgICAgICAgICAgIHt9CiAgICAgICAgICAgICkuYWRkVG8obWFwXzFkYTJiNTAyNmE3NjQ4N2FiMTEyODkyMzQyNGY1MjU2KTsKICAgICAgICAKICAgIAogICAgICAgIHZhciBwb3B1cF85M2RhYjczM2I5NWU0NDJlYmRjNDkxMzA5MDA2NTEwOSA9IEwucG9wdXAoeyJtYXhXaWR0aCI6ICIxMDAlIn0pOwoKICAgICAgICAKICAgICAgICAgICAgdmFyIGh0bWxfMDhkNmJmMTNhMDE4NDQ2YWFkZTZiMzBkNGM0NGQyY2MgPSAkKGA8ZGl2IGlkPSJodG1sXzA4ZDZiZjEzYTAxODQ0NmFhZGU2YjMwZDRjNDRkMmNjIiBzdHlsZT0id2lkdGg6IDEwMC4wJTsgaGVpZ2h0OiAxMDAuMCU7Ij5Ucm9xdWV0PC9kaXY+YClbMF07CiAgICAgICAgICAgIHBvcHVwXzkzZGFiNzMzYjk1ZTQ0MmViZGM0OTEzMDkwMDY1MTA5LnNldENvbnRlbnQoaHRtbF8wOGQ2YmYxM2EwMTg0NDZhYWRlNmIzMGQ0YzQ0ZDJjYyk7CiAgICAgICAgCgogICAgICAgIG1hcmtlcl9jNDAyMjBiYmZkZWY0Nzg3Yjg0NTJmNDM4YWI3ZTJlYy5iaW5kUG9wdXAocG9wdXBfOTNkYWI3MzNiOTVlNDQyZWJkYzQ5MTMwOTAwNjUxMDkpCiAgICAgICAgOwoKICAgICAgICAKICAgIAogICAgCiAgICAgICAgICAgIHZhciBtYXJrZXJfYjQ1MGI3NzU0ZTkyNDNmMGEwZDIwMDIyZDY4OTgxZGQgPSBMLm1hcmtlcigKICAgICAgICAgICAgICAgIFs0MS44OTI5NjExOTk5OTk5OSwgLTg3LjYyNzgyMTRdLAogICAgICAgICAgICAgICAge30KICAgICAgICAgICAgKS5hZGRUbyhtYXBfMWRhMmI1MDI2YTc2NDg3YWIxMTI4OTIzNDI0ZjUyNTYpOwogICAgICAgIAogICAgCiAgICAgICAgdmFyIHBvcHVwXzgwYTk4YTYwNWE0YzQ2MmRhOGRmOGI0MmJkZDIyMDZlID0gTC5wb3B1cCh7Im1heFdpZHRoIjogIjEwMCUifSk7CgogICAgICAgIAogICAgICAgICAgICB2YXIgaHRtbF84NzQxZTU5ZWExOGE0NTk2ODdlYzFjOWJlMGU5MmVhMyA9ICQoYDxkaXYgaWQ9Imh0bWxfODc0MWU1OWVhMThhNDU5Njg3ZWMxYzliZTBlOTJlYTMiIHN0eWxlPSJ3aWR0aDogMTAwLjAlOyBoZWlnaHQ6IDEwMC4wJTsiPkdyYWhhbXdpY2g8L2Rpdj5gKVswXTsKICAgICAgICAgICAgcG9wdXBfODBhOThhNjA1YTRjNDYyZGE4ZGY4YjQyYmRkMjIwNmUuc2V0Q29udGVudChodG1sXzg3NDFlNTllYTE4YTQ1OTY4N2VjMWM5YmUwZTkyZWEzKTsKICAgICAgICAKCiAgICAgICAgbWFya2VyX2I0NTBiNzc1NGU5MjQzZjBhMGQyMDAyMmQ2ODk4MWRkLmJpbmRQb3B1cChwb3B1cF84MGE5OGE2MDVhNGM0NjJkYThkZjhiNDJiZGQyMjA2ZSkKICAgICAgICA7CgogICAgICAgIAogICAgCiAgICAKICAgICAgICAgICAgdmFyIG1hcmtlcl8xZmM2ZjUwZTNkZmI0MzNlOWVkYzE2YjA3MTBjMzczZCA9IEwubWFya2VyKAogICAgICAgICAgICAgICAgWzQxLjg4Mjg2NTgsIC04Ny42NDkyODM3OTk5OTk5OV0sCiAgICAgICAgICAgICAgICB7fQogICAgICAgICAgICApLmFkZFRvKG1hcF8xZGEyYjUwMjZhNzY0ODdhYjExMjg5MjM0MjRmNTI1Nik7CiAgICAgICAgCiAgICAKICAgICAgICB2YXIgcG9wdXBfOGJlNTNmMmJjMGVjNDg3YWEyYmY5NTQ0ZjIzYzJiOWIgPSBMLnBvcHVwKHsibWF4V2lkdGgiOiAiMTAwJSJ9KTsKCiAgICAgICAgCiAgICAgICAgICAgIHZhciBodG1sXzQ3ZGU4M2IxNjRiNTQyMWJhNGI5ZTlmYjYzYzdlM2E1ID0gJChgPGRpdiBpZD0iaHRtbF80N2RlODNiMTY0YjU0MjFiYTRiOWU5ZmI2M2M3ZTNhNSIgc3R5bGU9IndpZHRoOiAxMDAuMCU7IGhlaWdodDogMTAwLjAlOyI+U2FpZ29uIFNpc3RlcnM8L2Rpdj5gKVswXTsKICAgICAgICAgICAgcG9wdXBfOGJlNTNmMmJjMGVjNDg3YWEyYmY5NTQ0ZjIzYzJiOWIuc2V0Q29udGVudChodG1sXzQ3ZGU4M2IxNjRiNTQyMWJhNGI5ZTlmYjYzYzdlM2E1KTsKICAgICAgICAKCiAgICAgICAgbWFya2VyXzFmYzZmNTBlM2RmYjQzM2U5ZWRjMTZiMDcxMGMzNzNkLmJpbmRQb3B1cChwb3B1cF84YmU1M2YyYmMwZWM0ODdhYTJiZjk1NDRmMjNjMmI5YikKICAgICAgICA7CgogICAgICAgIAogICAgCiAgICAKICAgICAgICAgICAgdmFyIG1hcmtlcl8xN2I5MzY2NDM4NGY0Yjc2OGQ1NDlkZmQyNGRiOGNjMiA9IEwubWFya2VyKAogICAgICAgICAgICAgICAgWzQxLjkwNDc1NTEsIC04Ny45Mzk2NDU5XSwKICAgICAgICAgICAgICAgIHt9CiAgICAgICAgICAgICkuYWRkVG8obWFwXzFkYTJiNTAyNmE3NjQ4N2FiMTEyODkyMzQyNGY1MjU2KTsKICAgICAgICAKICAgIAogICAgICAgIHZhciBwb3B1cF80ZDQwMTUzNDdiNmI0MDUxOWRjYjI2MDMzN2IyOWZmZSA9IEwucG9wdXAoeyJtYXhXaWR0aCI6ICIxMDAlIn0pOwoKICAgICAgICAKICAgICAgICAgICAgdmFyIGh0bWxfOWNmMGQ2MDNjNzI0NGYzNDlmNjA2N2EzNmJmMzU2ZmYgPSAkKGA8ZGl2IGlkPSJodG1sXzljZjBkNjAzYzcyNDRmMzQ5ZjYwNjdhMzZiZjM1NmZmIiBzdHlsZT0id2lkdGg6IDEwMC4wJTsgaGVpZ2h0OiAxMDAuMCU7Ij5Sb3NhbGlh4oCZcyBEZWxpPC9kaXY+YClbMF07CiAgICAgICAgICAgIHBvcHVwXzRkNDAxNTM0N2I2YjQwNTE5ZGNiMjYwMzM3YjI5ZmZlLnNldENvbnRlbnQoaHRtbF85Y2YwZDYwM2M3MjQ0ZjM0OWY2MDY3YTM2YmYzNTZmZik7CiAgICAgICAgCgogICAgICAgIG1hcmtlcl8xN2I5MzY2NDM4NGY0Yjc2OGQ1NDlkZmQyNGRiOGNjMi5iaW5kUG9wdXAocG9wdXBfNGQ0MDE1MzQ3YjZiNDA1MTlkY2IyNjAzMzdiMjlmZmUpCiAgICAgICAgOwoKICAgICAgICAKICAgIAogICAgCiAgICAgICAgICAgIHZhciBtYXJrZXJfMjBiODZiZDYwNzY0NGI0NmFmNTBkYTU3NTM2ZDUxNGMgPSBMLm1hcmtlcigKICAgICAgICAgICAgICAgIFs0MS43OTEzMTg1LCAtODcuNTkzODQ1Nl0sCiAgICAgICAgICAgICAgICB7fQogICAgICAgICAgICApLmFkZFRvKG1hcF8xZGEyYjUwMjZhNzY0ODdhYjExMjg5MjM0MjRmNTI1Nik7CiAgICAgICAgCiAgICAKICAgICAgICB2YXIgcG9wdXBfYzZlOWQ3Y2M2OWJkNDRkMjg3NzgwOTU3ZDgzODcwNzcgPSBMLnBvcHVwKHsibWF4V2lkdGgiOiAiMTAwJSJ9KTsKCiAgICAgICAgCiAgICAgICAgICAgIHZhciBodG1sXzcwNDc3NWQ1YmZlOTRkYjk5NjU1MGE1MGI0NjlmNGNiID0gJChgPGRpdiBpZD0iaHRtbF83MDQ3NzVkNWJmZTk0ZGI5OTY1NTBhNTBiNDY5ZjRjYiIgc3R5bGU9IndpZHRoOiAxMDAuMCU7IGhlaWdodDogMTAwLjAlOyI+WiZIIE1hcmtldENhZmU8L2Rpdj5gKVswXTsKICAgICAgICAgICAgcG9wdXBfYzZlOWQ3Y2M2OWJkNDRkMjg3NzgwOTU3ZDgzODcwNzcuc2V0Q29udGVudChodG1sXzcwNDc3NWQ1YmZlOTRkYjk5NjU1MGE1MGI0NjlmNGNiKTsKICAgICAgICAKCiAgICAgICAgbWFya2VyXzIwYjg2YmQ2MDc2NDRiNDZhZjUwZGE1NzUzNmQ1MTRjLmJpbmRQb3B1cChwb3B1cF9jNmU5ZDdjYzY5YmQ0NGQyODc3ODA5NTdkODM4NzA3NykKICAgICAgICA7CgogICAgICAgIAogICAgCiAgICAKICAgICAgICAgICAgdmFyIG1hcmtlcl82MjdjY2ZhODA0ZjA0ZjIzOTE1NjM0ZjMwZjhhNmYwMiA9IEwubWFya2VyKAogICAgICAgICAgICAgICAgWzQyLjI1MTc5NCwgLTg3Ljg0MTMyXSwKICAgICAgICAgICAgICAgIHt9CiAgICAgICAgICAgICkuYWRkVG8obWFwXzFkYTJiNTAyNmE3NjQ4N2FiMTEyODkyMzQyNGY1MjU2KTsKICAgICAgICAKICAgIAogICAgICAgIHZhciBwb3B1cF8zNGQ3OGJkZjAzMzI0ZmZmOTRhNjQyNzgyNGQ3ZmEyMyA9IEwucG9wdXAoeyJtYXhXaWR0aCI6ICIxMDAlIn0pOwoKICAgICAgICAKICAgICAgICAgICAgdmFyIGh0bWxfYTU2M2RjZDllYTkyNDg4NjkyNDhjY2ViN2MxOTQ1YmMgPSAkKGA8ZGl2IGlkPSJodG1sX2E1NjNkY2Q5ZWE5MjQ4ODY5MjQ4Y2NlYjdjMTk0NWJjIiBzdHlsZT0id2lkdGg6IDEwMC4wJTsgaGVpZ2h0OiAxMDAuMCU7Ij5NYXJrZXQgSG91c2Ugb24gdGhlIFNxdWFyZTwvZGl2PmApWzBdOwogICAgICAgICAgICBwb3B1cF8zNGQ3OGJkZjAzMzI0ZmZmOTRhNjQyNzgyNGQ3ZmEyMy5zZXRDb250ZW50KGh0bWxfYTU2M2RjZDllYTkyNDg4NjkyNDhjY2ViN2MxOTQ1YmMpOwogICAgICAgIAoKICAgICAgICBtYXJrZXJfNjI3Y2NmYTgwNGYwNGYyMzkxNTYzNGYzMGY4YTZmMDIuYmluZFBvcHVwKHBvcHVwXzM0ZDc4YmRmMDMzMjRmZmY5NGE2NDI3ODI0ZDdmYTIzKQogICAgICAgIDsKCiAgICAgICAgCiAgICAKICAgIAogICAgICAgICAgICB2YXIgbWFya2VyX2Q0YTk0ZGM2NDU0NzRjNGRhNTJmMDAwNjgyMTUxMTVjID0gTC5tYXJrZXIoCiAgICAgICAgICAgICAgICBbNDEuOTE1Mjg3NSwgLTg3LjYzNDM4ODhdLAogICAgICAgICAgICAgICAge30KICAgICAgICAgICAgKS5hZGRUbyhtYXBfMWRhMmI1MDI2YTc2NDg3YWIxMTI4OTIzNDI0ZjUyNTYpOwogICAgICAgIAogICAgCiAgICAgICAgdmFyIHBvcHVwXzIyNjRkMDcxZGE4ZjQ3ZGNiOTUwYjljY2RlZDAwMGY4ID0gTC5wb3B1cCh7Im1heFdpZHRoIjogIjEwMCUifSk7CgogICAgICAgIAogICAgICAgICAgICB2YXIgaHRtbF84NTNkMGQ5NWI3MjE0ZDRkODYzZjMyYjU2Yzc3MzViZiA9ICQoYDxkaXYgaWQ9Imh0bWxfODUzZDBkOTViNzIxNGQ0ZDg2M2YzMmI1NmM3NzM1YmYiIHN0eWxlPSJ3aWR0aDogMTAwLjAlOyBoZWlnaHQ6IDEwMC4wJTsiPkVsYWluZeKAmXMgQ29mZmVlIENhbGw8L2Rpdj5gKVswXTsKICAgICAgICAgICAgcG9wdXBfMjI2NGQwNzFkYThmNDdkY2I5NTBiOWNjZGVkMDAwZjguc2V0Q29udGVudChodG1sXzg1M2QwZDk1YjcyMTRkNGQ4NjNmMzJiNTZjNzczNWJmKTsKICAgICAgICAKCiAgICAgICAgbWFya2VyX2Q0YTk0ZGM2NDU0NzRjNGRhNTJmMDAwNjgyMTUxMTVjLmJpbmRQb3B1cChwb3B1cF8yMjY0ZDA3MWRhOGY0N2RjYjk1MGI5Y2NkZWQwMDBmOCkKICAgICAgICA7CgogICAgICAgIAogICAgCiAgICAKICAgICAgICAgICAgdmFyIG1hcmtlcl85MWNlOTA2MzI0Zjk0ODcxOGY0NGI4MzViMWJiY2NjOSA9IEwubWFya2VyKAogICAgICAgICAgICAgICAgWzQxLjg4NjM2MjIsIC04Ny44MDIyMjk3XSwKICAgICAgICAgICAgICAgIHt9CiAgICAgICAgICAgICkuYWRkVG8obWFwXzFkYTJiNTAyNmE3NjQ4N2FiMTEyODkyMzQyNGY1MjU2KTsKICAgICAgICAKICAgIAogICAgICAgIHZhciBwb3B1cF9lYjY2OTUwOTY2YjQ0NmZmYjkxNDM0ZWQ2Y2RhNzcxMCA9IEwucG9wdXAoeyJtYXhXaWR0aCI6ICIxMDAlIn0pOwoKICAgICAgICAKICAgICAgICAgICAgdmFyIGh0bWxfYTI5ODBhY2M4NjFlNDVkNWJkNmJkNDIwMDJjNjU3YzEgPSAkKGA8ZGl2IGlkPSJodG1sX2EyOTgwYWNjODYxZTQ1ZDViZDZiZDQyMDAyYzY1N2MxIiBzdHlsZT0id2lkdGg6IDEwMC4wJTsgaGVpZ2h0OiAxMDAuMCU7Ij5NYXJpb24gU3RyZWV0IENoZWVzZSBNYXJrZXQ8L2Rpdj5gKVswXTsKICAgICAgICAgICAgcG9wdXBfZWI2Njk1MDk2NmI0NDZmZmI5MTQzNGVkNmNkYTc3MTAuc2V0Q29udGVudChodG1sX2EyOTgwYWNjODYxZTQ1ZDViZDZiZDQyMDAyYzY1N2MxKTsKICAgICAgICAKCiAgICAgICAgbWFya2VyXzkxY2U5MDYzMjRmOTQ4NzE4ZjQ0YjgzNWIxYmJjY2M5LmJpbmRQb3B1cChwb3B1cF9lYjY2OTUwOTY2YjQ0NmZmYjkxNDM0ZWQ2Y2RhNzcxMCkKICAgICAgICA7CgogICAgICAgIAogICAgCiAgICAKICAgICAgICAgICAgdmFyIG1hcmtlcl8yNzMzODA0NDBjMTY0NDUyYjk1ZjU5MTM5NDRjYmU5OSA9IEwubWFya2VyKAogICAgICAgICAgICAgICAgWzQxLjg3NTgxMDIsIC04Ny42MjY0NDg5XSwKICAgICAgICAgICAgICAgIHt9CiAgICAgICAgICAgICkuYWRkVG8obWFwXzFkYTJiNTAyNmE3NjQ4N2FiMTEyODkyMzQyNGY1MjU2KTsKICAgICAgICAKICAgIAogICAgICAgIHZhciBwb3B1cF9lOGEyYmY3ZWM0YmM0ZWQzOTIwOWJjZDJmNDE2ODc1NiA9IEwucG9wdXAoeyJtYXhXaWR0aCI6ICIxMDAlIn0pOwoKICAgICAgICAKICAgICAgICAgICAgdmFyIGh0bWxfYWU1Y2I2NDA1M2QxNDgzODg4OGU4Y2ZiYjY0NDk0NzcgPSAkKGA8ZGl2IGlkPSJodG1sX2FlNWNiNjQwNTNkMTQ4Mzg4ODhlOGNmYmI2NDQ5NDc3IiBzdHlsZT0id2lkdGg6IDEwMC4wJTsgaGVpZ2h0OiAxMDAuMCU7Ij5DYWZlY2l0bzwvZGl2PmApWzBdOwogICAgICAgICAgICBwb3B1cF9lOGEyYmY3ZWM0YmM0ZWQzOTIwOWJjZDJmNDE2ODc1Ni5zZXRDb250ZW50KGh0bWxfYWU1Y2I2NDA1M2QxNDgzODg4OGU4Y2ZiYjY0NDk0NzcpOwogICAgICAgIAoKICAgICAgICBtYXJrZXJfMjczMzgwNDQwYzE2NDQ1MmI5NWY1OTEzOTQ0Y2JlOTkuYmluZFBvcHVwKHBvcHVwX2U4YTJiZjdlYzRiYzRlZDM5MjA5YmNkMmY0MTY4NzU2KQogICAgICAgIDsKCiAgICAgICAgCiAgICAKICAgIAogICAgICAgICAgICB2YXIgbWFya2VyX2RiNTA1MDk3NWUzYzRhODY5Y2M3YzliZmVhMWI1ODg5ID0gTC5tYXJrZXIoCiAgICAgICAgICAgICAgICBbNDEuODk2MDczOCwgLTg3LjY3NzgxODVdLAogICAgICAgICAgICAgICAge30KICAgICAgICAgICAgKS5hZGRUbyhtYXBfMWRhMmI1MDI2YTc2NDg3YWIxMTI4OTIzNDI0ZjUyNTYpOwogICAgICAgIAogICAgCiAgICAgICAgdmFyIHBvcHVwXzgyNGQ5MTQ2NjYzYjQ3MTA4ODg2NjM1NjUxNzUxZWY4ID0gTC5wb3B1cCh7Im1heFdpZHRoIjogIjEwMCUifSk7CgogICAgICAgIAogICAgICAgICAgICB2YXIgaHRtbF8yMzQ0NDdkYjRlMjk0Y2QxYTgwODk4Y2M5NDYyN2JjZiA9ICQoYDxkaXYgaWQ9Imh0bWxfMjM0NDQ3ZGI0ZTI5NGNkMWE4MDg5OGNjOTQ2MjdiY2YiIHN0eWxlPSJ3aWR0aDogMTAwLjAlOyBoZWlnaHQ6IDEwMC4wJTsiPkNoaWNrcGVhPC9kaXY+YClbMF07CiAgICAgICAgICAgIHBvcHVwXzgyNGQ5MTQ2NjYzYjQ3MTA4ODg2NjM1NjUxNzUxZWY4LnNldENvbnRlbnQoaHRtbF8yMzQ0NDdkYjRlMjk0Y2QxYTgwODk4Y2M5NDYyN2JjZik7CiAgICAgICAgCgogICAgICAgIG1hcmtlcl9kYjUwNTA5NzVlM2M0YTg2OWNjN2M5YmZlYTFiNTg4OS5iaW5kUG9wdXAocG9wdXBfODI0ZDkxNDY2NjNiNDcxMDg4ODY2MzU2NTE3NTFlZjgpCiAgICAgICAgOwoKICAgICAgICAKICAgIAogICAgCiAgICAgICAgICAgIHZhciBtYXJrZXJfMTA3ZmU0OTU2ODg0NDcwNmFhOGRlYjY3MDlmNGY1YjkgPSBMLm1hcmtlcigKICAgICAgICAgICAgICAgIFs0MS44OTg5Nzg1MDAwMDAwMSwgLTg3LjYyNzM5MjZdLAogICAgICAgICAgICAgICAge30KICAgICAgICAgICAgKS5hZGRUbyhtYXBfMWRhMmI1MDI2YTc2NDg3YWIxMTI4OTIzNDI0ZjUyNTYpOwogICAgICAgIAogICAgCiAgICAgICAgdmFyIHBvcHVwXzVmZDNiYjIwZjRmODQ0NDg5MjFiY2JmOWQ1MzdhOGI3ID0gTC5wb3B1cCh7Im1heFdpZHRoIjogIjEwMCUifSk7CgogICAgICAgIAogICAgICAgICAgICB2YXIgaHRtbF84M2Y5YmVjNWQwZTI0MDNjOGNkMjZmZmFkODg5YmYzNiA9ICQoYDxkaXYgaWQ9Imh0bWxfODNmOWJlYzVkMGUyNDAzYzhjZDI2ZmZhZDg4OWJmMzYiIHN0eWxlPSJ3aWR0aDogMTAwLjAlOyBoZWlnaHQ6IDEwMC4wJTsiPlRoZSBHb2RkZXNzIGFuZCBHcm9jZXI8L2Rpdj5gKVswXTsKICAgICAgICAgICAgcG9wdXBfNWZkM2JiMjBmNGY4NDQ0ODkyMWJjYmY5ZDUzN2E4Yjcuc2V0Q29udGVudChodG1sXzgzZjliZWM1ZDBlMjQwM2M4Y2QyNmZmYWQ4ODliZjM2KTsKICAgICAgICAKCiAgICAgICAgbWFya2VyXzEwN2ZlNDk1Njg4NDQ3MDZhYThkZWI2NzA5ZjRmNWI5LmJpbmRQb3B1cChwb3B1cF81ZmQzYmIyMGY0Zjg0NDQ4OTIxYmNiZjlkNTM3YThiNykKICAgICAgICA7CgogICAgICAgIAogICAgCiAgICAKICAgICAgICAgICAgdmFyIG1hcmtlcl83NTUwYWJiYTYzYjk0NDgwYjU1ZjlhNGQzYWY5NmRiNSA9IEwubWFya2VyKAogICAgICAgICAgICAgICAgWzQxLjkxMDU4MzIsIC04Ny45NDA0ODgzOTk5OTk5OV0sCiAgICAgICAgICAgICAgICB7fQogICAgICAgICAgICApLmFkZFRvKG1hcF8xZGEyYjUwMjZhNzY0ODdhYjExMjg5MjM0MjRmNTI1Nik7CiAgICAgICAgCiAgICAKICAgICAgICB2YXIgcG9wdXBfZWQ2YWQxNWU0MDBmNDNmZjg4ZGZkOGY1NDgzOGJjNzAgPSBMLnBvcHVwKHsibWF4V2lkdGgiOiAiMTAwJSJ9KTsKCiAgICAgICAgCiAgICAgICAgICAgIHZhciBodG1sX2RmZDc2MzhjZjMzMjRlMzc4MGEyOTRmNTQ0MTBlNWM2ID0gJChgPGRpdiBpZD0iaHRtbF9kZmQ3NjM4Y2YzMzI0ZTM3ODBhMjk0ZjU0NDEwZTVjNiIgc3R5bGU9IndpZHRoOiAxMDAuMCU7IGhlaWdodDogMTAwLjAlOyI+WmVud2ljaDwvZGl2PmApWzBdOwogICAgICAgICAgICBwb3B1cF9lZDZhZDE1ZTQwMGY0M2ZmODhkZmQ4ZjU0ODM4YmM3MC5zZXRDb250ZW50KGh0bWxfZGZkNzYzOGNmMzMyNGUzNzgwYTI5NGY1NDQxMGU1YzYpOwogICAgICAgIAoKICAgICAgICBtYXJrZXJfNzU1MGFiYmE2M2I5NDQ4MGI1NWY5YTRkM2FmOTZkYjUuYmluZFBvcHVwKHBvcHVwX2VkNmFkMTVlNDAwZjQzZmY4OGRmZDhmNTQ4MzhiYzcwKQogICAgICAgIDsKCiAgICAgICAgCiAgICAKICAgIAogICAgICAgICAgICB2YXIgbWFya2VyX2QzZmUxMTYwNjMxZDRiMzU4MDVlZWM5NzZmZDkwNzdmID0gTC5tYXJrZXIoCiAgICAgICAgICAgICAgICBbNDEuODgzMTA2MSwgLTg3LjYyNTQzODFdLAogICAgICAgICAgICAgICAge30KICAgICAgICAgICAgKS5hZGRUbyhtYXBfMWRhMmI1MDI2YTc2NDg3YWIxMTI4OTIzNDI0ZjUyNTYpOwogICAgICAgIAogICAgCiAgICAgICAgdmFyIHBvcHVwX2ZkOGYzN2YxYjk4YTQ0MGZiMTJlMWVmMjE0YjRkYTYzID0gTC5wb3B1cCh7Im1heFdpZHRoIjogIjEwMCUifSk7CgogICAgICAgIAogICAgICAgICAgICB2YXIgaHRtbF8xNjg5ODc2M2I3MDU0ZmM4OTdhZmQ3NzM4ZjNjMTdhZCA9ICQoYDxkaXYgaWQ9Imh0bWxfMTY4OTg3NjNiNzA1NGZjODk3YWZkNzczOGYzYzE3YWQiIHN0eWxlPSJ3aWR0aDogMTAwLjAlOyBoZWlnaHQ6IDEwMC4wJTsiPlRvbmkgUGF0aXNzZXJpZTwvZGl2PmApWzBdOwogICAgICAgICAgICBwb3B1cF9mZDhmMzdmMWI5OGE0NDBmYjEyZTFlZjIxNGI0ZGE2My5zZXRDb250ZW50KGh0bWxfMTY4OTg3NjNiNzA1NGZjODk3YWZkNzczOGYzYzE3YWQpOwogICAgICAgIAoKICAgICAgICBtYXJrZXJfZDNmZTExNjA2MzFkNGIzNTgwNWVlYzk3NmZkOTA3N2YuYmluZFBvcHVwKHBvcHVwX2ZkOGYzN2YxYjk4YTQ0MGZiMTJlMWVmMjE0YjRkYTYzKQogICAgICAgIDsKCiAgICAgICAgCiAgICAKICAgIAogICAgICAgICAgICB2YXIgbWFya2VyXzQyMTE3NGI4YjRkYzRlZDk4NTVjNzM3NjZhYTQ2ODU4ID0gTC5tYXJrZXIoCiAgICAgICAgICAgICAgICBbNDEuOTQzMTYzMiwgLTg3LjY0NDUwNzFdLAogICAgICAgICAgICAgICAge30KICAgICAgICAgICAgKS5hZGRUbyhtYXBfMWRhMmI1MDI2YTc2NDg3YWIxMTI4OTIzNDI0ZjUyNTYpOwogICAgICAgIAogICAgCiAgICAgICAgdmFyIHBvcHVwXzgwOWU2MjBmNmM2NzQxNjI5YWI1YzI4NDJiYmQ1ZWYxID0gTC5wb3B1cCh7Im1heFdpZHRoIjogIjEwMCUifSk7CgogICAgICAgIAogICAgICAgICAgICB2YXIgaHRtbF8wMWFjY2JmNTExZDA0MWZiYTA5MWNlOTZlMDFhOGFlZCA9ICQoYDxkaXYgaWQ9Imh0bWxfMDFhY2NiZjUxMWQwNDFmYmEwOTFjZTk2ZTAxYThhZWQiIHN0eWxlPSJ3aWR0aDogMTAwLjAlOyBoZWlnaHQ6IDEwMC4wJTsiPlBob2ViZeKAmXMgQmFrZXJ5PC9kaXY+YClbMF07CiAgICAgICAgICAgIHBvcHVwXzgwOWU2MjBmNmM2NzQxNjI5YWI1YzI4NDJiYmQ1ZWYxLnNldENvbnRlbnQoaHRtbF8wMWFjY2JmNTExZDA0MWZiYTA5MWNlOTZlMDFhOGFlZCk7CiAgICAgICAgCgogICAgICAgIG1hcmtlcl80MjExNzRiOGI0ZGM0ZWQ5ODU1YzczNzY2YWE0Njg1OC5iaW5kUG9wdXAocG9wdXBfODA5ZTYyMGY2YzY3NDE2MjlhYjVjMjg0MmJiZDVlZjEpCiAgICAgICAgOwoKICAgICAgICAKICAgIAo8L3NjcmlwdD4= onload=\"this.contentDocument.open();this.contentDocument.write(atob(this.getAttribute('data-html')));this.contentDocument.close();\" allowfullscreen webkitallowfullscreen mozallowfullscreen></iframe></div></div>"
      ],
      "text/plain": [
       "<folium.folium.Map at 0x17b3b1551c8>"
      ]
     },
     "execution_count": 77,
     "metadata": {},
     "output_type": "execute_result"
    }
   ],
   "source": [
    "mapping = folium.Map(location=[df['lat'].mean(), df['lng'].mean()], \n",
    "                     zoom_start=11)\n",
    "\n",
    "for n in df.index:\n",
    "    if df['address'][n] != 'Multiple':\n",
    "        folium.Marker([df['lat'][n], df['lng'][n]], \n",
    "                                      popup=df['cafe'][n]).add_to(mapping)\n",
    "\n",
    "mapping"
   ]
  },
  {
   "cell_type": "code",
   "execution_count": 78,
   "metadata": {},
   "outputs": [],
   "source": [
    "df.to_csv('chicago3.csv', sep=',', encoding=\"UTF-8\")"
   ]
  },
  {
   "cell_type": "code",
   "execution_count": null,
   "metadata": {},
   "outputs": [],
   "source": []
  }
 ],
 "metadata": {
  "kernelspec": {
   "display_name": "Python 3",
   "language": "python",
   "name": "python3"
  },
  "language_info": {
   "codemirror_mode": {
    "name": "ipython",
    "version": 3
   },
   "file_extension": ".py",
   "mimetype": "text/x-python",
   "name": "python",
   "nbconvert_exporter": "python",
   "pygments_lexer": "ipython3",
   "version": "3.7.6"
  }
 },
 "nbformat": 4,
 "nbformat_minor": 4
}
