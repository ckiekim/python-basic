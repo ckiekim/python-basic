{
 "cells": [
  {
   "cell_type": "markdown",
   "metadata": {},
   "source": [
    "# Chapter 07. 함수"
   ]
  },
  {
   "cell_type": "code",
   "execution_count": 1,
   "metadata": {},
   "outputs": [
    {
     "name": "stdout",
     "output_type": "stream",
     "text": [
      "안녕하세요.\n"
     ]
    }
   ],
   "source": [
    "# ex 7-1\n",
    "def hello():\n",
    "    print('안녕하세요.')\n",
    "    \n",
    "hello()"
   ]
  },
  {
   "cell_type": "code",
   "execution_count": 3,
   "metadata": {},
   "outputs": [
    {
     "name": "stdout",
     "output_type": "stream",
     "text": [
      "7 홀수\n",
      "4 짝수\n"
     ]
    }
   ],
   "source": [
    "# ex 7-2\n",
    "def even_odd(number):\n",
    "    if number % 2 == 0:\n",
    "        print(number, '짝수')\n",
    "    else:\n",
    "        print(number, '홀수')\n",
    "        \n",
    "even_odd(7)\n",
    "even_odd(4)"
   ]
  },
  {
   "cell_type": "code",
   "execution_count": 4,
   "metadata": {},
   "outputs": [
    {
     "name": "stdout",
     "output_type": "stream",
     "text": [
      "덧셈 5\n",
      "뺄셈 -1\n"
     ]
    }
   ],
   "source": [
    "def add_sub(num1, num2):\n",
    "    print('덧셈', num1+num2)\n",
    "    print('뺄셈', num1-num2)\n",
    "    \n",
    "add_sub(2, 3)"
   ]
  },
  {
   "cell_type": "code",
   "execution_count": 5,
   "metadata": {},
   "outputs": [
    {
     "name": "stdout",
     "output_type": "stream",
     "text": [
      "김지영님은 빨강을 좋아하지 않습니다.\n",
      "홍채영님은 노랑을 조금 좋아합니다.\n",
      "진소진님은 파랑을 매우 좋아합니다.\n"
     ]
    }
   ],
   "source": [
    "# ex 7-3\n",
    "def favorate_color(name, color, amount) :\n",
    "    if (amount == 1) :\n",
    "        print('%s님은 %s을 좋아하지 않습니다.' % (name, color))\n",
    "    elif (amount == 2) :\n",
    "        print('%s님은 %s을 조금 좋아합니다.' % (name, color))\n",
    "    else :\n",
    "        print('%s님은 %s을 매우 좋아합니다.' % (name, color))\n",
    "\n",
    "favorate_color('김지영', '빨강', 1)\n",
    "favorate_color('홍채영', '노랑', 2)\n",
    "favorate_color('진소진', '파랑', 3)    "
   ]
  },
  {
   "cell_type": "code",
   "execution_count": 6,
   "metadata": {},
   "outputs": [],
   "source": [
    "# ex 7-4\n",
    "def average(*scores):\n",
    "    print(scores)\n",
    "    sum = 0\n",
    "    for score in scores:\n",
    "        sum += score\n",
    "    avg = sum / len(scores)\n",
    "    print('%d과목의 평균 : %.2f' % (len(scores), avg))"
   ]
  },
  {
   "cell_type": "code",
   "execution_count": 8,
   "metadata": {},
   "outputs": [
    {
     "name": "stdout",
     "output_type": "stream",
     "text": [
      "(80, 90, 100)\n",
      "3과목의 평균 : 90.00\n"
     ]
    }
   ],
   "source": [
    "average(80, 90, 100)"
   ]
  },
  {
   "cell_type": "code",
   "execution_count": 9,
   "metadata": {},
   "outputs": [
    {
     "name": "stdout",
     "output_type": "stream",
     "text": [
      "(80, 73, 76, 86, 82)\n",
      "5과목의 평균 : 79.40\n"
     ]
    }
   ],
   "source": [
    "average(80, 73, 76, 86, 82)"
   ]
  },
  {
   "cell_type": "code",
   "execution_count": 10,
   "metadata": {},
   "outputs": [],
   "source": [
    "# ex 7-7\n",
    "def circle(radius):\n",
    "    area = 3.14 * radius * radius\n",
    "    return area"
   ]
  },
  {
   "cell_type": "code",
   "execution_count": 11,
   "metadata": {},
   "outputs": [
    {
     "name": "stdout",
     "output_type": "stream",
     "text": [
      "원의 반지름을 입력하세요 : 5\n",
      "반지름 : 5, 원의 면적 : 78.50\n"
     ]
    }
   ],
   "source": [
    "radius = int(input('원의 반지름을 입력하세요 : '))\n",
    "result = circle(radius)\n",
    "print('반지름 : %d, 원의 면적 : %.2f' % (radius, result))"
   ]
  },
  {
   "cell_type": "code",
   "execution_count": 12,
   "metadata": {},
   "outputs": [],
   "source": [
    "def new_circle(radius):\n",
    "    area = 3.14 * radius * radius\n",
    "    circum = 2 * 3.14 * radius\n",
    "    return area, circum"
   ]
  },
  {
   "cell_type": "code",
   "execution_count": 13,
   "metadata": {},
   "outputs": [
    {
     "name": "stdout",
     "output_type": "stream",
     "text": [
      "원의 반지름을 입력하세요 : 5\n",
      "반지름 : 5, 원의 면적 : 78.50, 원의 둘레 : 31.40\n"
     ]
    }
   ],
   "source": [
    "radius = int(input('원의 반지름을 입력하세요 : '))\n",
    "res1, res2 = new_circle(radius)\n",
    "print('반지름 : %d, 원의 면적 : %.2f, 원의 둘레 : %.2f' % (radius, res1, res2))"
   ]
  },
  {
   "cell_type": "code",
   "execution_count": 14,
   "metadata": {},
   "outputs": [],
   "source": [
    "# Keyword형 인수\n",
    "def personal_info(name, age, address):\n",
    "    print('이름: ', name)\n",
    "    print('나이: ', age)\n",
    "    print('주소: ', address)"
   ]
  },
  {
   "cell_type": "code",
   "execution_count": 15,
   "metadata": {},
   "outputs": [
    {
     "name": "stdout",
     "output_type": "stream",
     "text": [
      "이름:  홍길동\n",
      "나이:  30\n",
      "주소:  서울시 용산구 이촌동\n"
     ]
    }
   ],
   "source": [
    "personal_info('홍길동', 30, '서울시 용산구 이촌동')"
   ]
  },
  {
   "cell_type": "code",
   "execution_count": 16,
   "metadata": {},
   "outputs": [
    {
     "name": "stdout",
     "output_type": "stream",
     "text": [
      "이름:  홍길동\n",
      "나이:  30\n",
      "주소:  서울시 용산구 이촌동\n"
     ]
    }
   ],
   "source": [
    "personal_info(age=30, address='서울시 용산구 이촌동', name='홍길동')"
   ]
  },
  {
   "cell_type": "code",
   "execution_count": 17,
   "metadata": {},
   "outputs": [
    {
     "name": "stdout",
     "output_type": "stream",
     "text": [
      "이름:  홍길동\n",
      "나이:  30\n",
      "주소:  서울시 용산구 이촌동\n"
     ]
    }
   ],
   "source": [
    "# dictionary unpacking\n",
    "x = {'name': '홍길동', 'age': 30, 'address': '서울시 용산구 이촌동'}\n",
    "personal_info(**x)"
   ]
  },
  {
   "cell_type": "code",
   "execution_count": 18,
   "metadata": {},
   "outputs": [
    {
     "name": "stdout",
     "output_type": "stream",
     "text": [
      "(70, 80, 90, 95)\n",
      "4과목의 평균 : 83.75\n"
     ]
    }
   ],
   "source": [
    "# tuple unpacking\n",
    "y = (70, 80, 90, 95)\n",
    "average(*y)"
   ]
  },
  {
   "cell_type": "code",
   "execution_count": 19,
   "metadata": {},
   "outputs": [],
   "source": [
    "# 키워드형 가변인수\n",
    "def personal_info(**kwargs):\n",
    "    for kw, val in kwargs.items():\n",
    "        print(kw, ': ', val, sep='')"
   ]
  },
  {
   "cell_type": "code",
   "execution_count": 20,
   "metadata": {},
   "outputs": [
    {
     "name": "stdout",
     "output_type": "stream",
     "text": [
      "name: 홍길동\n",
      "age: 30\n",
      "address: 서울시 용산구 이촌동\n"
     ]
    }
   ],
   "source": [
    "x = {'name': '홍길동', 'age': 30, 'address': '서울시 용산구 이촌동'}\n",
    "personal_info(**x)"
   ]
  },
  {
   "cell_type": "code",
   "execution_count": 21,
   "metadata": {},
   "outputs": [],
   "source": [
    "# 위치형 가변인수 + 키워드형 가변인수\n",
    "def custom_print(*args, **kwargs):\n",
    "    print(*args, **kwargs)"
   ]
  },
  {
   "cell_type": "code",
   "execution_count": 23,
   "metadata": {},
   "outputs": [
    {
     "name": "stdout",
     "output_type": "stream",
     "text": [
      "1:2:3=========="
     ]
    }
   ],
   "source": [
    "custom_print(1, 2, 3, sep=':', end='='*10)"
   ]
  },
  {
   "cell_type": "code",
   "execution_count": 24,
   "metadata": {},
   "outputs": [
    {
     "name": "stdout",
     "output_type": "stream",
     "text": [
      "10 ~ 100의 정수 합계 : 5005\n",
      "100 ~ 1000의 정수 합계 : 495550\n",
      "1000 ~ 10000의 정수 합계 : 49505500\n"
     ]
    }
   ],
   "source": [
    "# Q 7-1. 함수로 정수 합계 구하기\n",
    "def sum(start, end) :\n",
    "    total = 0\n",
    "    for i in range(start, end+1) :\n",
    "        total += i\n",
    "    print('%d ~ %d의 정수 합계 : %d' % (start, end, total))\n",
    "\n",
    "sum(10, 100) \n",
    "sum(100, 1000) \n",
    "sum(1000, 10000)"
   ]
  },
  {
   "cell_type": "code",
   "execution_count": 25,
   "metadata": {},
   "outputs": [
    {
     "name": "stdout",
     "output_type": "stream",
     "text": [
      "시작 수를 입력하세요: 10\n",
      "끝 수를 입력하세요: 100\n",
      "합계를 구할 배수를 입력하세요: 5\n",
      "10 ~ 100의 정수 중 5의 배수의 합 : 1045\n"
     ]
    }
   ],
   "source": [
    "# Q 7-2. 함수로 배수 합계 구하기\n",
    "def sum_multiple(n1, n2, num) :    \n",
    "    sum = 0\n",
    "    for i in range(n1, n2+1) :\n",
    "        if i % num == 0 :\n",
    "            sum += i\n",
    "    return sum\n",
    "\n",
    "start = int(input('시작 수를 입력하세요: ')) \n",
    "end = int(input('끝 수를 입력하세요: ')) \n",
    "multiple = int(input('합계를 구할 배수를 입력하세요: '))\n",
    "\n",
    "result = sum_multiple(start, end, multiple)\n",
    "\n",
    "print('%d ~ %d의 정수 중 %d의 배수의 합 : %d' % (start, end, multiple, result))"
   ]
  },
  {
   "cell_type": "code",
   "execution_count": 26,
   "metadata": {},
   "outputs": [
    {
     "name": "stdout",
     "output_type": "stream",
     "text": [
      "첫 번째 수를 입력하세요: 256\n",
      "두 번째 수를 입력하세요: 342\n",
      "256과(와) 342의 최대공약수 : 2\n"
     ]
    }
   ],
   "source": [
    "# Q 7-3. 함수로 최대공약수 구하기\n",
    "def computeGCM(x, y):\n",
    "    if x > y:\n",
    "        small = y\n",
    "    else:\n",
    "        small = x \n",
    "\n",
    "    for i in range(1, small+1):\n",
    "        if((x % i == 0) and (y % i == 0)):\n",
    "            result = i\n",
    "            \n",
    "    return result\n",
    "\n",
    "num1 = int(input(\"첫 번째 수를 입력하세요: \")) \n",
    "num2 = int(input(\"두 번째 수를 입력하세요: \"))\n",
    "\n",
    "val_GCM = computeGCM(num1, num2)\n",
    "\n",
    "print('%d과(와) %d의 최대공약수 : %d' % (num1, num2, val_GCM))"
   ]
  },
  {
   "cell_type": "code",
   "execution_count": 27,
   "metadata": {},
   "outputs": [],
   "source": [
    "# 완전수(Perfect Number)\n",
    "def sum_yaksu(n):\n",
    "    sum = 0\n",
    "    for i in range(1, n):\n",
    "        if n % i == 0:\n",
    "            sum += i\n",
    "    return sum"
   ]
  },
  {
   "cell_type": "code",
   "execution_count": 34,
   "metadata": {},
   "outputs": [
    {
     "name": "stdout",
     "output_type": "stream",
     "text": [
      "6\n",
      "28\n",
      "496\n",
      "8128\n"
     ]
    }
   ],
   "source": [
    "for i in range(1, 10001):\n",
    "    if i == sum_yaksu(i):\n",
    "        print(i)"
   ]
  },
  {
   "cell_type": "markdown",
   "metadata": {},
   "source": [
    "## Scope Rule"
   ]
  },
  {
   "cell_type": "code",
   "execution_count": 37,
   "metadata": {},
   "outputs": [
    {
     "name": "stdout",
     "output_type": "stream",
     "text": [
      "10\n"
     ]
    },
    {
     "ename": "NameError",
     "evalue": "name 'xx' is not defined",
     "output_type": "error",
     "traceback": [
      "\u001b[1;31m---------------------------------------------------------------------------\u001b[0m",
      "\u001b[1;31mNameError\u001b[0m                                 Traceback (most recent call last)",
      "\u001b[1;32m<ipython-input-37-f26ac4cad40a>\u001b[0m in \u001b[0;36m<module>\u001b[1;34m\u001b[0m\n\u001b[0;32m      5\u001b[0m \u001b[1;33m\u001b[0m\u001b[0m\n\u001b[0;32m      6\u001b[0m \u001b[0mfunc\u001b[0m\u001b[1;33m(\u001b[0m\u001b[1;33m)\u001b[0m\u001b[1;33m\u001b[0m\u001b[1;33m\u001b[0m\u001b[0m\n\u001b[1;32m----> 7\u001b[1;33m \u001b[0mprint\u001b[0m\u001b[1;33m(\u001b[0m\u001b[0mxx\u001b[0m\u001b[1;33m)\u001b[0m\u001b[1;33m\u001b[0m\u001b[1;33m\u001b[0m\u001b[0m\n\u001b[0m",
      "\u001b[1;31mNameError\u001b[0m: name 'xx' is not defined"
     ]
    }
   ],
   "source": [
    "# ex 7-10\n",
    "def func() :\n",
    "    xx = 10\n",
    "    print(xx)\n",
    "\n",
    "func()\n",
    "print(xx)"
   ]
  },
  {
   "cell_type": "code",
   "execution_count": 41,
   "metadata": {},
   "outputs": [
    {
     "name": "stdout",
     "output_type": "stream",
     "text": [
      "10\n",
      "140735204663984\n",
      "10\n",
      "140735204663984\n"
     ]
    }
   ],
   "source": [
    "# ex 7-11\n",
    "def func() :\n",
    "    print(xxx)\n",
    "    print(id(xxx))\n",
    "    \n",
    "xxx = 10\n",
    "print(xxx)\n",
    "print(id(xxx))\n",
    "func()"
   ]
  },
  {
   "cell_type": "code",
   "execution_count": 42,
   "metadata": {},
   "outputs": [
    {
     "name": "stdout",
     "output_type": "stream",
     "text": [
      "10\n",
      "140735204663984\n",
      "100\n",
      "140735204666864\n",
      "100\n",
      "140735204666864\n"
     ]
    }
   ],
   "source": [
    "# ex 7-13\n",
    "def func() :\n",
    "    global xxx\n",
    "    xxx = 100\n",
    "    print(xxx)\n",
    "    print(id(xxx))\n",
    "    \n",
    "xxx = 10\n",
    "print(xxx)\n",
    "print(id(xxx))\n",
    "func()\n",
    "print(xxx)\n",
    "print(id(xxx))"
   ]
  },
  {
   "cell_type": "markdown",
   "metadata": {},
   "source": [
    "## File 입출력"
   ]
  },
  {
   "cell_type": "code",
   "execution_count": 44,
   "metadata": {},
   "outputs": [
    {
     "name": "stdout",
     "output_type": "stream",
     "text": [
      "파일 쓰기 완료!\n"
     ]
    }
   ],
   "source": [
    "# ex 7-14\n",
    "file = open('sample.txt', 'w', encoding='utf8')\n",
    "file.write('안녕하세요. 반갑습니다.')\n",
    "file.close()\n",
    "print('파일 쓰기 완료!')"
   ]
  },
  {
   "cell_type": "code",
   "execution_count": 45,
   "metadata": {},
   "outputs": [],
   "source": [
    "file = open('sample.txt', 'a', encoding='utf8')\n",
    "file.write('안녕하세요. 반갑습니다.')\n",
    "file.close()"
   ]
  },
  {
   "cell_type": "code",
   "execution_count": 47,
   "metadata": {},
   "outputs": [
    {
     "name": "stdout",
     "output_type": "stream",
     "text": [
      "김소영 82 80 93 97 93 88\n",
      "정예린 86 100 93 86 90 77\n",
      "이세영 91 88 99 79 92 68\n",
      "정수정 86 100 93 89 92 93\n",
      "박지수 80 100 95 89 90 84\n",
      "\n"
     ]
    }
   ],
   "source": [
    "# ex 7-15\n",
    "scores = ['김소영 82 80 93 97 93 88',\n",
    "           '정예린 86 100 93 86 90 77',\n",
    "           '이세영 91 88 99 79 92 68',\n",
    "           '정수정 86 100 93 89 92 93',\n",
    "           '박지수 80 100 95 89 90 84']\n",
    "data = ''\n",
    "for item in scores :\n",
    "    data += item + '\\n'\n",
    "\n",
    "# 화면 출력하기    \n",
    "print(data)\n",
    "\n",
    "# 파일(scores.txt)에 저장하기\n",
    "file = open('scores.txt', 'w', encoding='utf8' )\n",
    "file.write(data)\n",
    "file.close()"
   ]
  },
  {
   "cell_type": "code",
   "execution_count": 49,
   "metadata": {},
   "outputs": [
    {
     "name": "stdout",
     "output_type": "stream",
     "text": [
      "scores.txt 파일의 내용 : \n",
      "김소영 82 80 93 97 93 88\n",
      "정예린 86 100 93 86 90 77\n",
      "이세영 91 88 99 79 92 68\n",
      "정수정 86 100 93 89 92 93\n",
      "박지수 80 100 95 89 90 84\n",
      "['김소영 82 80 93 97 93 88\\n', '정예린 86 100 93 86 90 77\\n', '이세영 91 88 99 79 92 68\\n', '정수정 86 100 93 89 92 93\\n', '박지수 80 100 95 89 90 84\\n']\n"
     ]
    }
   ],
   "source": [
    "# ex 7-16\n",
    "file = open('scores.txt', 'r', encoding='utf8')\n",
    "lines = file.readlines()\n",
    "\n",
    "print('scores.txt 파일의 내용 : ')\n",
    "for line in lines :\n",
    "    print(line, end='')\n",
    "    \n",
    "file.close()\n",
    "print(lines)"
   ]
  },
  {
   "cell_type": "code",
   "execution_count": null,
   "metadata": {},
   "outputs": [],
   "source": []
  }
 ],
 "metadata": {
  "kernelspec": {
   "display_name": "Python 3",
   "language": "python",
   "name": "python3"
  },
  "language_info": {
   "codemirror_mode": {
    "name": "ipython",
    "version": 3
   },
   "file_extension": ".py",
   "mimetype": "text/x-python",
   "name": "python",
   "nbconvert_exporter": "python",
   "pygments_lexer": "ipython3",
   "version": "3.7.6"
  }
 },
 "nbformat": 4,
 "nbformat_minor": 4
}
